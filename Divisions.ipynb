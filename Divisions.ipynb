{
 "cells": [
  {
   "cell_type": "code",
   "execution_count": 1,
   "id": "86ba666b",
   "metadata": {},
   "outputs": [],
   "source": [
    "import pandas as pd\n",
    "import re\n",
    "from collections import Counter\n",
    "pd.options.mode.chained_assignment = None  # default='warn'"
   ]
  },
  {
   "cell_type": "code",
   "execution_count": 2,
   "id": "3871aa3e",
   "metadata": {},
   "outputs": [],
   "source": [
    "def assignDivision(divisionsDict, divisions):\n",
    "    for key in divisionsDict:\n",
    "        div = re.split(r' |/|\\+|,|-', divisionsDict[key])\n",
    "        for d in divisions: #loop through list with known divisions\n",
    "            if d in div:\n",
    "                assignedDiv = d\n",
    "                break\n",
    "        divisionDict[key] = {'Assigned division': assignedDiv}\n",
    "    return divisionDict"
   ]
  },
  {
   "cell_type": "code",
   "execution_count": 3,
   "id": "8514d349",
   "metadata": {},
   "outputs": [],
   "source": [
    "#load \n",
    "researchers = pd.read_pickle(\"Files/Dataframes/researchers_wGender.pkl\")\n",
    "researchers['Division'] = researchers.Division.fillna('Unknown')"
   ]
  },
  {
   "cell_type": "code",
   "execution_count": 4,
   "id": "f5606e5b",
   "metadata": {},
   "outputs": [],
   "source": [
    "#APS Units\n",
    "sponsorFile = open(\"Files/sponsoringUnits.txt\", \"r\").read()\n",
    "sponsorList = sponsorFile.replace('\\n', ';').split(';')\n",
    "sponsor_abr = re.findall(r'\\((.*)\\)', sponsorFile) #abbreviations for the sponsoring units\n",
    "sponsorNames = re.findall(r'(.*) \\(', sponsorFile) #ful name of sponsoring unit"
   ]
  },
  {
   "cell_type": "code",
   "execution_count": 5,
   "id": "da07e2a8",
   "metadata": {},
   "outputs": [],
   "source": [
    "researchers['AllDivisions'] = researchers.Division.str.split(r' |/|\\+|,|-')\n",
    "researcher_divisions = researchers.explode('AllDivisions') "
   ]
  },
  {
   "cell_type": "code",
   "execution_count": 6,
   "id": "ad3bbf2c",
   "metadata": {},
   "outputs": [],
   "source": [
    "#df with only divisions known from the APS homepage\n",
    "researcher_knownDivisions = researcher_divisions[researcher_divisions.AllDivisions.isin(sponsor_abr)]"
   ]
  },
  {
   "cell_type": "code",
   "execution_count": 7,
   "id": "d61c7ec5",
   "metadata": {},
   "outputs": [],
   "source": [
    "sponsorDict = dict(zip(sponsor_abr, sponsorNames))"
   ]
  },
  {
   "cell_type": "code",
   "execution_count": 8,
   "id": "b11b812e",
   "metadata": {},
   "outputs": [],
   "source": [
    "researcher_knownDivisions['Division'] = researcher_knownDivisions['AllDivisions'].apply(lambda x: sponsorDict.get(x))\n",
    "#researcher_knownDivisions[\"Division\"].apply(lambda x: d.get(x))"
   ]
  },
  {
   "cell_type": "code",
   "execution_count": 11,
   "id": "53a7f180",
   "metadata": {},
   "outputs": [],
   "source": [
    "#remove division column with abbreviations\n",
    "researcher_knownDivisions = researcher_knownDivisions.drop('AllDivisions', axis = 1)\n"
   ]
  },
  {
   "cell_type": "code",
   "execution_count": 12,
   "id": "90e23b56",
   "metadata": {},
   "outputs": [],
   "source": [
    "researcher_knownDivisions.to_pickle(\"Files/Dataframes/researchersFinal.pkl\") "
   ]
  }
 ],
 "metadata": {
  "kernelspec": {
   "display_name": "Python 3 (ipykernel)",
   "language": "python",
   "name": "python3"
  },
  "language_info": {
   "codemirror_mode": {
    "name": "ipython",
    "version": 3
   },
   "file_extension": ".py",
   "mimetype": "text/x-python",
   "name": "python",
   "nbconvert_exporter": "python",
   "pygments_lexer": "ipython3",
   "version": "3.9.13"
  }
 },
 "nbformat": 4,
 "nbformat_minor": 5
}
