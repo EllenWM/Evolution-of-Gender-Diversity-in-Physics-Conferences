{
 "cells": [
  {
   "cell_type": "code",
   "execution_count": 1,
   "id": "b5e9f9af",
   "metadata": {},
   "outputs": [],
   "source": [
    "import requests\n",
    "import re\n",
    "import json\n",
    "import pandas as pd\n",
    "import pickle\n",
    "from tqdm import tqdm"
   ]
  },
  {
   "cell_type": "code",
   "execution_count": 27,
   "id": "1c806a65",
   "metadata": {},
   "outputs": [],
   "source": [
    "researchers = pd.read_pickle(\"Files/Dataframes/researchers_unique.pkl\") #all researchers(wihtout gender)"
   ]
  },
  {
   "cell_type": "code",
   "execution_count": 54,
   "id": "cf9f9b6b",
   "metadata": {},
   "outputs": [
    {
     "ename": "NameError",
     "evalue": "name 'rese31chers' is not defined",
     "output_type": "error",
     "traceback": [
      "\u001b[0;31m---------------------------------------------------------------------------\u001b[0m",
      "\u001b[0;31mNameError\u001b[0m                                 Traceback (most recent call last)",
      "Cell \u001b[0;32mIn[54], line 1\u001b[0m\n\u001b[0;32m----> 1\u001b[0m nameList \u001b[38;5;241m=\u001b[39m \u001b[38;5;28mlist\u001b[39m(\u001b[43mrese31chers\u001b[49m\u001b[38;5;241m.\u001b[39mName\u001b[38;5;241m.\u001b[39munique())\n",
      "\u001b[0;31mNameError\u001b[0m: name 'rese31chers' is not defined"
     ]
    }
   ],
   "source": [
    "nameList = list(resaechers.Name.unique())"
   ]
  },
  {
   "cell_type": "code",
   "execution_count": null,
   "id": "058f643e",
   "metadata": {},
   "outputs": [],
   "source": [
    "nameList[84001:]"
   ]
  },
  {
   "cell_type": "code",
   "execution_count": 83,
   "id": "8f6b33ab",
   "metadata": {},
   "outputs": [
    {
     "data": {
      "text/plain": [
       "['Damini Gupta',\n",
       " 'Jeremy J. Miller',\n",
       " 'Abhiram Muralidhar',\n",
       " 'Sara Mahshid',\n",
       " 'Walter Reisner',\n",
       " 'Kevin D. Dorfman',\n",
       " 'Philippe St-Jean',\n",
       " 'George Seryogin',\n",
       " 'Sebastien Francoeur',\n",
       " 'Caolan John',\n",
       " 'Minyong Han',\n",
       " 'Joseph G Checkelsky',\n",
       " 'Weicheng Lv',\n",
       " 'Jiansheng Wu',\n",
       " 'Philip Phillips',\n",
       " 'Jonathan P Home',\n",
       " 'Joseph Hardcastle',\n",
       " 'Laura Martinez',\n",
       " 'Nina Salama',\n",
       " 'Rama Bansil',\n",
       " 'Boston University, University of Washington',\n",
       " 'Sara Al Bassri',\n",
       " 'Wylie Ahmed',\n",
       " 'Caitlin Kengle',\n",
       " 'Maitri Warusawithana',\n",
       " 'Dakota Brown',\n",
       " 'James Payne',\n",
       " 'Thomas Pekarek',\n",
       " 'Kieran Mullen',\n",
       " 'Bruno Uchoa',\n",
       " 'D. Glatzhofer',\n",
       " 'David Abergel',\n",
       " 'Paul Malinowski',\n",
       " 'Qianni Jiang',\n",
       " 'Yue Shi',\n",
       " 'Zhaoyu Liu',\n",
       " 'Jiun-Haw Chu',\n",
       " 'Enrique Gomez',\n",
       " 'Kendal Clark',\n",
       " 'Shengyong Qin',\n",
       " 'Xiaoguang Zhang',\n",
       " 'John Wendelken',\n",
       " 'An-Ping Li',\n",
       " 'Tran Thi Toan',\n",
       " 'Thi Toan Tran, Van Quang Nguyen, Thi Hoa Vu, Anh Tuan Pham, Chanyong Hwang, Sunglae Cho',\n",
       " 'Angkun Wu',\n",
       " 'Liang Tian',\n",
       " 'Yang-Yu Liu',\n",
       " 'Ka Un Lao',\n",
       " 'Jaclyn Lunger',\n",
       " 'Junteng Jia',\n",
       " 'Robert DiStasio',\n",
       " 'Mikhail Raikh',\n",
       " 'Robert Rouny',\n",
       " 'Magan Prestgard',\n",
       " 'Ashutosh Tiwari',\n",
       " 'Eugene Mishchenko',\n",
       " 'Sung Chang',\n",
       " 'Deepak Singh',\n",
       " 'Arumugam Thamizhavel',\n",
       " 'Felix Flicker',\n",
       " 'Jasper van Wezel',\n",
       " 'Anvitha Sudhakar',\n",
       " 'Mostafa Akbari',\n",
       " 'Masoud Akbarzadeh',\n",
       " 'Andrej Kosmrlj',\n",
       " 'John Cavin',\n",
       " 'James M Rondinelli',\n",
       " 'Kazage J Christophe Utuje',\n",
       " 'Shiladitya Banerjee',\n",
       " 'M. Cristina Marchetti',\n",
       " 'Amensisa Abdi',\n",
       " 'Jan Yarrison-Rice',\n",
       " 'Jacek Kossut',\n",
       " 'Mohammad Ansari',\n",
       " 'Frank Wilhelm',\n",
       " 'Urbasi Sinha',\n",
       " 'Aninda Sinha',\n",
       " 'Pinar Akcora',\n",
       " 'Yi Feng',\n",
       " 'Jun Zhu',\n",
       " 'Nirvana Caballero',\n",
       " 'Kazunori Sato',\n",
       " 'Hiroshi Katayama-Yoshida',\n",
       " 'Mikael Fremling',\n",
       " 'Sameer Sathaye',\n",
       " 'Darrin Pochan',\n",
       " 'Pochan Group',\n",
       " 'Yutaka Ikedo',\n",
       " 'Hiroshi Nozaki',\n",
       " 'Francois Blanchette',\n",
       " 'Marshall van Zijll',\n",
       " 'Cory Mullet',\n",
       " 'Bret Stenger',\n",
       " 'Emilie Huffman',\n",
       " 'Dylan Lovinger',\n",
       " 'William Mann',\n",
       " 'Shirley Chiang',\n",
       " 'Yuanfeng Xu',\n",
       " 'Changming Yue',\n",
       " 'Hongming Weng',\n",
       " 'Xi Dai',\n",
       " 'Zhengqian Cheng',\n",
       " 'Chris Marianetti',\n",
       " 'Ken-ichi Sasaki',\n",
       " 'Shuichi Murakami',\n",
       " 'Riichiro Saito',\n",
       " 'Julie A Kornfield',\n",
       " 'Andrew Ylitalo',\n",
       " 'Huikuan Chao',\n",
       " 'Thomas Fitzgibbons',\n",
       " 'Sriteja Mantha',\n",
       " 'Valeriy Ginzburg',\n",
       " 'Weijun Zhou',\n",
       " 'Ernesto Di Maio',\n",
       " 'Richard C Flagan',\n",
       " 'Zhen-Gang Wang',\n",
       " 'Giorgio Sangiovanni',\n",
       " 'Adriano Amaricci',\n",
       " 'Lorenzo Crippa',\n",
       " 'Niklas Wagner',\n",
       " 'Jan Budich',\n",
       " 'Massimo Capone',\n",
       " 'C Reese',\n",
       " 'S Jeon',\n",
       " 'T Hill',\n",
       " 'C Jones',\n",
       " 'S Shusterman',\n",
       " 'Y Yacoby',\n",
       " 'R Clarke',\n",
       " 'H Deng',\n",
       " 'RS Goldman',\n",
       " 'Daniel Gunlycke',\n",
       " 'Carter White',\n",
       " 'Sanat K. Kumar',\n",
       " 'Yu Li',\n",
       " 'Brian Benicewicz',\n",
       " 'Suresh Narayanan',\n",
       " 'Columbia University, University of South Carolina, Argonne National Laboratory',\n",
       " 'Gerhard Klimeck',\n",
       " 'Shaikh Ahmed',\n",
       " 'Michael B. Heaney',\n",
       " 'Xiang Li',\n",
       " 'Maxim Goryachev',\n",
       " 'Yiqiu Ma',\n",
       " 'Michael E Tobar',\n",
       " 'Chunnong Zhao',\n",
       " 'rana X adhikari',\n",
       " 'Yanbei Chen',\n",
       " 'Kristian Franze',\n",
       " 'Hanno Svoboda',\n",
       " 'Luciano da F. Costa',\n",
       " 'Jochen Guck',\n",
       " 'Christine Holt',\n",
       " 'Feng Liu',\n",
       " 'Sunzida Ferdous',\n",
       " 'Cheng Wang',\n",
       " 'Alexander Hexamer',\n",
       " 'Thomas Russell',\n",
       " 'Thomas Russell, Cheng Wang',\n",
       " 'Sanghyeok Park',\n",
       " 'Joelle J Corrigan',\n",
       " 'John P Dodson',\n",
       " 'Brandur Thorgrimsson',\n",
       " 'Samuel Neyens',\n",
       " 'Trevor Knapp',\n",
       " 'Thomas W McJunkin',\n",
       " 'Sue N Coppersmith',\n",
       " 'Mark A Eriksson',\n",
       " 'Jhih-Sheng Wu',\n",
       " 'M.M. Fogler',\n",
       " 'D.N. Basov',\n",
       " 'Seungmin Hong',\n",
       " 'University of Illinois, Urbana-Champaign',\n",
       " 'Abraham Asfaw',\n",
       " 'Jesse Balgley',\n",
       " 'Scott Dietrich',\n",
       " 'Lei Wang',\n",
       " 'Vitto Han',\n",
       " 'Bo Wen',\n",
       " 'Yuanda Gao',\n",
       " 'James Hone',\n",
       " 'Cory Dean',\n",
       " 'Arunkumar Rajan',\n",
       " 'Chiho Kim',\n",
       " 'Christopher Kuenneth',\n",
       " 'Deepak Kamal',\n",
       " 'Rishi Gurnani',\n",
       " 'Rohit Batra',\n",
       " 'Rampi Ramprasad',\n",
       " 'Ang Cai',\n",
       " 'Lei Chen',\n",
       " 'Haoyu Hu',\n",
       " 'Qimiao Si',\n",
       " 'Min-Gyu Kang',\n",
       " 'Younh-Ho Do',\n",
       " 'Seung-Min Oh',\n",
       " 'Rheza Rahayu',\n",
       " 'Yiyein Kim',\n",
       " 'Chong-Yun Kang',\n",
       " 'Sahn Nahm',\n",
       " 'Seok-Jin Yoon',\n",
       " 'Jake Shechter',\n",
       " 'Benjamin Strain',\n",
       " 'Linda Oster',\n",
       " 'Jessica Sleator',\n",
       " 'FNU Manisha',\n",
       " 'Uma Sridhar',\n",
       " 'Juan De Pablo',\n",
       " 'Sankaran Thayumanavan',\n",
       " 'Jennifer Ross',\n",
       " 'Ryan Roemer',\n",
       " 'Chong Liu',\n",
       " 'Hyungki Shin',\n",
       " 'Ke Zou',\n",
       " 'Tommy Byrd',\n",
       " 'Garrett Potter',\n",
       " 'Bo Sun',\n",
       " 'Andrew Mugler',\n",
       " 'Holger Stark',\n",
       " 'Amy X Wu',\n",
       " 'Laisi Chen',\n",
       " 'Chaitanya A Gadre',\n",
       " 'Adrian Juanson',\n",
       " 'Naol Tulu',\n",
       " 'Joshua Wang',\n",
       " 'Kenji Watanabe',\n",
       " 'Takashi Taniguchi',\n",
       " 'Xiaoqing Pan',\n",
       " 'Ruqian Wu',\n",
       " 'Javier D Sanchez-Yamagishi',\n",
       " 'Zhenisbek Tagay',\n",
       " 'Xiong Yao',\n",
       " 'Seongshik Oh',\n",
       " 'Norman P Armitage',\n",
       " 'J.-H. Park',\n",
       " 'C.C. Beedle',\n",
       " 'O.N. Risset',\n",
       " 'M.J. Andrus',\n",
       " 'D.R. Talham',\n",
       " 'M.K. Peprah',\n",
       " 'E.S. Knowles',\n",
       " 'M.W. Meisel',\n",
       " 'M. Shiddiq',\n",
       " 'S. Hill',\n",
       " 'A. Podlesnyak',\n",
       " 'G. Ehlers',\n",
       " 'S.E. Nagler',\n",
       " 'Howon Lee',\n",
       " 'Jiaping Zhang',\n",
       " 'Yonghao An',\n",
       " 'Hanqing Jiang',\n",
       " 'Nicholas Fang',\n",
       " 'Purushottam Tiwari',\n",
       " 'Xuewen Wang',\n",
       " 'Jin He',\n",
       " 'Yesim Darici',\n",
       " 'Nuwanjula Samarasingha Arachchige',\n",
       " 'Zachary Yoder',\n",
       " 'Stefan Zollner',\n",
       " 'Dipayan Pal',\n",
       " 'Aakash Mathur',\n",
       " 'Ajaib Singh',\n",
       " 'Rinki Singh',\n",
       " 'Sudeshna Chattopadhyay',\n",
       " 'Michael N. Leuenberger',\n",
       " 'Eduardo R. Mucciolo',\n",
       " 'Matthias Kath',\n",
       " 'Walther-Meissner-Institute',\n",
       " 'Yulia Lekina',\n",
       " 'Benny Febriansyah',\n",
       " 'Jiaxu Yan',\n",
       " 'Xiaofeng Fan',\n",
       " 'John Hanna',\n",
       " 'zexiang shen',\n",
       " 'Naoaki Kondo',\n",
       " 'Takahiro Yamamoto',\n",
       " 'Kazuaki Mii',\n",
       " 'Kazuyuki Watanabe',\n",
       " 'Hoi-Kwan Lau',\n",
       " 'Aashish Clerk',\n",
       " 'Jacob Wachtman',\n",
       " 'Ping Chen',\n",
       " 'P. Boochand',\n",
       " 'Ribhu Kaul',\n",
       " 'Julia Wildeboer',\n",
       " 'Jonathan Demidio',\n",
       " 'Wouter G. Ellenbroek',\n",
       " 'Jinhai Mao',\n",
       " 'Yuhang Jiang',\n",
       " 'Xinyuan Lai',\n",
       " 'Kristjan Haule',\n",
       " 'Eva Andrei',\n",
       " 'Ozge Gunaydin-Sen',\n",
       " 'Krishna Kharel',\n",
       " 'Ramanjaneyulu Seemaladinne',\n",
       " 'Lauren Ware',\n",
       " 'Suying Wei',\n",
       " 'Aaron Forde',\n",
       " 'Amanda J Neukirch',\n",
       " 'Sergei Tretiak',\n",
       " 'Amanda C Evans',\n",
       " 'Tianyi Xu',\n",
       " 'Patrick Cheung',\n",
       " 'Fengcheng Wu',\n",
       " 'Fan Zhang',\n",
       " 'Hao-Kun Li',\n",
       " 'Pedro De Souza',\n",
       " 'Ze Zhang',\n",
       " 'Joel Martis',\n",
       " 'Kyle Sendgikoski',\n",
       " 'John Cumings',\n",
       " 'Martin Bazant',\n",
       " 'Arun Majumdar',\n",
       " 'Yonuk Chong',\n",
       " 'Taewan Noh',\n",
       " 'Gwanyeol Park',\n",
       " 'Gahyun Choi',\n",
       " 'Jiman Choi',\n",
       " 'Woon Song',\n",
       " 'Soon Gul Lee',\n",
       " 'Gibog Park',\n",
       " 'Guangyong Xiong',\n",
       " \"Ren's Group\",\n",
       " 'Tribhuwan Pandey',\n",
       " 'Swastibrata Bhattacharyya',\n",
       " 'Abhishek K. Singh',\n",
       " 'Nathaniel Wentzel',\n",
       " 'Scott T. Milner',\n",
       " 'Tom Heitmann',\n",
       " 'John Gaddy',\n",
       " 'Wouter Montfrooij',\n",
       " 'Yang Tang',\n",
       " 'Mun Chan',\n",
       " 'Chelsey Dorow',\n",
       " 'Mike Veit',\n",
       " 'Yang Ge',\n",
       " 'Martin Greven',\n",
       " 'Lucile Mangin-Thro',\n",
       " 'Yvan Sidis',\n",
       " 'Philippe Bourges',\n",
       " 'Xudong Zhao',\n",
       " 'Paul Steffens',\n",
       " 'Andrew Christianson',\n",
       " 'Douglas Abernathy',\n",
       " 'Jitae Park',\n",
       " 'Giulia Ferrini',\n",
       " 'Lee A Rozema',\n",
       " 'Giulia Rubino',\n",
       " 'Philip Walther',\n",
       " 'Klaus Koepernik',\n",
       " 'Steven Johnston',\n",
       " 'Jeroen van den Brink',\n",
       " 'Erik van Heumen',\n",
       " 'Mark S. Golden',\n",
       " 'James Jun He',\n",
       " 'Tong Zhou',\n",
       " 'Yao Lu',\n",
       " 'Z.C. Gu',\n",
       " 'K.T. Law',\n",
       " 'Sadie White',\n",
       " 'Patrick Vora',\n",
       " 'James Kikkawa',\n",
       " 'John Fischer',\n",
       " 'Karen Winey',\n",
       " 'Katsuya Shimizu',\n",
       " 'Kenji Ohta',\n",
       " 'Kota Ichimaru',\n",
       " 'Takahiro Matsuoka',\n",
       " 'Yasuo Ohishi',\n",
       " 'Naohisa Hirao',\n",
       " 'KYOKUGEN, BL10XU',\n",
       " 'Jia Chen',\n",
       " 'Annabella Selloni',\n",
       " 'Parul R Raghuvanshi',\n",
       " 'Krishnaraj Kundavu',\n",
       " 'Bhavana Panwar',\n",
       " 'Prasun Keshri',\n",
       " 'Rohit Pathak',\n",
       " 'Amrita Bhattacharya',\n",
       " 'Matthias Scheffler',\n",
       " 'Yaroslav Zhumagulov',\n",
       " 'Yaroslav Zhumagulov, Tobias Frank, Jaroslav Fabian',\n",
       " 'Ryuichi Shindou',\n",
       " 'Ryo Matsumoto',\n",
       " 'Jun-ichiro Ohe',\n",
       " 'Surachate Limkumnerd',\n",
       " 'Dharamdeep Jain',\n",
       " 'Ci Zhang',\n",
       " 'Lydia Rose Cool',\n",
       " 'Todd.A. Blackledge',\n",
       " 'Chrys Wesdemiotis',\n",
       " 'Toshikazu Miyoshi',\n",
       " 'Ali Dhinojwala',\n",
       " 'Xi Cao',\n",
       " 'Gangqiang Liu',\n",
       " 'Tzu-Chiao Chien',\n",
       " 'Pinlei Lu',\n",
       " 'Michael Hatridge',\n",
       " 'Valentin Leeb',\n",
       " 'Johannes Knolle',\n",
       " 'Rasika Mohottige',\n",
       " 'Soumya Banerjee',\n",
       " 'Nuri Oncel',\n",
       " 'Rasika N Mohottige',\n",
       " 'Alexander Yue',\n",
       " 'Alexander Yue, Richard Scalettar, Marina Radulaski, Justine Partridge, Joaquin Turek, Matt Davidson, Ryan Larson, John Walker, Mark Malabanan',\n",
       " 'Yadong Xu',\n",
       " 'Bowen Yang',\n",
       " 'Chi Tang',\n",
       " 'Zilong Jiang',\n",
       " 'Jing Shi',\n",
       " 'Michael Schneider',\n",
       " 'Renu Whig',\n",
       " 'Michael Manfra',\n",
       " 'Margaret Young',\n",
       " 'Yunhua Ding',\n",
       " 'Richard Lunt',\n",
       " 'Margo Staruch',\n",
       " 'Menka Jain',\n",
       " 'Soonwon Choi',\n",
       " 'Yimu Bao',\n",
       " 'Ehud Altman',\n",
       " 'Rongting Wu',\n",
       " 'Stephen Eltinge',\n",
       " 'Ilya K Drozdov',\n",
       " 'Adrian Gozar',\n",
       " 'Percy Zahl',\n",
       " 'Jerzy T Sadowski',\n",
       " 'Sohrab Ismail-Beigi',\n",
       " 'Ivan Božović',\n",
       " 'Rongting Wu*, Stephen Eltinge, Ilya Drozdov, Adrian Gozar, Percy Zahl, Jerzy T Sadowski, Sohrab Ismail-Beigi*, Ivan Bozovic*',\n",
       " 'Alan Thompson',\n",
       " 'Jeff Sharp',\n",
       " 'Vladimir Antropov',\n",
       " 'Yun-Yi Pai',\n",
       " 'Megan Briggeman',\n",
       " 'Hyungwoo Lee',\n",
       " 'Jung-Woo Lee',\n",
       " 'Xiaoxing Cheng',\n",
       " 'Muqing Yu',\n",
       " 'Mengchen Huang',\n",
       " 'Jianan Li',\n",
       " 'Chang-Beom Eom',\n",
       " 'Long Q. Chen',\n",
       " 'Patrick Irvin',\n",
       " 'Jeremy Levy',\n",
       " 'Alina Kononov',\n",
       " 'Thomas Hentschel',\n",
       " 'Stephanie B Hansen',\n",
       " 'Andrew D Baczewski',\n",
       " 'Adrian Roitberg',\n",
       " 'Zlatko Tesanovic',\n",
       " 'Samuel Kenny',\n",
       " 'Jacqueline Krim',\n",
       " 'Hsin-Fei Meng',\n",
       " 'Dexi Shao',\n",
       " 'Chen Fang',\n",
       " 'Aaron L Chan',\n",
       " 'Guoxin Zheng',\n",
       " 'Dechen Zhang',\n",
       " 'Kuan-Wen Chen',\n",
       " 'Dmitri Mihaliov',\n",
       " 'Ziji Xiang',\n",
       " 'Yuji Matsuda',\n",
       " 'John Singleton',\n",
       " 'Lu Li',\n",
       " 'Dmitri V. Efremov',\n",
       " 'Gajin Jeong',\n",
       " 'Thomas P. Russell',\n",
       " 'Benjamin R. Sveinbjornsson',\n",
       " 'Robert H. Grubbs',\n",
       " 'Univ of Mass - Amherst, California Institute of Technology',\n",
       " 'Oleksandr Rossokhaty',\n",
       " 'LNEP, ISSP',\n",
       " 'Bernhard Mehlig',\n",
       " 'Cesar Diaz',\n",
       " 'Jorge A Munoz',\n",
       " 'Kengo Oka',\n",
       " 'Ikuya Yamada',\n",
       " 'Masaki Azuma',\n",
       " 'Mikio Takano',\n",
       " 'Yuichi Shimakawa',\n",
       " 'Soshi Takeshita',\n",
       " 'Kohki H. Satoh',\n",
       " 'Akihiro Koda',\n",
       " 'Ryosuke Kadono',\n",
       " 'Hiroshi Kojitani',\n",
       " 'Masaki Akaogi',\n",
       " 'Shojan Pavunny',\n",
       " 'Reji Thomas',\n",
       " 'Ashok Kumar',\n",
       " 'Ram Katiyar',\n",
       " \"Kathryn O'Hara\",\n",
       " 'David Ostrowski',\n",
       " 'Christopher Takacs',\n",
       " 'Unsal Koldemir',\n",
       " 'Sean Shaheen',\n",
       " 'Alan Sellinger',\n",
       " 'Michael Chabinyc',\n",
       " 'Joshua J Sanchez',\n",
       " 'Gilberto F L Fabbris',\n",
       " 'Yongseong Choi',\n",
       " 'Jian Liu',\n",
       " 'Igor Mazin',\n",
       " 'Jong-Woo Kim',\n",
       " 'Philip James Ryan',\n",
       " 'Md Mahbubul Islam',\n",
       " 'Alejandro Strachan',\n",
       " 'Qiang Sun',\n",
       " 'Christopher Ciccarino',\n",
       " 'Johannes Flick',\n",
       " 'Matthew Trusheim',\n",
       " 'Prineha Narang',\n",
       " 'Richard Bailey',\n",
       " 'Nic Mullin',\n",
       " 'Robert Turner',\n",
       " 'Simon Foster',\n",
       " 'Jamie Hobbs',\n",
       " 'Anupam Neogi',\n",
       " 'Nilanjan Mitra',\n",
       " 'Subodh Tiwari',\n",
       " 'Ankit Mishra',\n",
       " 'Chunyang Sheng',\n",
       " 'Pankaj Rajak',\n",
       " 'Rajiv Kalia',\n",
       " 'Aiichiro Nakano',\n",
       " 'Priya Vashishta',\n",
       " 'Mengxing Ye',\n",
       " 'Colin Whisler',\n",
       " 'Gregory R Holdman',\n",
       " 'Victor W Brar',\n",
       " 'Deniz D Yavuz',\n",
       " 'Yan Wen',\n",
       " 'Penger Tong',\n",
       " 'Zhihao Li',\n",
       " 'Haiqin Wang',\n",
       " 'Jing Zheng',\n",
       " 'Jinyao Tang',\n",
       " 'Pik-Yin Lai',\n",
       " 'Xinpeng Xu',\n",
       " 'Christopher Smallwood',\n",
       " 'Jeff Graf',\n",
       " 'Chris Jozwiak',\n",
       " 'Hiroshi Eisaki',\n",
       " 'Robert Kaindl',\n",
       " 'Dung-Hai Lee',\n",
       " 'Alessandra Lanzara',\n",
       " 'Yongqiang Xue',\n",
       " 'Luis E. Sanchez Diaz',\n",
       " 'Ernesto Cortes Morales',\n",
       " 'Xin Li',\n",
       " 'Wei-Ren Chen',\n",
       " 'Magdaleno Medina Noyola',\n",
       " 'Daniel R. Soden',\n",
       " 'Jincheng Bai',\n",
       " 'Lifeng Dong',\n",
       " 'Kristiaan De Greve',\n",
       " 'Leo Yu',\n",
       " 'Peter McMahon',\n",
       " 'Jason Pelc',\n",
       " 'Chandra Natarajan',\n",
       " 'Na Young Kim',\n",
       " 'Eisuke Abe',\n",
       " 'Sebastian Maier',\n",
       " 'Christian Schneider',\n",
       " 'Martin Kamp',\n",
       " 'Sven Hoefling',\n",
       " 'Robert Hadfield',\n",
       " 'Alfred Forchel',\n",
       " 'Martin Fejer',\n",
       " 'Yoshihisa Yamamoto',\n",
       " 'Dinesh Baral',\n",
       " 'Zhuangen Fu',\n",
       " 'Andrei S. Zadorozhnyi',\n",
       " 'Rabindra Dulal',\n",
       " 'Aaron Wang',\n",
       " 'Narendra Shrestha',\n",
       " 'Jinke Tang',\n",
       " 'Yuri Dahnovsky',\n",
       " 'Jifa Tian',\n",
       " 'TeYu Chien',\n",
       " 'Sheng Wang',\n",
       " 'Feng Wang',\n",
       " 'Andrey Dobrynin',\n",
       " 'Jan-Michael Carrillo',\n",
       " 'Addie Barron',\n",
       " 'Steve Hagen',\n",
       " 'Minjun Son',\n",
       " 'Candace Pfefferkorn',\n",
       " 'A. Brooks Harris',\n",
       " 'Antonio Checco',\n",
       " 'Michael Norman',\n",
       " 'Vivek Mishra',\n",
       " 'Utpal Chatterjee',\n",
       " 'Juan Carlos Campuzano',\n",
       " 'Giordano Mattoni',\n",
       " 'Alessio Filippetti',\n",
       " 'Nicola Manca',\n",
       " 'Nils Verhagen',\n",
       " 'Pavlo Zubko',\n",
       " 'Andrea D. Caviglia',\n",
       " 'Mark Patty',\n",
       " 'Zahra Yamani',\n",
       " 'Patricia Thiel',\n",
       " 'Emma Kwolek',\n",
       " 'Huaping Lei',\n",
       " 'Yinghui Zhou',\n",
       " 'Ann Lii-Rosales',\n",
       " 'Mark Wallingford',\n",
       " 'Cai-Zhuang Wang',\n",
       " 'Michael Tringides',\n",
       " 'F.Y. Hansen',\n",
       " 'A. Roennest',\n",
       " 'G.H. Peters',\n",
       " 'H. Taub',\n",
       " 'A. Miskowiec',\n",
       " 'Tatsuya Amitani',\n",
       " 'Zheng Zhang',\n",
       " 'Yifu Ding',\n",
       " 'B. Kaeswurm',\n",
       " \"F. Jim'enez-Villacorta\",\n",
       " 'R. Barua',\n",
       " 'D. Heiman',\n",
       " 'L.H. Lewis',\n",
       " 'Dayton Thorpe',\n",
       " 'David Limmer',\n",
       " 'David Chandler',\n",
       " 'Fardin Khabaz',\n",
       " 'Rajesh Khare',\n",
       " 'Lourdes Salamanca-Riba',\n",
       " 'Xiaoxiao Ge',\n",
       " 'Romaine Isaacs',\n",
       " 'HM Iftekar Jaim',\n",
       " 'Manfred Wuttig',\n",
       " 'Sergey Rashkeev',\n",
       " 'Maija Kuklja',\n",
       " 'Lianbing Hu',\n",
       " 'Covetics Team',\n",
       " 'Nathan S Purwanto',\n",
       " 'Logan Fenimore',\n",
       " 'Mohammed A Bin Rusayyis',\n",
       " 'John M Torkelson',\n",
       " 'B. Moritz',\n",
       " 'F. Schmitt',\n",
       " 'W. Meevasana',\n",
       " 'S. Johnston',\n",
       " 'E. M. Motoyama',\n",
       " 'M. Greven',\n",
       " 'D. H. Lu',\n",
       " 'C. Kim',\n",
       " 'R. T. Scalettar',\n",
       " 'Z.-X. Shen',\n",
       " 'T. P. Devereaux',\n",
       " 'Davoud Adinehloo',\n",
       " 'Weilu Gao',\n",
       " 'Ali Mojibpour',\n",
       " 'Junichiro Kono',\n",
       " 'Vasili Perebeinos',\n",
       " 'Aftab Alam',\n",
       " 'Mahmud Khan',\n",
       " 'R.W. McCallum',\n",
       " 'D.D. Johnson',\n",
       " 'Ilya K. Drozdov',\n",
       " 'Ivan Bozovic',\n",
       " 'Frederick Strauch',\n",
       " 'Ward Plummer',\n",
       " 'Yanwei Ma',\n",
       " 'Hong-Yan Shih',\n",
       " 'Grégoire Lemoult',\n",
       " 'Mukund Vasudevan',\n",
       " 'Jose M Lopez',\n",
       " 'Gaute Linga',\n",
       " 'Bjoern Hof',\n",
       " 'Joachim Mathiesen',\n",
       " 'Nigel Goldenfeld',\n",
       " 'Benjamin November',\n",
       " 'Jay Sau',\n",
       " 'James Williams',\n",
       " 'Jenny E. Hoffman',\n",
       " 'Timothy Booth',\n",
       " 'Henrik Andersen',\n",
       " 'Sayak Ray',\n",
       " 'Sudipta Ray',\n",
       " 'Suman Chakraborty',\n",
       " 'Hendrik Ohldag',\n",
       " 'Sukanta Karmakar',\n",
       " 'Dooyong Lee',\n",
       " 'Jin Yue',\n",
       " 'Malleswararao Tangi',\n",
       " 'Hwanhui Yun',\n",
       " 'Supriya Ghosh',\n",
       " 'Sajna Hameed',\n",
       " 'Joseph Joe',\n",
       " 'John Freeland',\n",
       " 'Chris Leighton',\n",
       " 'K. A. Mkhoyan',\n",
       " 'Bharat Jalan',\n",
       " 'Christoph Kohstall',\n",
       " 'Brannon Klopfer',\n",
       " 'Josh Francis',\n",
       " 'Gunnar Skulason',\n",
       " 'Thomas Juffmann',\n",
       " 'Mark Kasevich',\n",
       " 'QEM',\n",
       " 'Janis Smits',\n",
       " 'Andrey Jarmola',\n",
       " 'Lykourgas Bougas',\n",
       " 'Nazanin Mosavian',\n",
       " 'Ilja Fescenko',\n",
       " 'Pauli Kehayias',\n",
       " 'Abdelghani Laraoui',\n",
       " 'Victor Acosta',\n",
       " 'Han-gyu Kim',\n",
       " 'Hyoung Joon Choi',\n",
       " 'Anise E Mansour',\n",
       " 'Patrick T Barfield',\n",
       " 'Vinh Tran',\n",
       " 'Kenta Kodama',\n",
       " 'Archibald . Williams',\n",
       " 'Warren L Huey',\n",
       " 'Joshua E Goldberger',\n",
       " 'Claudia Ojeda-Aristizabal',\n",
       " 'Oscar Rodriguez',\n",
       " 'Mauricio Prieto',\n",
       " 'Lucas Caldas',\n",
       " 'Liviu C Tanase',\n",
       " 'Eugenia Sebastiani',\n",
       " 'Jesús López-Sánchez',\n",
       " 'Thomas Schmidt',\n",
       " 'Juan Rubio-Zuazo',\n",
       " 'Daniel Savin',\n",
       " 'Matthew Brinkley',\n",
       " 'University of Illinois at Urbana-Champaign',\n",
       " 'Michael Ray',\n",
       " 'Alejandro Reyes Borunda',\n",
       " 'Raymond E Blackwell',\n",
       " 'Abhay N Pasupathy',\n",
       " 'Kazuhiro Fujita',\n",
       " 'Zengyi Du',\n",
       " 'Asish K Kundu',\n",
       " 'Zebin Wu',\n",
       " 'Dante M Kennes',\n",
       " 'Takuya Okugawa',\n",
       " 'David Norris',\n",
       " 'Thomas Kennedy',\n",
       " 'Chungwei Lin',\n",
       " 'Bingnan Wang',\n",
       " 'Koon Hoo Teo',\n",
       " 'Mohsin Zamir Minhas',\n",
       " 'Bharat Grover',\n",
       " 'Ilya Kostanovskiy',\n",
       " 'Stuart Parkin',\n",
       " 'Mazhar Nawaz Ali',\n",
       " 'Chad E Germany',\n",
       " 'Bryan K Clark',\n",
       " 'Botond Tyukodi',\n",
       " 'Kareem Khirallah',\n",
       " 'Craig Maloney',\n",
       " 'David Ruiz-Tijerina',\n",
       " 'Edson Vernek',\n",
       " 'George Martins',\n",
       " 'Sergio Ulloa',\n",
       " 'Felix Thomsen',\n",
       " 'Thomas B Smith',\n",
       " 'Andrew C Doherty',\n",
       " 'Liang Li',\n",
       " 'Yimin Wu',\n",
       " 'Tijana Rajh',\n",
       " 'Ian McNulty',\n",
       " 'Zhonghou Cai',\n",
       " 'Jeff Guest',\n",
       " 'Yuzi Liu',\n",
       " 'Maria Chan',\n",
       " 'Boxi Li',\n",
       " 'Tommaso Calarco',\n",
       " 'Felix Motzoi',\n",
       " 'Kyle Johnson',\n",
       " 'Emmanouil Glynos',\n",
       " 'Georgios Sakellariou',\n",
       " 'Peter Green',\n",
       " 'Wan-Hsin Chen',\n",
       " 'Naoya Kawakami',\n",
       " 'Jhe-Jhih Lin',\n",
       " 'Hsiang-I Huang',\n",
       " 'Ryuichi Arafune',\n",
       " 'Noriaki Takagi',\n",
       " 'Chunliang Lin',\n",
       " 'Bijan K. Rao',\n",
       " 'Jill Wenderott',\n",
       " 'Giulia Suarato',\n",
       " 'Amanda Chin',\n",
       " 'Yizhi Meng',\n",
       " 'Jun Yoneda',\n",
       " 'Byungjoon Min',\n",
       " 'K.-I. Goh',\n",
       " 'Jean-Sebastien Bernier',\n",
       " 'Krishnendu Sengupta',\n",
       " 'Yong Baek Kim',\n",
       " 'Teimuraz Vekua',\n",
       " 'Sebastian Greschner',\n",
       " 'Marie Piraud',\n",
       " 'Fabain Heidrich-Meisner',\n",
       " 'Ian McCulloch',\n",
       " 'Uli Schollwoeck',\n",
       " 'Seung Bum Suh',\n",
       " 'Hyungjun Lee',\n",
       " 'Joel Wang',\n",
       " 'Megan Yamoah',\n",
       " 'Qing Li',\n",
       " 'Charlotte Boettcher',\n",
       " 'Bharath Kannan',\n",
       " 'David K Kim',\n",
       " 'Jonilyn Yoder',\n",
       " 'Terry Philip Orlando',\n",
       " 'Simon Gustavsson',\n",
       " 'Pablo Jarillo-Herrero',\n",
       " 'William Oliver',\n",
       " 'Phillip Weinberg',\n",
       " 'Adrian Feiguin',\n",
       " 'Guoxi Xu',\n",
       " 'Jian Qin',\n",
       " 'Gabriel Matos',\n",
       " 'Andrew Hallam',\n",
       " 'Aydin Deger',\n",
       " 'Zlatko Papic',\n",
       " 'Jiannis Pachos',\n",
       " 'Petr Shibaev',\n",
       " 'Ondrej Cernotik',\n",
       " 'Iivari Pietikäinen',\n",
       " 'Shruti Puri',\n",
       " 'Steven M Girvin',\n",
       " 'Radim Filip',\n",
       " 'Emily Pritchett',\n",
       " 'Michael Geller',\n",
       " 'Jose Aumentado',\n",
       " 'Leonardo Ranzani',\n",
       " 'Dan Csontos',\n",
       " 'Andres O Gonzalez',\n",
       " 'Shima Parsa',\n",
       " 'Kyuil Cho',\n",
       " 'Braunen E. Smith',\n",
       " 'William A. Coniglio',\n",
       " 'Laurel Winter',\n",
       " 'Charles C. Agosta',\n",
       " 'John A. Schlueter',\n",
       " 'Wen-Yuan Liu',\n",
       " 'Shoushu Gong',\n",
       " 'Zhengcheng Gu',\n",
       " 'Jake Iles-Smith',\n",
       " 'Ahsan Nazir',\n",
       " 'R.P.S.M Lobo',\n",
       " 'Samuel Chill',\n",
       " 'Aaron Yevik',\n",
       " 'Anatoly Frenkel',\n",
       " 'Graeme Henkelman',\n",
       " 'Ariel Haziot',\n",
       " 'Andrew Fefferman',\n",
       " 'Xavier Rojas',\n",
       " 'John Beamish',\n",
       " 'Sebastien Balibar',\n",
       " 'Inti Sodemann',\n",
       " 'Yasufumi Araki',\n",
       " 'Thierry Jolicoeur',\n",
       " 'Allan MacDonald',\n",
       " 'Aditya Raghavan',\n",
       " 'Marcos Rigol',\n",
       " 'Stephan Haas',\n",
       " 'Rebecca W. Perry',\n",
       " 'Thomas G. Dimiduk',\n",
       " 'Jesse W. Collins',\n",
       " 'Jerome Fung',\n",
       " 'Guangnan Meng',\n",
       " 'Vinothan N. Manoharan',\n",
       " 'Yu-Zhong Zhang',\n",
       " 'Ming-Cui Ding',\n",
       " 'Hai-Qing Lin',\n",
       " 'Anupama Gannavarapu',\n",
       " 'Sadjad Arzash',\n",
       " 'Iain Muntz',\n",
       " 'Jordan L Shivers',\n",
       " 'Sihan Chen',\n",
       " 'Anna-Maria Klianeva',\n",
       " 'Gijsje H Koenderink',\n",
       " 'Frederick C MacKintosh',\n",
       " 'Madoka Tokumoto',\n",
       " 'Fumihiko Shimizu',\n",
       " 'Yoshiaki Hata',\n",
       " 'Shinya Sawai',\n",
       " 'Jing Han',\n",
       " 'Katsuya Inoue',\n",
       " 'Sinead Griffin',\n",
       " 'Nicola Spaldin',\n",
       " 'Xuan Ding',\n",
       " 'Irfan Irfan',\n",
       " 'Huanjun Ding',\n",
       " 'Yongli Gao',\n",
       " 'Minlu Zhang',\n",
       " 'Ching Tang',\n",
       " 'Department of Physics and Astronomy, Department of chemical engineering',\n",
       " 'Peter Rosenberg',\n",
       " 'Maxime Charlebois',\n",
       " 'André-Marie Tremblay',\n",
       " 'David Sénéchal',\n",
       " 'Zhiqun Lin',\n",
       " 'Bo Li',\n",
       " 'Wei Han',\n",
       " 'Shaoqing Ding',\n",
       " 'Jinyuan Yao',\n",
       " 'Benjamin Aronson',\n",
       " 'Jon Ihlefeld',\n",
       " 'M. David Henry',\n",
       " 'Qi Li',\n",
       " 'Susan Trolier-Mckinstry',\n",
       " 'Thomas Jackson',\n",
       " 'Ying Liu',\n",
       " 'Michael Taber',\n",
       " 'Douglas Ohlberg',\n",
       " 'C.N. Lau',\n",
       " 'Shengfeng Cheng',\n",
       " 'Xi Hao',\n",
       " 'Chengyuan Wen',\n",
       " 'Gary D Seidel',\n",
       " 'Michael R Krause',\n",
       " 'Alexander Hartmann',\n",
       " 'Yizhe Sun',\n",
       " 'Yu Liu',\n",
       " 'Christian E Matt',\n",
       " 'Harris S Pirie',\n",
       " 'Jennifer E Hoffman',\n",
       " 'Lin-Lin Wang',\n",
       " 'Brinda Kuthanazhi',\n",
       " 'Paul C Canfield',\n",
       " \"Sergey L Bud'ko\",\n",
       " 'NATHAN KEILBART',\n",
       " 'Yasuaki Okada',\n",
       " 'Shinichi Higai',\n",
       " 'Ismaila Dabo',\n",
       " 'Noeliarinala Felana Andriambelaza',\n",
       " 'Edwin Mapasha',\n",
       " 'Nithaya Chetty',\n",
       " 'Kristen Burson',\n",
       " 'Georg Simon',\n",
       " 'Clare Munroe',\n",
       " 'Markus Heyde',\n",
       " 'H J Freund',\n",
       " 'Wei-Hsiang Lin',\n",
       " 'Wei-Shiuan Tseng',\n",
       " 'Cora Went',\n",
       " 'George R Rossman',\n",
       " 'Harry Atwater',\n",
       " 'Nai-Chang Yeh',\n",
       " 'Sunwoo Lee',\n",
       " 'Changyao Chen',\n",
       " 'Vikram V. Deshpande',\n",
       " 'Gwan Hyoung Lee',\n",
       " 'Isaac Storch',\n",
       " 'Congchun Zhang',\n",
       " 'Young-Jun Yu',\n",
       " 'Philip Kim',\n",
       " 'Paul McEuen',\n",
       " 'Jiang Wang',\n",
       " 'Andrew Ferguson',\n",
       " 'Leon Govaert',\n",
       " 'Lukas Wehmeier',\n",
       " 'Mengkun Liu',\n",
       " 'Steven Hulbert',\n",
       " 'Dmitri N Basov',\n",
       " 'G.Lawrence Carr',\n",
       " 'Md Tareq Mahmud',\n",
       " 'Nancy Sandler',\n",
       " 'Marco Fanciulli',\n",
       " 'Thomas Halloran',\n",
       " 'Yishu Wang',\n",
       " 'Collin Leslie Broholm',\n",
       " 'Bill Wheatle',\n",
       " 'Nathaniel Lynd',\n",
       " 'Venkat Ganesan',\n",
       " 'Bauyrzhan Primkulov',\n",
       " 'Amir Pahlavan',\n",
       " 'Ruben Juanes',\n",
       " 'Jacob Casey',\n",
       " 'Arjun K Pathak',\n",
       " 'Thaddeus Baringer',\n",
       " 'Gregory Harry',\n",
       " 'Jonathan Newport',\n",
       " 'Hannah Fair',\n",
       " 'Alexandra France',\n",
       " 'LIGO',\n",
       " 'Pragna Das',\n",
       " 'Auditya Sharma',\n",
       " 'Suman Neupane',\n",
       " 'Wenzhi Li',\n",
       " 'Gursoy Akguc',\n",
       " 'Serim Ilday',\n",
       " 'Omer Ilday',\n",
       " 'Oguz Gulseren',\n",
       " 'Ghaith Makey',\n",
       " 'Koray Yavuz',\n",
       " 'Onur Tokel',\n",
       " ...]"
      ]
     },
     "execution_count": 83,
     "metadata": {},
     "output_type": "execute_result"
    }
   ],
   "source": [
    "#skriv dette\n",
    "slutIndex = 84001\n",
    "nameList[slutIndex+1:]"
   ]
  },
  {
   "cell_type": "code",
   "execution_count": 8,
   "id": "746f0431",
   "metadata": {},
   "outputs": [
    {
     "data": {
      "text/plain": [
       "225362"
      ]
     },
     "execution_count": 8,
     "metadata": {},
     "output_type": "execute_result"
    }
   ],
   "source": [
    "len(researchers.Name.str.upper().unique())"
   ]
  },
  {
   "cell_type": "code",
   "execution_count": 87,
   "id": "83e0f277",
   "metadata": {},
   "outputs": [
    {
     "data": {
      "text/plain": [
       "'Luis Pe\\\\~na'"
      ]
     },
     "execution_count": 87,
     "metadata": {},
     "output_type": "execute_result"
    }
   ],
   "source": [
    "nameList[155001]"
   ]
  },
  {
   "cell_type": "code",
   "execution_count": 4,
   "id": "38089fed",
   "metadata": {},
   "outputs": [],
   "source": [
    "def saveAuthor(names, allNames, path, url, key, timeoutTime):\n",
    "    author_dict = {}\n",
    "    error_authors = [] #list for authors with error\n",
    "    for i in tqdm(names):\n",
    "        index = names.index(i)\n",
    "        parameters = {\n",
    "            \"query\": i,\n",
    "            \"fields\": \"name,paperCount,citationCount,hIndex,aliases,papers.title,papers.fieldsOfStudy,papers.s2FieldsOfStudy,papers.referenceCount,papers.year,papers.citationCount,papers.influentialCitationCount,papers.publicationDate\"\n",
    "            }\n",
    "        try:\n",
    "            response = requests.get(url, params = parameters, headers = key, timeout = timeoutTime)\n",
    "            author_dict[index] = {'Name': i, 'File': response.json()}\n",
    "        except:\n",
    "        #except requests.ConnectionError:\n",
    "            error_authors.append(i)\n",
    "            print(i)\n",
    "            continue\n",
    "            \n",
    "        if index%1000 == 0 and index != 0 or i == names[-1]: #save for each 1000 and the last names\n",
    "            with open(path + str(index) + '.txt', \"w\") as f:\n",
    "                json.dump(author_dict, f) #save\n",
    "                author_dict = {}\n",
    "\n",
    "    return author_dict, error_authors"
   ]
  },
  {
   "cell_type": "code",
   "execution_count": 90,
   "id": "5262f51b",
   "metadata": {},
   "outputs": [],
   "source": [
    "url = \"https://api.semanticscholar.org/graph/v1/author/search?&limit=1\"\n",
    "key = {'x-api-key': 'tRss0MQnxJaaE0KmrqBUr7gGK2Y7Bm8C8UdCCLzP'}"
   ]
  },
  {
   "cell_type": "code",
   "execution_count": 4,
   "id": "9fc09da6",
   "metadata": {},
   "outputs": [
    {
     "ename": "NameError",
     "evalue": "name 'saveAuthor' is not defined",
     "output_type": "error",
     "traceback": [
      "\u001b[0;31m---------------------------------------------------------------------------\u001b[0m",
      "\u001b[0;31mNameError\u001b[0m                                 Traceback (most recent call last)",
      "Cell \u001b[0;32mIn[4], line 1\u001b[0m\n\u001b[0;32m----> 1\u001b[0m authorDict, errorAuthors \u001b[38;5;241m=\u001b[39m \u001b[43msaveAuthor\u001b[49m(nameList, \u001b[38;5;124m'\u001b[39m\u001b[38;5;124mFiles/Authors/\u001b[39m\u001b[38;5;124m'\u001b[39m, url, key, \u001b[38;5;241m30\u001b[39m)\n",
      "\u001b[0;31mNameError\u001b[0m: name 'saveAuthor' is not defined"
     ]
    }
   ],
   "source": [
    "authorDict, errorAuthors = saveAuthor(nameList, 'Files/Authors/', url, key, 30)"
   ]
  },
  {
   "cell_type": "code",
   "execution_count": null,
   "id": "44ecf83b",
   "metadata": {},
   "outputs": [],
   "source": []
  },
  {
   "cell_type": "code",
   "execution_count": null,
   "id": "a32dbde0",
   "metadata": {},
   "outputs": [],
   "source": []
  },
  {
   "cell_type": "code",
   "execution_count": 79,
   "id": "292ccfcc",
   "metadata": {},
   "outputs": [
    {
     "data": {
      "text/html": [
       "<div>\n",
       "<style scoped>\n",
       "    .dataframe tbody tr th:only-of-type {\n",
       "        vertical-align: middle;\n",
       "    }\n",
       "\n",
       "    .dataframe tbody tr th {\n",
       "        vertical-align: top;\n",
       "    }\n",
       "\n",
       "    .dataframe thead th {\n",
       "        text-align: right;\n",
       "    }\n",
       "</style>\n",
       "<table border=\"1\" class=\"dataframe\">\n",
       "  <thead>\n",
       "    <tr style=\"text-align: right;\">\n",
       "      <th></th>\n",
       "      <th>Year</th>\n",
       "      <th>Name</th>\n",
       "      <th>Institution</th>\n",
       "      <th>Title</th>\n",
       "      <th>Division</th>\n",
       "      <th>SessionType</th>\n",
       "      <th>SessionIndex</th>\n",
       "      <th>LowerCaseName</th>\n",
       "    </tr>\n",
       "  </thead>\n",
       "  <tbody>\n",
       "    <tr>\n",
       "      <th>26639</th>\n",
       "      <td>2006</td>\n",
       "      <td>Ren's Group</td>\n",
       "      <td>Unknown</td>\n",
       "      <td>Growth of Pure and Long Silicon Nanowires on T...</td>\n",
       "      <td>DCMP</td>\n",
       "      <td>participant</td>\n",
       "      <td>6252.0</td>\n",
       "      <td>ren's group</td>\n",
       "    </tr>\n",
       "    <tr>\n",
       "      <th>26826</th>\n",
       "      <td>2015</td>\n",
       "      <td>Kathryn O'Hara</td>\n",
       "      <td>University of California, Santa Barbara</td>\n",
       "      <td>Morphology and performance of organic photovol...</td>\n",
       "      <td>DPOLY</td>\n",
       "      <td>participant</td>\n",
       "      <td>6297.0</td>\n",
       "      <td>kathryn o'hara</td>\n",
       "    </tr>\n",
       "    <tr>\n",
       "      <th>26965</th>\n",
       "      <td>2012</td>\n",
       "      <td>F. Jim'enez-Villacorta</td>\n",
       "      <td>Northeastern University</td>\n",
       "      <td>Magnetic Transitions in Granular FeRh</td>\n",
       "      <td>DMP GMAG</td>\n",
       "      <td>participant</td>\n",
       "      <td>6327.0</td>\n",
       "      <td>f. jim'enez-villacorta</td>\n",
       "    </tr>\n",
       "    <tr>\n",
       "      <th>27326</th>\n",
       "      <td>2023</td>\n",
       "      <td>Sergey L Bud'ko</td>\n",
       "      <td>Iowa State University</td>\n",
       "      <td>Gapped surface states in axion insulator candi...</td>\n",
       "      <td>DMP</td>\n",
       "      <td>participant</td>\n",
       "      <td>6410.0</td>\n",
       "      <td>sergey l bud'ko</td>\n",
       "    </tr>\n",
       "    <tr>\n",
       "      <th>27417</th>\n",
       "      <td>2015</td>\n",
       "      <td>Lucas V'azquez</td>\n",
       "      <td>Ohio University</td>\n",
       "      <td>Generation of hot plasmonic carriers, thermal ...</td>\n",
       "      <td>DCMP</td>\n",
       "      <td>participant</td>\n",
       "      <td>6432.0</td>\n",
       "      <td>lucas v'azquez</td>\n",
       "    </tr>\n",
       "    <tr>\n",
       "      <th>...</th>\n",
       "      <td>...</td>\n",
       "      <td>...</td>\n",
       "      <td>...</td>\n",
       "      <td>...</td>\n",
       "      <td>...</td>\n",
       "      <td>...</td>\n",
       "      <td>...</td>\n",
       "      <td>...</td>\n",
       "    </tr>\n",
       "    <tr>\n",
       "      <th>1746805</th>\n",
       "      <td>2004</td>\n",
       "      <td>Sergey Savel'ev (Frontier Research System</td>\n",
       "      <td>Spain)</td>\n",
       "      <td>Stochastic resonance in a superconducting Nb w...</td>\n",
       "      <td>DCMP</td>\n",
       "      <td>participant</td>\n",
       "      <td>392219.0</td>\n",
       "      <td>sergey savel'ev (frontier research system</td>\n",
       "    </tr>\n",
       "    <tr>\n",
       "      <th>1749236</th>\n",
       "      <td>2004</td>\n",
       "      <td>M.J. O'Connell</td>\n",
       "      <td>Los Alamos National Laboratory, Los Alamos, NM...</td>\n",
       "      <td>Ultrafast Optical Spectroscopy of Unbundled Si...</td>\n",
       "      <td>DMP</td>\n",
       "      <td>participant</td>\n",
       "      <td>330890.0</td>\n",
       "      <td>m.j. o'connell</td>\n",
       "    </tr>\n",
       "    <tr>\n",
       "      <th>1750458</th>\n",
       "      <td>2004</td>\n",
       "      <td>Kre\\vsimir Josi\\'c</td>\n",
       "      <td>University of Houston</td>\n",
       "      <td>Diffusion on networks</td>\n",
       "      <td>GSNP</td>\n",
       "      <td>participant</td>\n",
       "      <td>447681.0</td>\n",
       "      <td>kre\\vsimir josi\\'c</td>\n",
       "    </tr>\n",
       "    <tr>\n",
       "      <th>1753777</th>\n",
       "      <td>2004</td>\n",
       "      <td>Michael E.Flatte'</td>\n",
       "      <td>University of Iowa, Department of Physics and ...</td>\n",
       "      <td>Hyperfine-induced current instability in doubl...</td>\n",
       "      <td>GMAG/DMP</td>\n",
       "      <td>participant</td>\n",
       "      <td>462151.0</td>\n",
       "      <td>michael e.flatte'</td>\n",
       "    </tr>\n",
       "    <tr>\n",
       "      <th>1753779</th>\n",
       "      <td>2004</td>\n",
       "      <td>Branislav K.Nikoli\\'c</td>\n",
       "      <td>Department of Physics and Astronomy, Universit...</td>\n",
       "      <td>Hyperfine-induced current instability in doubl...</td>\n",
       "      <td>GMAG/DMP</td>\n",
       "      <td>participant</td>\n",
       "      <td>462152.0</td>\n",
       "      <td>branislav k.nikoli\\'c</td>\n",
       "    </tr>\n",
       "  </tbody>\n",
       "</table>\n",
       "<p>2434 rows × 8 columns</p>\n",
       "</div>"
      ],
      "text/plain": [
       "         Year                                       Name  \\\n",
       "26639    2006                                Ren's Group   \n",
       "26826    2015                             Kathryn O'Hara   \n",
       "26965    2012                     F. Jim'enez-Villacorta   \n",
       "27326    2023                            Sergey L Bud'ko   \n",
       "27417    2015                             Lucas V'azquez   \n",
       "...       ...                                        ...   \n",
       "1746805  2004  Sergey Savel'ev (Frontier Research System   \n",
       "1749236  2004                             M.J. O'Connell   \n",
       "1750458  2004                         Kre\\vsimir Josi\\'c   \n",
       "1753777  2004                          Michael E.Flatte'   \n",
       "1753779  2004                      Branislav K.Nikoli\\'c   \n",
       "\n",
       "                                               Institution  \\\n",
       "26639                                              Unknown   \n",
       "26826              University of California, Santa Barbara   \n",
       "26965                              Northeastern University   \n",
       "27326                                Iowa State University   \n",
       "27417                                      Ohio University   \n",
       "...                                                    ...   \n",
       "1746805                                             Spain)   \n",
       "1749236  Los Alamos National Laboratory, Los Alamos, NM...   \n",
       "1750458                              University of Houston   \n",
       "1753777  University of Iowa, Department of Physics and ...   \n",
       "1753779  Department of Physics and Astronomy, Universit...   \n",
       "\n",
       "                                                     Title  Division  \\\n",
       "26639    Growth of Pure and Long Silicon Nanowires on T...      DCMP   \n",
       "26826    Morphology and performance of organic photovol...     DPOLY   \n",
       "26965                Magnetic Transitions in Granular FeRh  DMP GMAG   \n",
       "27326    Gapped surface states in axion insulator candi...       DMP   \n",
       "27417    Generation of hot plasmonic carriers, thermal ...      DCMP   \n",
       "...                                                    ...       ...   \n",
       "1746805  Stochastic resonance in a superconducting Nb w...      DCMP   \n",
       "1749236  Ultrafast Optical Spectroscopy of Unbundled Si...       DMP   \n",
       "1750458                              Diffusion on networks      GSNP   \n",
       "1753777  Hyperfine-induced current instability in doubl...  GMAG/DMP   \n",
       "1753779  Hyperfine-induced current instability in doubl...  GMAG/DMP   \n",
       "\n",
       "         SessionType  SessionIndex                              LowerCaseName  \n",
       "26639    participant        6252.0                                ren's group  \n",
       "26826    participant        6297.0                             kathryn o'hara  \n",
       "26965    participant        6327.0                     f. jim'enez-villacorta  \n",
       "27326    participant        6410.0                            sergey l bud'ko  \n",
       "27417    participant        6432.0                             lucas v'azquez  \n",
       "...              ...           ...                                        ...  \n",
       "1746805  participant      392219.0  sergey savel'ev (frontier research system  \n",
       "1749236  participant      330890.0                             m.j. o'connell  \n",
       "1750458  participant      447681.0                         kre\\vsimir josi\\'c  \n",
       "1753777  participant      462151.0                          michael e.flatte'  \n",
       "1753779  participant      462152.0                      branislav k.nikoli\\'c  \n",
       "\n",
       "[2434 rows x 8 columns]"
      ]
     },
     "execution_count": 79,
     "metadata": {},
     "output_type": "execute_result"
    }
   ],
   "source": [
    "researchers[researchers.Name.str.contains('\\'')]"
   ]
  },
  {
   "cell_type": "code",
   "execution_count": 123,
   "id": "7741d75a",
   "metadata": {},
   "outputs": [
    {
     "data": {
      "text/plain": [
       "{'total': 6,\n",
       " 'offset': 0,\n",
       " 'next': 1,\n",
       " 'data': [{'authorId': '2086685800',\n",
       "   'name': 'J. Meirinhos',\n",
       "   'aliases': ['José Meirinhos', 'José Francisco Meirinhos'],\n",
       "   'paperCount': 10,\n",
       "   'citationCount': 2,\n",
       "   'hIndex': 1,\n",
       "   'papers': [{'paperId': '6f180becf31fab305591d32760499282b7996022',\n",
       "     'title': 'Palabras preliminares del Presidente de la Sociedad de Filosofía Medieval',\n",
       "     'year': 2019,\n",
       "     'referenceCount': 0,\n",
       "     'citationCount': 0,\n",
       "     'influentialCitationCount': 0,\n",
       "     'fieldsOfStudy': None,\n",
       "     's2FieldsOfStudy': [],\n",
       "     'publicationDate': '2019-03-18'},\n",
       "    {'paperId': '1fb598dec8cbdbdc70cf04dd5060096bfa8924be',\n",
       "     'title': 'Editorial: homenaje a tres fundadores y una revista para el futuro',\n",
       "     'year': 2018,\n",
       "     'referenceCount': 0,\n",
       "     'citationCount': 0,\n",
       "     'influentialCitationCount': 0,\n",
       "     'fieldsOfStudy': None,\n",
       "     's2FieldsOfStudy': [],\n",
       "     'publicationDate': '2018-12-20'},\n",
       "    {'paperId': '0a914a4781b6be484a4a26ee45510067dc98d7da',\n",
       "     'title': '2.º CENTENÁRIO DE SØREN A. KIERKEGAARD - DOSSIER TEMÁTICO',\n",
       "     'year': 2016,\n",
       "     'referenceCount': 0,\n",
       "     'citationCount': 0,\n",
       "     'influentialCitationCount': 0,\n",
       "     'fieldsOfStudy': None,\n",
       "     's2FieldsOfStudy': [],\n",
       "     'publicationDate': '2016-01-22'},\n",
       "    {'paperId': 'e0c0ad5088c575027bac9d7cd5beb65950265d6c',\n",
       "     'title': '1962-2012: Filosofia na Universidade do Porto',\n",
       "     'year': 2014,\n",
       "     'referenceCount': 0,\n",
       "     'citationCount': 0,\n",
       "     'influentialCitationCount': 0,\n",
       "     'fieldsOfStudy': None,\n",
       "     's2FieldsOfStudy': [],\n",
       "     'publicationDate': '2014-01-23'},\n",
       "    {'paperId': '48d1492a3df4772b58b3da59fd7ee1780c2bb57a',\n",
       "     'title': 'Intellectio e Cogitatio no Debate Entre Gaunilo e Anselmo Sobre o Argumento Único',\n",
       "     'year': 2009,\n",
       "     'referenceCount': 0,\n",
       "     'citationCount': 1,\n",
       "     'influentialCitationCount': 0,\n",
       "     'fieldsOfStudy': ['Art'],\n",
       "     's2FieldsOfStudy': [{'category': 'Art', 'source': 'external'}],\n",
       "     'publicationDate': '2009-11-01'},\n",
       "    {'paperId': 'ff44ccfef4d41bbb00ce4f457b9c47da341836df',\n",
       "     'title': 'A voz e a música na literatura oral mirandesa',\n",
       "     'year': 2008,\n",
       "     'referenceCount': 0,\n",
       "     'citationCount': 0,\n",
       "     'influentialCitationCount': 0,\n",
       "     'fieldsOfStudy': ['Art'],\n",
       "     's2FieldsOfStudy': [{'category': 'Art', 'source': 'external'}],\n",
       "     'publicationDate': None},\n",
       "    {'paperId': '9975d722cadeae5317b11cc7057191bc6bb646e6',\n",
       "     'title': 'Estudos de filosofia medieval : autores e temas portugueses',\n",
       "     'year': 2007,\n",
       "     'referenceCount': 0,\n",
       "     'citationCount': 0,\n",
       "     'influentialCitationCount': 0,\n",
       "     'fieldsOfStudy': ['Philosophy'],\n",
       "     's2FieldsOfStudy': [{'category': 'Philosophy', 'source': 'external'}],\n",
       "     'publicationDate': None},\n",
       "    {'paperId': '70f96c834497ce866b46140b08943aedbb08df83',\n",
       "     'title': 'A tipografia de Santa Cruz : 1530-1563',\n",
       "     'year': 2001,\n",
       "     'referenceCount': 0,\n",
       "     'citationCount': 1,\n",
       "     'influentialCitationCount': 0,\n",
       "     'fieldsOfStudy': None,\n",
       "     's2FieldsOfStudy': [],\n",
       "     'publicationDate': None},\n",
       "    {'paperId': 'f332456d35f8866fcf56290a6a01bcaf2fb9ffac',\n",
       "     'title': 'Bibliografia de Santa Cruz de Coimbra : Bibliography of Santa Cruz de Coimbra',\n",
       "     'year': 2001,\n",
       "     'referenceCount': 0,\n",
       "     'citationCount': 0,\n",
       "     'influentialCitationCount': 0,\n",
       "     'fieldsOfStudy': ['Art'],\n",
       "     's2FieldsOfStudy': [{'category': 'Art', 'source': 'external'}],\n",
       "     'publicationDate': None},\n",
       "    {'paperId': '7f2584c01dd742993de05627c0f937a9bf38902f',\n",
       "     'title': 'Pedro Hispano Portugalense? Elementos para una diferenciaÇao de autores',\n",
       "     'year': 1996,\n",
       "     'referenceCount': 0,\n",
       "     'citationCount': 0,\n",
       "     'influentialCitationCount': 0,\n",
       "     'fieldsOfStudy': None,\n",
       "     's2FieldsOfStudy': [],\n",
       "     'publicationDate': None}]}]}"
      ]
     },
     "execution_count": 123,
     "metadata": {},
     "output_type": "execute_result"
    }
   ],
   "source": [
    "import time\n",
    " \n",
    "# ts stores the time in seconds\n",
    "t1 = time.time()\n",
    "\n",
    "\n",
    "parameters = {\n",
    "            \"query\": 'francisco costa meirinhos',\n",
    "            \"fields\": \"name,paperCount,citationCount,hIndex,aliases,papers.title,papers.fieldsOfStudy,papers.s2FieldsOfStudy,papers.referenceCount,papers.year,papers.citationCount,papers.influentialCitationCount,papers.publicationDate\"\n",
    "            }\n",
    "a = requests.get(url, params = parameters, headers = key)\n",
    "\n",
    "t2 = time.time()\n",
    "\n",
    "a.json()"
   ]
  },
  {
   "cell_type": "code",
   "execution_count": 101,
   "id": "a96bfbd3",
   "metadata": {},
   "outputs": [
    {
     "data": {
      "text/plain": [
       "0.5883278846740723"
      ]
     },
     "execution_count": 101,
     "metadata": {},
     "output_type": "execute_result"
    }
   ],
   "source": [
    "t2-t1\n",
    "#15"
   ]
  },
  {
   "cell_type": "code",
   "execution_count": 97,
   "id": "2ca0ea87",
   "metadata": {},
   "outputs": [
    {
     "data": {
      "text/plain": [
       "{'total': 0, 'offset': 0, 'data': []}"
      ]
     },
     "execution_count": 97,
     "metadata": {},
     "output_type": "execute_result"
    }
   ],
   "source": [
    "## t2-t1\n",
    "response = a.json()\n",
    "#response['data']\n",
    "response"
   ]
  },
  {
   "cell_type": "code",
   "execution_count": 35,
   "id": "0c172936",
   "metadata": {},
   "outputs": [],
   "source": [
    "with open(\"AlbertSchultz.json\", \"w\") as f:\n",
    "    json.dump(response, f)\n",
    "\n",
    "    \n",
    "#2064117320\n",
    "#2219484518\n",
    "#2064117314\n",
    "\n",
    "#25895732\n",
    "#A. Schultz\n",
    "#Albert W. Schultz\n",
    "#Albert B. Schultz\n",
    "#A. Schultz\n",
    "#J. Schultz\n",
    "#J. A. Schultz\n",
    "#J. Albert Schultz\n",
    "#A.C. Schultz\n",
    "#A. M. Schultz\n",
    "#Albert Schultz\n",
    "#S. Schultz\n",
    "#Albert J. Schultz\n",
    "#J. Albert Schultz\n",
    "#check if aliases is same"
   ]
  },
  {
   "cell_type": "code",
   "execution_count": 77,
   "id": "c952337b",
   "metadata": {},
   "outputs": [
    {
     "name": "stdout",
     "output_type": "stream",
     "text": [
      "0\n",
      "1\n",
      "2\n",
      "3\n",
      "4\n",
      "5\n",
      "6\n",
      "7\n",
      "17\n"
     ]
    },
    {
     "ename": "TypeError",
     "evalue": "argument of type 'NoneType' is not iterable",
     "output_type": "error",
     "traceback": [
      "\u001b[0;31m---------------------------------------------------------------------------\u001b[0m",
      "\u001b[0;31mTypeError\u001b[0m                                 Traceback (most recent call last)",
      "Cell \u001b[0;32mIn[77], line 6\u001b[0m\n\u001b[1;32m      4\u001b[0m name \u001b[38;5;241m=\u001b[39m response[\u001b[38;5;124m'\u001b[39m\u001b[38;5;124mdata\u001b[39m\u001b[38;5;124m'\u001b[39m][i][\u001b[38;5;124m'\u001b[39m\u001b[38;5;124mname\u001b[39m\u001b[38;5;124m'\u001b[39m]\n\u001b[1;32m      5\u001b[0m aliases \u001b[38;5;241m=\u001b[39m response[\u001b[38;5;124m'\u001b[39m\u001b[38;5;124mdata\u001b[39m\u001b[38;5;124m'\u001b[39m][i][\u001b[38;5;124m'\u001b[39m\u001b[38;5;124maliases\u001b[39m\u001b[38;5;124m'\u001b[39m]\n\u001b[0;32m----> 6\u001b[0m \u001b[38;5;28;01mif\u001b[39;00m name \u001b[38;5;241m==\u001b[39m OrginalName \u001b[38;5;129;01mor\u001b[39;00m \u001b[43mOrginalName\u001b[49m\u001b[43m \u001b[49m\u001b[38;5;129;43;01min\u001b[39;49;00m\u001b[43m \u001b[49m\u001b[43maliases\u001b[49m:\n\u001b[1;32m      7\u001b[0m     \u001b[38;5;28mprint\u001b[39m(i)\n",
      "\u001b[0;31mTypeError\u001b[0m: argument of type 'NoneType' is not iterable"
     ]
    }
   ],
   "source": [
    "OrginalName = \"Albert Schultz\"\n",
    "dataCount = len(response['data'])\n",
    "for i in range(0, dataCount):\n",
    "    name = response['data'][i]['name']\n",
    "    aliases = response['data'][i]['aliases']\n",
    "    if name == OrginalName or OrginalName in aliases:\n",
    "        print(i)\n",
    "    #print(name, aliases)"
   ]
  },
  {
   "cell_type": "code",
   "execution_count": 72,
   "id": "91342e7b",
   "metadata": {},
   "outputs": [
    {
     "data": {
      "text/plain": [
       "{'authorId': '144010493',\n",
       " 'name': 'A. Schultz',\n",
       " 'aliases': ['A J Schultz',\n",
       "  'A Schultz',\n",
       "  'Albert J. Schultz',\n",
       "  'Albert J Schultz',\n",
       "  'Albert Schultz',\n",
       "  'A. J. Schultz'],\n",
       " 'paperCount': 8,\n",
       " 'citationCount': 471,\n",
       " 'hIndex': 7,\n",
       " 'papers': [{'paperId': 'c6a1b4f51339dbe1b185293db38792e6f10a94d1',\n",
       "   'title': 'Channeling in the helium ion microscope',\n",
       "   'year': 2019,\n",
       "   'referenceCount': 18,\n",
       "   'citationCount': 8,\n",
       "   'influentialCitationCount': 0,\n",
       "   'fieldsOfStudy': ['Materials Science'],\n",
       "   's2FieldsOfStudy': [{'category': 'Materials Science', 'source': 'external'},\n",
       "    {'category': 'Materials Science', 'source': 's2-fos-model'},\n",
       "    {'category': 'Physics', 'source': 's2-fos-model'}],\n",
       "   'publicationDate': '2019-10-01'},\n",
       "  {'paperId': 'b7b9d8368fbc8fce68006ba3f3e8c48ba6414a0c',\n",
       "   'title': 'Cell Growth on Different Types of Ultrananocrystalline Diamond Thin Films',\n",
       "   'year': 2012,\n",
       "   'referenceCount': 22,\n",
       "   'citationCount': 17,\n",
       "   'influentialCitationCount': 0,\n",
       "   'fieldsOfStudy': ['Materials Science', 'Medicine'],\n",
       "   's2FieldsOfStudy': [{'category': 'Materials Science', 'source': 'external'},\n",
       "    {'category': 'Medicine', 'source': 'external'},\n",
       "    {'category': 'Engineering', 'source': 's2-fos-model'},\n",
       "    {'category': 'Materials Science', 'source': 's2-fos-model'}],\n",
       "   'publicationDate': '2012-08-16'},\n",
       "  {'paperId': '2f06568d1c3779a9334d5eac6d6fd6e36afb9872',\n",
       "   'title': 'Metabolic profiling of Escherichia coli by ion mobility-mass spectrometry with MALDI ion source.',\n",
       "   'year': 2010,\n",
       "   'referenceCount': 99,\n",
       "   'citationCount': 46,\n",
       "   'influentialCitationCount': 1,\n",
       "   'fieldsOfStudy': ['Chemistry', 'Medicine'],\n",
       "   's2FieldsOfStudy': [{'category': 'Chemistry', 'source': 'external'},\n",
       "    {'category': 'Medicine', 'source': 'external'},\n",
       "    {'category': 'Biology', 'source': 's2-fos-model'},\n",
       "    {'category': 'Chemistry', 'source': 's2-fos-model'}],\n",
       "   'publicationDate': '2010-12-01'},\n",
       "  {'paperId': 'bac7cad499870c01ae8cf4d1e02515613c614d9c',\n",
       "   'title': 'Metabolic Profiling of Human Blood by High Resolution Ion Mobility Mass Spectrometry (IM-MS).',\n",
       "   'year': 2010,\n",
       "   'referenceCount': 120,\n",
       "   'citationCount': 150,\n",
       "   'influentialCitationCount': 4,\n",
       "   'fieldsOfStudy': ['Chemistry', 'Medicine'],\n",
       "   's2FieldsOfStudy': [{'category': 'Chemistry', 'source': 'external'},\n",
       "    {'category': 'Medicine', 'source': 'external'},\n",
       "    {'category': 'Chemistry', 'source': 's2-fos-model'},\n",
       "    {'category': 'Medicine', 'source': 's2-fos-model'}],\n",
       "   'publicationDate': '2010-12-01'},\n",
       "  {'paperId': 'da9ba6c57a695934557bd75abd7b579d39f600ec',\n",
       "   'title': 'Oligonucleotide analysis with MALDI–ion-mobility–TOFMS',\n",
       "   'year': 2002,\n",
       "   'referenceCount': 1,\n",
       "   'citationCount': 63,\n",
       "   'influentialCitationCount': 0,\n",
       "   'fieldsOfStudy': ['Chemistry', 'Medicine'],\n",
       "   's2FieldsOfStudy': [{'category': 'Chemistry', 'source': 'external'},\n",
       "    {'category': 'Medicine', 'source': 'external'},\n",
       "    {'category': 'Biology', 'source': 's2-fos-model'},\n",
       "    {'category': 'Chemistry', 'source': 's2-fos-model'}],\n",
       "   'publicationDate': '2002-06-25'},\n",
       "  {'paperId': '939bc8b6c7648e5041f56d6de4bf57546af8f016',\n",
       "   'title': 'Electrospray ionization with ambient pressure ion mobility separation and mass analysis by orthogonal time-of-flight mass spectrometry.',\n",
       "   'year': 2001,\n",
       "   'referenceCount': 14,\n",
       "   'citationCount': 59,\n",
       "   'influentialCitationCount': 1,\n",
       "   'fieldsOfStudy': ['Chemistry', 'Medicine'],\n",
       "   's2FieldsOfStudy': [{'category': 'Chemistry', 'source': 'external'},\n",
       "    {'category': 'Medicine', 'source': 'external'},\n",
       "    {'category': 'Chemistry', 'source': 's2-fos-model'},\n",
       "    {'category': 'Medicine', 'source': 's2-fos-model'}],\n",
       "   'publicationDate': '2001-12-15'},\n",
       "  {'paperId': 'c2108a7df4886efd5177e3153b0afcb4c894b3c7',\n",
       "   'title': 'Coupling high-pressure MALDI with ion mobility/orthogonal time-of-flight mass spectrometry.',\n",
       "   'year': 2000,\n",
       "   'referenceCount': 3,\n",
       "   'citationCount': 128,\n",
       "   'influentialCitationCount': 4,\n",
       "   'fieldsOfStudy': ['Chemistry', 'Medicine'],\n",
       "   's2FieldsOfStudy': [{'category': 'Chemistry', 'source': 'external'},\n",
       "    {'category': 'Medicine', 'source': 'external'},\n",
       "    {'category': 'Chemistry', 'source': 's2-fos-model'}],\n",
       "   'publicationDate': '2000-09-01'},\n",
       "  {'paperId': 'd1e9ebbe9333880b7089eb4e4f97280bab0919ee',\n",
       "   'title': 'Protein mixture analysis by MALDI/mobility/time-of-flight mass spectrometry',\n",
       "   'year': 2000,\n",
       "   'referenceCount': 12,\n",
       "   'citationCount': 0,\n",
       "   'influentialCitationCount': 0,\n",
       "   'fieldsOfStudy': ['Chemistry', 'Engineering'],\n",
       "   's2FieldsOfStudy': [{'category': 'Chemistry', 'source': 'external'},\n",
       "    {'category': 'Engineering', 'source': 'external'},\n",
       "    {'category': 'Chemistry', 'source': 's2-fos-model'},\n",
       "    {'category': 'Biology', 'source': 's2-fos-model'}],\n",
       "   'publicationDate': '2000-03-22'}]}"
      ]
     },
     "execution_count": 72,
     "metadata": {},
     "output_type": "execute_result"
    }
   ],
   "source": [
    "data[]"
   ]
  },
  {
   "cell_type": "code",
   "execution_count": null,
   "id": "47d8227e",
   "metadata": {},
   "outputs": [],
   "source": [
    "#Albert Schultz"
   ]
  },
  {
   "cell_type": "code",
   "execution_count": null,
   "id": "93ca8d4d",
   "metadata": {},
   "outputs": [],
   "source": []
  },
  {
   "cell_type": "code",
   "execution_count": null,
   "id": "ec2f15e6",
   "metadata": {},
   "outputs": [],
   "source": []
  },
  {
   "cell_type": "code",
   "execution_count": 51,
   "id": "286c8a82",
   "metadata": {},
   "outputs": [],
   "source": [
    "#check it works as it should\n",
    "def saveAuthor_extra(names, nameList, path, url, key, timeoutTime):\n",
    "    author_dict = {}\n",
    "    error_authors = [] #list for authors with error\n",
    "    for i in tqdm(names): \n",
    "        index = nameList.index(i)\n",
    "        parameters = {\n",
    "            \"query\": i,\n",
    "            \"fields\": \"name,paperCount,citationCount,hIndex,aliases,papers.title,papers.fieldsOfStudy,papers.s2FieldsOfStudy,papers.referenceCount,papers.year,papers.citationCount,papers.influentialCitationCount,papers.publicationDate\"\n",
    "            }\n",
    "        try:\n",
    "            response = requests.get(url, params = parameters, headers = key)\n",
    "            author_dict[index] = {'Name': i, 'File': response.json()}\n",
    "        except:\n",
    "        #except requests.ConnectionError:\n",
    "            error_authors.append(i)\n",
    "            print(i)\n",
    "            continue\n",
    "    with open(path, \"extraAuthors\" + '.txt', 'w') as f:\n",
    "        json.dump(author_dict, f) #save\n",
    "        \n",
    "    return author_dict, error_authors"
   ]
  },
  {
   "cell_type": "code",
   "execution_count": 111,
   "id": "7a597fda",
   "metadata": {},
   "outputs": [
    {
     "name": "stderr",
     "output_type": "stream",
     "text": [
      " 36%|█████████████▋                        | 546/1517 [12:12<9:07:12, 33.81s/it]"
     ]
    },
    {
     "name": "stdout",
     "output_type": "stream",
     "text": [
      "T.S. Lee\n"
     ]
    },
    {
     "name": "stderr",
     "output_type": "stream",
     "text": [
      " 38%|██████████████                       | 578/1517 [17:51<23:35:11, 90.43s/it]"
     ]
    },
    {
     "name": "stdout",
     "output_type": "stream",
     "text": [
      "P. Sandvik\n"
     ]
    },
    {
     "name": "stderr",
     "output_type": "stream",
     "text": [
      " 38%|██████████████▌                       | 581/1517 [17:58<8:32:12, 32.83s/it]"
     ]
    },
    {
     "name": "stdout",
     "output_type": "stream",
     "text": [
      "W. Byrne\n"
     ]
    },
    {
     "name": "stderr",
     "output_type": "stream",
     "text": [
      " 39%|███████████████▋                        | 593/1517 [18:10<28:19,  1.84s/it]\n"
     ]
    },
    {
     "ename": "ValueError",
     "evalue": "['C. L. Canedy', 'P.Gruetter', 'S. A. Burke', 'R. Hoffmann', 'Anton Ramsak', 'Chirakkal Khrishnan', 'K Yoon', 'N.Mingo', 'Maarten Kruithof', 'Frank v.d. Heyden', 'Ronald Miller', 'M.Dewald', 'Alan Needleman', 'Adrian Lew', 'C. R. Miranda', 'L.Huang', 'J.D.Nicholas', 'J.D.Bass', 'Wolfgang Goetze', 'E. W. Draeger', 'A. J. Williamson', 'Aizhen Zhang', 'Marc M. Dignam', 'Jun Wan', 'P.V.Santos', 'J.A.H. Stotz', 'G.Cueva', 'P. Kondratko', 'S.K.Hark', 'X.T. Zhang', 'K.M. Ip', 'E.J.Singley', 'Chad Meserole', 'Gregory Fisher', 'David Funk', 'Victoria Ciulin', 'Chad Wang', 'O.D.Dubon', 'J. T. Robinson', 'I. D. Sharp', 'D.O.Yi', 'D.N.Zakharov', 'O Iivier Landry', 'Alexis Gagnon-Morris', 'D OYi', 'C YLiao', 'I D Sharp', 'Q Xu', 'D Zakharov', 'J W Ager', 'J W Beeman', 'Z Liliental-Weber', 'K M Yu', 'D CChrzan', 'E E Haller', 'C-S PI NCollaboration', 'Chinglin Chang', 'Chungli Dong', 'Xaogang Wen', 'W. X. Zhang', 'C.V. Cojocaru', 'C. Harnagea', 'A. Pignolet', 'A.Wagner', 'David Marlin', 'Sandra Collier', 'David Aldridge', 'Neill Symons', 'Keith Wilson', 'Lanbo Liu', 'Steven Ketcham', 'Vladimir Ostashev', 'Michael Yaworski', 'Elaine Bohr', 'Xuguang C HI', 'W Y Hsiang', 'James Koga', 'Mitsuru Yamagiwa', 'Timur Esirkepov', 'Sergei Vladimirovich Bulanov', 'Hiroyuki Daido', 'Ylva K.Olsson', 'Ronen Rapaport', 'Dan Fuchs', 'Jonathan Steckel', 'Vikram Sundar', 'Z.F.Ren', 'Tom Harris', 'M.Dresselhaus', 'Alexander Groisman', 'Jiali Gao', 'Gianluca Lattanzi', 'Ted Cox', 'Yuri Lyubchenko', 'Wei-Chi Wang', 'Yu-Ying Liu', 'G. Kalosakas', 'A.Usheva', 'Y.Yeh', 'S. Fore', 'T.Laurence', 'T. Huser', 'R. Balhorn', 'M. Cosman', 'Cecilia Petit', 'Mario Pellicoro', 'Sebastiano Stramaglia', 'Leonardo Angelini', 'Theodore H.Schwartz', 'Minah Suh', 'Ashesh D. Mehta', 'Vera Novak', 'Asif Sharif', 'Der Chyan Lin', 'Hon Kwan', 'D.S.Borette', 'Jason Wyman', 'Shannon Dillmore', 'William Murphy', 'Marc Garfinkel', 'Richard C. Yeh', \"Jennifer D'Ascoli\", 'Michael L.Dustin', 'Horacio G.Rotstein', 'Anne-Marie Oswald', 'Carlo Laing', 'Maurice Chacron', 'Joseph Zarycki', 'Cindy Chestek', 'Hillel Chiel', 'Steven Garverick', 'Tanya Kuritz', 'Elizabeth Owens', 'Jason Middleton', 'Janaki Balakrishnan', 'E. A. Shaner', 'Y.Tan', 'Dave Cardimona(U SAir Force Research Lab', 'Tzveta Apostolova', 'S.Fahy', 'A.Lindsay', \"E. P. O'Reilly\", 'S.~A.Lyon', 'Simion G.', 'Polini M.', 'Asgari R.', 'Davoudi B.', 'Giuliani G.F.', 'Tosi M.P.', 'Vignale G.', 'B.Davoudi', 'R. Asgari', 'G. Simion', 'M.P.Tosi', 'Y.P. Shkolnikov', 'Alejandro R. Goñi', 'Paula Giudici', 'César R.Proetto', 'Senatore Gaetano', 'Botti Michela', 'Moroni Saverio', 'C.J.vander Beek', 'Y.Haga', 'C Capan', 'A Bianchi', 'P G Pagliuso', 'J L Sarrao', 'Peter Mc Hale', 'P. Frigeri', 'R.P.Kaur', 'A. Koga', 'G.J. Mac Dougall', 'R.J Cava', 'Lloyd W.Engel', 'M.D.Stewart Jr.', 'Philip W.Adams', 'L.A.Farina', 'K.M.Lewis', 'S.^* Ghosh', 'Rory Donovan', 'James Jones', 'Joao Sosa', 'Amber Beckley', 'N.Mason', 'T. Jackson', 'H. Wadhar', 'M.F.Islam', 'D.L.Ho', 'J.P.L U', 'Y UA N C HE NG', 'B.G AO', 'W.L IN', 'Y.Z. L EE', 'O TT OZ HO U', 'S. D IK E', 'Papot Jaroenapibal', 'Jane Howe', 'Mikka NI SH IT AN I-G AM O', 'Noboru W AD A', 'Hiroyuki A BE', 'Toshihiro AN DO', 'A.R.Hight Walker', 'D. Dunmire', 'A. Husain', 'H. Ch. W. Postma', 'I. Kozinsky', 'O. Kogan', 'A. Scherer', 'M. C. Cross', 'I Kozinsky', 'O Kogan', 'M.C. Cross', 'W.Lin', 'Y.Z. Lee', 'D.Lalush', 'A.M. Fennimore', 'K.Eisenbeiser', 'S.Aloni', 'Dmitry Spivak', 'Adam Hall', 'D. M. Spivak', 'Alexandre Shvartsburg', 'R. Wesolowski', 'T.Baruah', 'N.Dalal', 'J.M. North', 'Anthony C.Maggs', 'Clare P.Grey', 'B. Wells', 'S.Grenier', 'Yong-Ching Liang', 'R.D.Mc Donald', 'F. R. Drymiotis', 'H.Harima', 'G.G.Xu', 'W. Evans', 'N.Sata', 'O.Shimomura', 'Jason Fabbri', 'Hanfu Wang', 'Richard C.Bell', 'James P.Cowin', 'Martin J. Iedema', 'Thierry Le Mogne', 'B. V. Yakshinskiy', 'T. Schlereth', 'Milan', 'Giuliana Materzanini (I ST M-C NR center', 'Gian Franco Tantardini(Universityof Milan', 'Philip J.D.Lindan(Universityof Kentat Canterbury', 'Golm', 'Peter Saalfrank (Universität Potsdam', 'Maximilian Epple', 'Philipp Buluschek', 'Laurent Claude', 'Harald Brune (Institute of the Physics of Nanostructures', 'Ming-Hu Pan', 'Xiang-Rong Wang', 'Zi-Qiang Qiu', 'N.F. Heinig', 'N Kharbanda', 'P.P.Vaishnava', 'U. Senaratne', 'G. Tsoi', 'S.E.Inderhees', 'J van Lierop', 'A.Matzger', 'M. Rowe', 'Elizabeth Kroll', 'J.P.Harmon', 'K. Mohomed', 'Javier Guevara (Escuela de Ciencia y Tecnologia', 'Universidad de San Martin', 'Alem 3901', 'San Martin', 'Argentina y Departamento de Fisica', 'C AC-C NE A', 'Avda Gral Paz 1499', 'Juan Martin Montejano-Carrizalez', 'Y. Y. Hsu', 'T.P.Perng', 'Richard Gambino', 'Eric Baumberger', 'K.L.Kiick', 'M. Charati', 'N IC HO LA SK IO US SI S', 'D IM IT RI PA PA CO NS TA NT OP OU LO S', 'Akilan Palanisami(Univ.of Ill.at Urbana-Champaign', 'N.D.Mathur', 'Jin Young Sohn', 'Jang-Sik Lee', 'Y Moritomo', 'R Manginell', 'Y.Basson', 'K.Waku', 'T.Nomura', 'J Fernandez-Rossier', 'I.V.Zozoulenko', 'M. Evaldsson', 'A.S.Sachrajda', 'Kapila P Hewaparakrama', 'Firoze H Haque', 'Jacek KFurdyna', 'Tuan A Nguyen', 'Anthony J Wilson', 'Howard EJackson', 'Vitali Methlusko', 'D. Q. Feng', 'T. Yokota', 'M.D.Chabot', 'J.Moreland', 'A. P. Ring', 'C. Bayer', 'Larry Sorensen', 'O.Petracic', 'Grey P.Arnup', 'Byoung C.Choi', 'M.Izumi^1', 'T. Otagiri^1', 'M. Arai^1', 'M. Kodaira^1', 'O.Yanagisawa^2', 'A.Yousif', 'Imaddin A. Al-Omari', 'A. Rais', 'M.Lataifeh', 'C. H. Cheng', 'H.C.Busch', 'C.I. Sukenik', 'M.K. Shaffer', 'Nicholas N. Kuzma', 'R.W.van Boeyen', 'N.Watanabe', 'J.P.Doering', 'J.H.Moore', 'J.W.Cooper', 'M. A. Coplan', 'Remigio Cabrera-Trujillo', 'John R. Sabin', 'Yngve Öhrn', 'P.H.Tsao', 'C.H. Wei', 'Roland Weidisch', 'Ralf Lach', 'Konrad Knoll', 'Jonathan Gupton', 'Janna KMaranas', 'Thomas R. Lutz', 'Sanat K.Kumar', 'F. Bradbury', 'Erik Mueller', 'Christina Hägemann', 'Dario Martinez', 'Sergey Sysoev', 'Xiaoliu Chi ', 'Colin PNuckolls', 'Quyen Ngyen', 'Dohwan Kim', 'Yeongdon Park', 'Yunseok Jang', 'Sokol Ndoni', 'Martin E.Vigild', 'Rolf H.Berg', 'Kishore K. Tenneti', 'Vasileios Katsamanis', 'Theodora Afchoudia', 'Stanislav Sidorov', 'Maxim Kostylev', 'Roberto Olayo-Valles', 'Michael S. Lund', 'Sumit Agarwal', 'Deepak Sundrani', 'Kate Nelson', 'Thomas J. Mc Carthy', 'David Frankowski', 'Jose Raez', 'Nicole Power-Billard', 'Nicolas Duxin', 'Liu Futian', 'Jean-Francoisberret', 'David CLangreth', 'A.D. Enevoldsen', 'S. Trogisch', 'D.Wermeille', 'Christian Seidel', 'Harald Fuchs', 'Heiko Kopf', 'Andres Mikkelsen', 'Jesper N Andersen', 'Grazyna Antczak', 'Martin Masin', 'Steven L.Tait Jr.', 'Charles T.Campbell', 'Victor J.Bellitto', 'Jr.Russell', 'Tao-Nhan V. Nguyen', 'Qadir K. Timerghazin', 'Denise M. Koch', 'Holger Vach', 'Meunier Meunier', 'Saroj KNayak', 'Kim Youngchul', 'Dierdra Gormley', 'R. Barnes', 'H.H.Wang', 'T. Briere', 'V. Kumar', 'Frank Y.Jiang', 'David S. Zhao', 'Evelina Kim', 'Sylvain Grollau', 'Anton Darhuber', 'K.Kubo', 'K. Sakuma', 'M. B. Greenfield', 'Lilong Li', 'Marek Mihalkovich', 'G.W.Lee', 'A.K Gangopadhyay', 'Gretchen De Vries', 'Paul-Emile Trudeau', 'Alioska Escorcia', 'P. Beecher', 'H.Weller', 'E. Shevchenko', 'Zurich', 'Elena Bascones (Theoretische Physik', 'Thu Tran', 'Jens Kuntze', 'Alicia Jackson', 'Luis Blanco(Donostia International Physics Center', 'Z.L. Zhang', 'Jan-Olle Malm', 'Lisa Karlsson', 'Z.Yu', 'C. Harkati', 'L Martinu', 'J.-M. Lamarre', 'Mickael Schmitt', 'Krizstina Babocsi', 'Wolfgang Kiefer', 'Vladimir Kulakovskii', 'Dana Glasner', 'Qichang Su', 'Ruth Chabay', 'Mario Belloni', 'J. Lance', 'R.Dwayne Ramey', 'Jeong-Ho You', 'Philip I.Cohen', 'S.Cristoloveanu', 'Y. J. Chang', 'S.D.Bu', 'K. S. Park', 'D. Y. Cho', 'Bernard Terreault', 'Nicholas Desrosiers', 'J.Yan', 'S. Xie', 'M.M.Roberts', 'A.Lal', 'Daria Riabinina', 'Yougui Liao', 'Steven Vogel', 'G.A.Held', 'John Santa Lucia Jr.', 'Felix Naef', 'Marc Carnahan', 'Robert A.Kaindl', 'John Sidles', 'Jennifer Schopf', 'John Kot', 'Ralph Koster', 'Geoffrey W.Burr', 'Robert Hollebeek', 'Nitin Rathore', 'Thomas A. Knotts', 'Bruce Tidor', 'Alan J. Grodzinsky', 'Johan Bjursell', 'Claire Montgomery', 'Andrew Richardson', 'Kuni Iwasa', 'Mark Ospeck', 'Karen Havenstrite', 'Tobias Wheeler', 'Jean-Francois Bolduc', 'Groupederechercheenbiomecaniqueetbiomateriaux', 'K.Lai', 'F.Schaffler', 'Milica V.Milovanovic', 'D.C Tsui', 'G.A. Csáthy', 'S.D.Wang', 'D. K. Finnemore', 'R. H. T. Wilke', 'H. Sailsbury', 'R.J.Suplinskas', 'T.Klein', 'R. Brusetti', 'L. Lyard', 'K. H. P. Kim', 'B. Kang', 'Chris Regan', '-Qi Li', 'B.T. Liu', 'A.V.Pogrebnyakov', 'J.Redwing', 'H.S. Lee', 'B.T.Liu', 'Kijoon H.P.Kim', 'P. Choedhury', 'Soo-Hyeon Park', 'Jose Jesus Rodríguez-Núñez', 'Alex Andre Schmidt', 'Omardela Pena', 'D.Di Castro', 'R.Khasanov', 'D.G. Eshchenko', 'J.Roos', 'A.Shengelaya', 'K.Conder', 'S.M.Kazakov', 'R.A.Ribeiro', 'R.H.T.Wilke', 'N.Oeschler', 'W. E. Mickelson', 'M.Eschrig', 'J.Kopu', 'M.Marchevsky', 'C. Bolle', 'R.Boie', 'R.Cubitt', 'Elvira M. Gonzalez (Dpto. Fisica Materiales', 'La Jolla CA92093', 'Maria I. Montero (Dept. Physics', 'University of California-San Diego', 'Ivan K. Schuller (Dept. Physics', 'Jose L. Vicent (Dpto. Fisica Materiales', 'Stephanie Reid', 'Z.Altounian', 'Olivier Alonzo-Proulx', 'Graiden Gillis', 'Kenneth Suslick', 'Javier E. Villegas (Depto. Fisica Materiales', '351-0198', \"Sergey Savel'ev (Frontier Research System\", 'M I48109-1120', 'Elvira M. Gonzalez (Depto. Fisica Materiales', '28760 Madrid', 'Ricardo Garcia (Instituto Microelectronica', 'Tres Cantos', 'Jose L. Vicent (Depto. Fisica Materiales', 'A.A.Gapud', '+Thompson^*', 'D.M.Feldmann', 'D.K. Christen^*', 'H.J. Kim^+', 'R. Feenstra^*', 'Rodrigo B.Capaz', 'Seiji Uryu(Instituteof Physicaland Chemical Research', 'Sang Bong Lee', 'Rambabu Bobba', 'Paul L.Mceuen', 'Tomas A. Arias', 'C.P.Collier', 'I. Shapiro', 'M. Esplandiu', 'S. Solares', 'W.A. Goddard', 'A.T.\"Charlie\"Johnson', 'Axel Hagen', 'Emmanuell Flahaut', 'Vadim Talalaev', 'Jens W. Tomm', 'A.Y. Yodh', 'G. Ostojic', 'M.S.Strano', 'V. C. Moore', 'R. H. Hauge', 'G. N. Ostojic', 'Madoka Tokumoto(National Instituteof Advanced Industrial Scienceand Technology', 'Youichi Sakakibara', 'Aleksey G. Rozhin', 'Yuichi Tanaka', 'Sze Y. Set', 'Mark K. Jablonski', 'Kazuro Kikuchi', 'G.R.Fleming', 'Y.-Z. Ma', 'J. Stenger', 'J. Zimmermann', 'R.B.Weisman', 'S.M. Bachilo', \"M.J. O'Connell\", 'P.J Cox', 'R Schaller', 'Meza Montes Lilia', 'Sánchez Ariadna', 'Yasunori Hayashida', 'Hermenegildo Pedrosa', 'Lyndon L. Larcom', 'Clascidia Furtado', 'Un Kim', 'Michael Small', 'Pengliang Shi', 'Mauricio Barahona', 'Slaven Pele\\\\vs', \"Kre\\\\vsimir Josi\\\\'c\", 'H. Guclu', 'A.K.Kolakowska', 'Terrance Dubreus', 'B.Kozma', 'D.-S. Lee', 'M.Kaviany', 'A. J. H. Mc Gaughey', 'Chuck Peden', 'Samina Azad', 'Laxmikant Saraf', 'Olga Marina', 'Theva Thevuthasan', 'T.O.Mason', 'Serguei Andronenko', 'Y.W Lee', 'E.J Choi', 'J.H Kim', 'A Souchkov', 'C.W Nan', 'Francois Martin', 'Nathalie Perret', 'R. Waldrep', 'Mohamed Gad-el-Hak', 'Jeremy Levitan', 'Todd Thorsen', 'Todd M.Squires', 'Shawn A. Putnam', 'Frédéric Tessier', 'R SSubramanian', 'John Mc Laughlin', 'Eugenia Corvera Poiré', 'Rodrigo Ledesma', 'Aurora Hernández-Machado', 'Ursache Andrei', 'Xiao Qijun', 'Goldbach James', 'Tuominen Mark', 'P.Poddar', 'D. F. Farrell', 'Christopher Stark', 'Deborah Williams', 'Maitri Warusawi', 'M.Overby', 'Jun Nishimura', 'Atsushi Ohkubo', 'S.J.Sun(', 'M.T.Hong(', 'T.G.Huang(', 'J. Y. Dee', 'R.S.Bandhu', 'M.overby', 'K.S Harshavardhan', 'M. Strikovsky', 'Yibo Nian', 'Papagianni Christina', 'Wu Naijuan', 'Karsten Rode', 'C.Leon', 'M.Varela', 'Masao Nakamaure', 'Yusuke Uozu', 'Takao Nakajima', 'G.Biroli', 'O. Parcollet', 'M.Hohenadler', 'E.Ya. Sherman', 'M. Aichhorn', 'J. Spitaler', 'H.G.Evertz', 'B. Edegger', 'Micheal Geller', 'Paravastu Paravastu', 'Jonathan Strand', 'F. Charnock', 'R. Lopusnik', 'W.H. Lau', \"Branislav K.Nikoli\\\\'c\", 'Maricel De Mesa', 'James Stevens', 'Srinivas Kolla', 'Hiroshi Yokoyama', 'Shinfichi Yorozuya', 'Steven Dierker', 'Felicia Tsai', 'Jian H. Yu', 'Sergey V. Fridrikh', 'A Timmons', 'M. Poulsen', 'Ivan Junarsa', 'Thomas J.Mullen', 'J.H.Dickerson', 'L.Brus', 'T. -Q. T. Nguyen', 'Jose Amado MDinglasan', 'Yasuhisa Naitoh', 'H.H. Jung', 'Y.-S. Cho', 'J.H. Ha', 'Walter F.Smith', 'Brooks B. Bond-Watts', 'Julio C. de Paula', 'Kaushik R Choudhury', 'Marek Samoc', 'Harish Rajagopalan', 'Prakash Vippa', 'Karl Menako', 'Zontao Zhang', 'Bill R.Silveira', 'Hans ChristianÖttinger', 'George Stephanopoulos', 'Nick Choly', 'Baojing Zhou', 'Matt Fago', 'Hayn Park', 'Whasil Lee', 'Epameinondas Leontidis', 'ivan Biaggio', 'Francois Diederich', 'Nicolle N. P. Moonen', 'Florence J.Lin', 'Jack RKelly', 'Yuri P.Kalmykov', 'Sergei V.Titov', 'Denise Koch', 'Ecole Normale Superieur', 'James Hynes (Departement de Chimie', 'C NR S', 'Panakkattu Babu', 'Hee Soo Kim', 'R.J. Joynt', 'A.M.Tyryshkin', 'E.Yablonovitch', 'Rogerio Magalhães-Paniago', 'Ted Kamins', 'Rogeriode Sousa', 'J. D. Delgado', 'I. Rangelow', 'D.H. Schneider', 'Deepak S. Rao', 'Robert M.Westervelt', 'Art C.Gossard', 'J. Sarkar', 'Mingjiao Liu', 'Ming-Jey Yang', 'L.Eaves(Nottingham', 'Pablo García-González', 'Nicolas Toumbas', 'P-I.Johansson', 'Raul Esquivel', 'B.N.Narahari Achar', 'Raymond S. Puzio', 'Amin Akhavan', 'Mohamed Sahraoui-Tahar', 'N UH GE DI K', 'S.I.Kiselev', 'Per Nordblad', 'Alexander K.Hartmann', 'Hans Othmer', 'Shahid Khan', 'Jason Gestwicki', 'Diethelm Johannsmann', 'Curtis Frank', 'Shawn Carrigan', 'George Scott', 'Maryam Tabrizian', 'Julie Norville', 'Barry Bruce', 'Y Fan', 'L Udpa', 'Le Shon Tan', 'K.H. Aaron Lau', 'Kaoru Tamada', 'Melissa S.Sander', 'H. S. Kato', 'M.Aida', 'Z. Abu Samah', 'E Parker', 'R Pynn', 'N.C. Mac Donald', 'Y.Deng', 'X. Cai', 'Bin Tang', 'Philippe Boisvert', 'Ivan Graovac', 'Darren Anderson', 'Jan Rainey', 'M.Cynthia Goh', 'Yevgeny Moskovitz', 'J.A.Bonetti', 'Alistair Armstrong-Brown', 'J. Alicea', 'A.Paramekanti', 'Andrey D.Ivliev', 'M.Potemski', 'M.Pioro-Landriere', 'M.Hilke', 'Alexandre D.Faribault', 'Yong CH EN', 'Yan Li-', 'Matthew A Tunney', 'Elizabeth Duplock', 'Philip J.D.Lindan', 'M. J. Heben', 'A. J. Nozik', 'S.F.Huang', 'T.C. Leung', 'Alan Cooper', 'Guido Pez', 'M.E. I TK IS', 'D.E. P ER EA', 'S. N IY OG I', 'J. L OV E', 'J. T AN G', 'A. Y U', 'C. K AN G', 'Rafail L.Khalfin', 'Swapan Chakraborty', 'Arnout Ceulemans', 'M.P.Petkov', 'W.Volksen', 'L.Tsetseris', 'Nauman Butt', 'Kailash C.Mishra', 'Andrii Matkovskii', 'Michael Glazoff', 'A. Y. Borisevich', 'M.V.Glazoff', 'K.W.Sohlberg', 'Khosrow Hassani', 'Arthur E.Edwards', 'T.Teplitskaya', 'V. Cherginets', 'O. Demirskaya', 'A. Aslanov', 'Zh. Klitsova', 'T. Rebrova', 'Andrei Y. Istomin', 'Andrew S.Sachrajda', 'Michel Pioro-LadriÃ¨re', 'Émilie Dupont', 'Jacob Grose', 'C.Bruder', 'W. Belzig', 'B.Pant', 'A.V. Nazarov', 'Bharat B.Pant', 'Alexey V. Nazarov', 'Martin P. Plumer', 'J.L.Mc Chesney', 'V. Pérez-Dieste', 'S.A.López-Rivera', 'A.Damascelli', 'J.Di Tusa', 'Ncholu Manyala', 'John Cherry', 'F.F Balakirev', 'S.N.Barilo', 'Sang Woog Ryu', 'Metin Acar', 'Clara Carelli', 'Ron Young', 'James S.Sharp', 'Yi-Fang Huang', 'Verner Thorsmølle', 'Sergie Tretiak', 'B.Batlogg^*', '** Bergemann^*', 'Ross Datars', 'Zaccheus Buffett', 'Yu Hui', 'S. Vaidyanathan', 'O.Y. Kas', 'L.J.Rothberg', 'H.P.Wagner', 'Ajith De Silva', 'T.U.Kampen', 'Tieneke E. Dykstra', 'Jay Klosterman', 'Brett Irwin', 'A.Ian Harrison', 'Kristy M. De Witt', 'Merrick J. De Witt', 'Samantha Horvath', 'Joshua Judge', 'Indraneel Samanta', 'Rob Zehr', 'Frank Renner', 'Dieter M.Kolb', 'Victor Bellitto', 'Stanley Caulder', 'Luc Daemen', 'Xiaojing Zhou', 'A.Jayasinghe', 'K.T. Park', 'T.S. Ellis', 'H. C. Poon', 'T. Zheng', 'D. Stacchiola', 'W. T. Tysoe', 'M.R.Mastin', 'L.Sanche', 'S.-P. Breton', 'M. Michaud', 'P.Swiderek', 'C. Jäggle', 'Yeong Woo Kim', 'Eric Cuffle', 'Tieqiao Zhang', 'T.Matsuzaki', 'S.N.Nakamura', 'Paul Moffatt', 'Pierre-Nicholas Roy'] is not in list",
     "output_type": "error",
     "traceback": [
      "\u001b[0;31m---------------------------------------------------------------------------\u001b[0m",
      "\u001b[0;31mValueError\u001b[0m                                Traceback (most recent call last)",
      "Cell \u001b[0;32mIn[111], line 1\u001b[0m\n\u001b[0;32m----> 1\u001b[0m \u001b[43msaveAuthor_extra\u001b[49m\u001b[43m(\u001b[49m\u001b[43merrorAuthors\u001b[49m\u001b[43m,\u001b[49m\u001b[43m \u001b[49m\u001b[43mauthors\u001b[49m\u001b[43m,\u001b[49m\u001b[43m \u001b[49m\u001b[38;5;124;43m'\u001b[39;49m\u001b[38;5;124;43mFiles/Authors/\u001b[39;49m\u001b[38;5;124;43m'\u001b[39;49m\u001b[43m,\u001b[49m\u001b[43m \u001b[49m\u001b[43murl\u001b[49m\u001b[43m,\u001b[49m\u001b[43m \u001b[49m\u001b[43mkey\u001b[49m\u001b[43m)\u001b[49m\n",
      "Cell \u001b[0;32mIn[110], line 5\u001b[0m, in \u001b[0;36msaveAuthor_extra\u001b[0;34m(names, nameList, path, url, key)\u001b[0m\n\u001b[1;32m      3\u001b[0m error_authors \u001b[38;5;241m=\u001b[39m [] \u001b[38;5;66;03m#list for authors with error\u001b[39;00m\n\u001b[1;32m      4\u001b[0m \u001b[38;5;28;01mfor\u001b[39;00m i \u001b[38;5;129;01min\u001b[39;00m tqdm(names): \n\u001b[0;32m----> 5\u001b[0m     index \u001b[38;5;241m=\u001b[39m \u001b[43mnameList\u001b[49m\u001b[38;5;241;43m.\u001b[39;49m\u001b[43mindex\u001b[49m\u001b[43m(\u001b[49m\u001b[43mi\u001b[49m\u001b[43m)\u001b[49m\n\u001b[1;32m      6\u001b[0m     parameters \u001b[38;5;241m=\u001b[39m {\n\u001b[1;32m      7\u001b[0m         \u001b[38;5;124m\"\u001b[39m\u001b[38;5;124mquery\u001b[39m\u001b[38;5;124m\"\u001b[39m: i,\n\u001b[1;32m      8\u001b[0m         \u001b[38;5;124m\"\u001b[39m\u001b[38;5;124mfields\u001b[39m\u001b[38;5;124m\"\u001b[39m: \u001b[38;5;124m\"\u001b[39m\u001b[38;5;124mname,paperCount,citationCount,hIndex,aliases,papers.title,papers.fieldsOfStudy,papers.s2FieldsOfStudy,papers.referenceCount,papers.year,papers.citationCount,papers.influentialCitationCount,papers.publicationDate\u001b[39m\u001b[38;5;124m\"\u001b[39m\n\u001b[1;32m      9\u001b[0m         }\n\u001b[1;32m     10\u001b[0m     \u001b[38;5;28;01mtry\u001b[39;00m:\n",
      "\u001b[0;31mValueError\u001b[0m: ['C. L. Canedy', 'P.Gruetter', 'S. A. Burke', 'R. Hoffmann', 'Anton Ramsak', 'Chirakkal Khrishnan', 'K Yoon', 'N.Mingo', 'Maarten Kruithof', 'Frank v.d. Heyden', 'Ronald Miller', 'M.Dewald', 'Alan Needleman', 'Adrian Lew', 'C. R. Miranda', 'L.Huang', 'J.D.Nicholas', 'J.D.Bass', 'Wolfgang Goetze', 'E. W. Draeger', 'A. J. Williamson', 'Aizhen Zhang', 'Marc M. Dignam', 'Jun Wan', 'P.V.Santos', 'J.A.H. Stotz', 'G.Cueva', 'P. Kondratko', 'S.K.Hark', 'X.T. Zhang', 'K.M. Ip', 'E.J.Singley', 'Chad Meserole', 'Gregory Fisher', 'David Funk', 'Victoria Ciulin', 'Chad Wang', 'O.D.Dubon', 'J. T. Robinson', 'I. D. Sharp', 'D.O.Yi', 'D.N.Zakharov', 'O Iivier Landry', 'Alexis Gagnon-Morris', 'D OYi', 'C YLiao', 'I D Sharp', 'Q Xu', 'D Zakharov', 'J W Ager', 'J W Beeman', 'Z Liliental-Weber', 'K M Yu', 'D CChrzan', 'E E Haller', 'C-S PI NCollaboration', 'Chinglin Chang', 'Chungli Dong', 'Xaogang Wen', 'W. X. Zhang', 'C.V. Cojocaru', 'C. Harnagea', 'A. Pignolet', 'A.Wagner', 'David Marlin', 'Sandra Collier', 'David Aldridge', 'Neill Symons', 'Keith Wilson', 'Lanbo Liu', 'Steven Ketcham', 'Vladimir Ostashev', 'Michael Yaworski', 'Elaine Bohr', 'Xuguang C HI', 'W Y Hsiang', 'James Koga', 'Mitsuru Yamagiwa', 'Timur Esirkepov', 'Sergei Vladimirovich Bulanov', 'Hiroyuki Daido', 'Ylva K.Olsson', 'Ronen Rapaport', 'Dan Fuchs', 'Jonathan Steckel', 'Vikram Sundar', 'Z.F.Ren', 'Tom Harris', 'M.Dresselhaus', 'Alexander Groisman', 'Jiali Gao', 'Gianluca Lattanzi', 'Ted Cox', 'Yuri Lyubchenko', 'Wei-Chi Wang', 'Yu-Ying Liu', 'G. Kalosakas', 'A.Usheva', 'Y.Yeh', 'S. Fore', 'T.Laurence', 'T. Huser', 'R. Balhorn', 'M. Cosman', 'Cecilia Petit', 'Mario Pellicoro', 'Sebastiano Stramaglia', 'Leonardo Angelini', 'Theodore H.Schwartz', 'Minah Suh', 'Ashesh D. Mehta', 'Vera Novak', 'Asif Sharif', 'Der Chyan Lin', 'Hon Kwan', 'D.S.Borette', 'Jason Wyman', 'Shannon Dillmore', 'William Murphy', 'Marc Garfinkel', 'Richard C. Yeh', \"Jennifer D'Ascoli\", 'Michael L.Dustin', 'Horacio G.Rotstein', 'Anne-Marie Oswald', 'Carlo Laing', 'Maurice Chacron', 'Joseph Zarycki', 'Cindy Chestek', 'Hillel Chiel', 'Steven Garverick', 'Tanya Kuritz', 'Elizabeth Owens', 'Jason Middleton', 'Janaki Balakrishnan', 'E. A. Shaner', 'Y.Tan', 'Dave Cardimona(U SAir Force Research Lab', 'Tzveta Apostolova', 'S.Fahy', 'A.Lindsay', \"E. P. O'Reilly\", 'S.~A.Lyon', 'Simion G.', 'Polini M.', 'Asgari R.', 'Davoudi B.', 'Giuliani G.F.', 'Tosi M.P.', 'Vignale G.', 'B.Davoudi', 'R. Asgari', 'G. Simion', 'M.P.Tosi', 'Y.P. Shkolnikov', 'Alejandro R. Goñi', 'Paula Giudici', 'César R.Proetto', 'Senatore Gaetano', 'Botti Michela', 'Moroni Saverio', 'C.J.vander Beek', 'Y.Haga', 'C Capan', 'A Bianchi', 'P G Pagliuso', 'J L Sarrao', 'Peter Mc Hale', 'P. Frigeri', 'R.P.Kaur', 'A. Koga', 'G.J. Mac Dougall', 'R.J Cava', 'Lloyd W.Engel', 'M.D.Stewart Jr.', 'Philip W.Adams', 'L.A.Farina', 'K.M.Lewis', 'S.^* Ghosh', 'Rory Donovan', 'James Jones', 'Joao Sosa', 'Amber Beckley', 'N.Mason', 'T. Jackson', 'H. Wadhar', 'M.F.Islam', 'D.L.Ho', 'J.P.L U', 'Y UA N C HE NG', 'B.G AO', 'W.L IN', 'Y.Z. L EE', 'O TT OZ HO U', 'S. D IK E', 'Papot Jaroenapibal', 'Jane Howe', 'Mikka NI SH IT AN I-G AM O', 'Noboru W AD A', 'Hiroyuki A BE', 'Toshihiro AN DO', 'A.R.Hight Walker', 'D. Dunmire', 'A. Husain', 'H. Ch. W. Postma', 'I. Kozinsky', 'O. Kogan', 'A. Scherer', 'M. C. Cross', 'I Kozinsky', 'O Kogan', 'M.C. Cross', 'W.Lin', 'Y.Z. Lee', 'D.Lalush', 'A.M. Fennimore', 'K.Eisenbeiser', 'S.Aloni', 'Dmitry Spivak', 'Adam Hall', 'D. M. Spivak', 'Alexandre Shvartsburg', 'R. Wesolowski', 'T.Baruah', 'N.Dalal', 'J.M. North', 'Anthony C.Maggs', 'Clare P.Grey', 'B. Wells', 'S.Grenier', 'Yong-Ching Liang', 'R.D.Mc Donald', 'F. R. Drymiotis', 'H.Harima', 'G.G.Xu', 'W. Evans', 'N.Sata', 'O.Shimomura', 'Jason Fabbri', 'Hanfu Wang', 'Richard C.Bell', 'James P.Cowin', 'Martin J. Iedema', 'Thierry Le Mogne', 'B. V. Yakshinskiy', 'T. Schlereth', 'Milan', 'Giuliana Materzanini (I ST M-C NR center', 'Gian Franco Tantardini(Universityof Milan', 'Philip J.D.Lindan(Universityof Kentat Canterbury', 'Golm', 'Peter Saalfrank (Universität Potsdam', 'Maximilian Epple', 'Philipp Buluschek', 'Laurent Claude', 'Harald Brune (Institute of the Physics of Nanostructures', 'Ming-Hu Pan', 'Xiang-Rong Wang', 'Zi-Qiang Qiu', 'N.F. Heinig', 'N Kharbanda', 'P.P.Vaishnava', 'U. Senaratne', 'G. Tsoi', 'S.E.Inderhees', 'J van Lierop', 'A.Matzger', 'M. Rowe', 'Elizabeth Kroll', 'J.P.Harmon', 'K. Mohomed', 'Javier Guevara (Escuela de Ciencia y Tecnologia', 'Universidad de San Martin', 'Alem 3901', 'San Martin', 'Argentina y Departamento de Fisica', 'C AC-C NE A', 'Avda Gral Paz 1499', 'Juan Martin Montejano-Carrizalez', 'Y. Y. Hsu', 'T.P.Perng', 'Richard Gambino', 'Eric Baumberger', 'K.L.Kiick', 'M. Charati', 'N IC HO LA SK IO US SI S', 'D IM IT RI PA PA CO NS TA NT OP OU LO S', 'Akilan Palanisami(Univ.of Ill.at Urbana-Champaign', 'N.D.Mathur', 'Jin Young Sohn', 'Jang-Sik Lee', 'Y Moritomo', 'R Manginell', 'Y.Basson', 'K.Waku', 'T.Nomura', 'J Fernandez-Rossier', 'I.V.Zozoulenko', 'M. Evaldsson', 'A.S.Sachrajda', 'Kapila P Hewaparakrama', 'Firoze H Haque', 'Jacek KFurdyna', 'Tuan A Nguyen', 'Anthony J Wilson', 'Howard EJackson', 'Vitali Methlusko', 'D. Q. Feng', 'T. Yokota', 'M.D.Chabot', 'J.Moreland', 'A. P. Ring', 'C. Bayer', 'Larry Sorensen', 'O.Petracic', 'Grey P.Arnup', 'Byoung C.Choi', 'M.Izumi^1', 'T. Otagiri^1', 'M. Arai^1', 'M. Kodaira^1', 'O.Yanagisawa^2', 'A.Yousif', 'Imaddin A. Al-Omari', 'A. Rais', 'M.Lataifeh', 'C. H. Cheng', 'H.C.Busch', 'C.I. Sukenik', 'M.K. Shaffer', 'Nicholas N. Kuzma', 'R.W.van Boeyen', 'N.Watanabe', 'J.P.Doering', 'J.H.Moore', 'J.W.Cooper', 'M. A. Coplan', 'Remigio Cabrera-Trujillo', 'John R. Sabin', 'Yngve Öhrn', 'P.H.Tsao', 'C.H. Wei', 'Roland Weidisch', 'Ralf Lach', 'Konrad Knoll', 'Jonathan Gupton', 'Janna KMaranas', 'Thomas R. Lutz', 'Sanat K.Kumar', 'F. Bradbury', 'Erik Mueller', 'Christina Hägemann', 'Dario Martinez', 'Sergey Sysoev', 'Xiaoliu Chi ', 'Colin PNuckolls', 'Quyen Ngyen', 'Dohwan Kim', 'Yeongdon Park', 'Yunseok Jang', 'Sokol Ndoni', 'Martin E.Vigild', 'Rolf H.Berg', 'Kishore K. Tenneti', 'Vasileios Katsamanis', 'Theodora Afchoudia', 'Stanislav Sidorov', 'Maxim Kostylev', 'Roberto Olayo-Valles', 'Michael S. Lund', 'Sumit Agarwal', 'Deepak Sundrani', 'Kate Nelson', 'Thomas J. Mc Carthy', 'David Frankowski', 'Jose Raez', 'Nicole Power-Billard', 'Nicolas Duxin', 'Liu Futian', 'Jean-Francoisberret', 'David CLangreth', 'A.D. Enevoldsen', 'S. Trogisch', 'D.Wermeille', 'Christian Seidel', 'Harald Fuchs', 'Heiko Kopf', 'Andres Mikkelsen', 'Jesper N Andersen', 'Grazyna Antczak', 'Martin Masin', 'Steven L.Tait Jr.', 'Charles T.Campbell', 'Victor J.Bellitto', 'Jr.Russell', 'Tao-Nhan V. Nguyen', 'Qadir K. Timerghazin', 'Denise M. Koch', 'Holger Vach', 'Meunier Meunier', 'Saroj KNayak', 'Kim Youngchul', 'Dierdra Gormley', 'R. Barnes', 'H.H.Wang', 'T. Briere', 'V. Kumar', 'Frank Y.Jiang', 'David S. Zhao', 'Evelina Kim', 'Sylvain Grollau', 'Anton Darhuber', 'K.Kubo', 'K. Sakuma', 'M. B. Greenfield', 'Lilong Li', 'Marek Mihalkovich', 'G.W.Lee', 'A.K Gangopadhyay', 'Gretchen De Vries', 'Paul-Emile Trudeau', 'Alioska Escorcia', 'P. Beecher', 'H.Weller', 'E. Shevchenko', 'Zurich', 'Elena Bascones (Theoretische Physik', 'Thu Tran', 'Jens Kuntze', 'Alicia Jackson', 'Luis Blanco(Donostia International Physics Center', 'Z.L. Zhang', 'Jan-Olle Malm', 'Lisa Karlsson', 'Z.Yu', 'C. Harkati', 'L Martinu', 'J.-M. Lamarre', 'Mickael Schmitt', 'Krizstina Babocsi', 'Wolfgang Kiefer', 'Vladimir Kulakovskii', 'Dana Glasner', 'Qichang Su', 'Ruth Chabay', 'Mario Belloni', 'J. Lance', 'R.Dwayne Ramey', 'Jeong-Ho You', 'Philip I.Cohen', 'S.Cristoloveanu', 'Y. J. Chang', 'S.D.Bu', 'K. S. Park', 'D. Y. Cho', 'Bernard Terreault', 'Nicholas Desrosiers', 'J.Yan', 'S. Xie', 'M.M.Roberts', 'A.Lal', 'Daria Riabinina', 'Yougui Liao', 'Steven Vogel', 'G.A.Held', 'John Santa Lucia Jr.', 'Felix Naef', 'Marc Carnahan', 'Robert A.Kaindl', 'John Sidles', 'Jennifer Schopf', 'John Kot', 'Ralph Koster', 'Geoffrey W.Burr', 'Robert Hollebeek', 'Nitin Rathore', 'Thomas A. Knotts', 'Bruce Tidor', 'Alan J. Grodzinsky', 'Johan Bjursell', 'Claire Montgomery', 'Andrew Richardson', 'Kuni Iwasa', 'Mark Ospeck', 'Karen Havenstrite', 'Tobias Wheeler', 'Jean-Francois Bolduc', 'Groupederechercheenbiomecaniqueetbiomateriaux', 'K.Lai', 'F.Schaffler', 'Milica V.Milovanovic', 'D.C Tsui', 'G.A. Csáthy', 'S.D.Wang', 'D. K. Finnemore', 'R. H. T. Wilke', 'H. Sailsbury', 'R.J.Suplinskas', 'T.Klein', 'R. Brusetti', 'L. Lyard', 'K. H. P. Kim', 'B. Kang', 'Chris Regan', '-Qi Li', 'B.T. Liu', 'A.V.Pogrebnyakov', 'J.Redwing', 'H.S. Lee', 'B.T.Liu', 'Kijoon H.P.Kim', 'P. Choedhury', 'Soo-Hyeon Park', 'Jose Jesus Rodríguez-Núñez', 'Alex Andre Schmidt', 'Omardela Pena', 'D.Di Castro', 'R.Khasanov', 'D.G. Eshchenko', 'J.Roos', 'A.Shengelaya', 'K.Conder', 'S.M.Kazakov', 'R.A.Ribeiro', 'R.H.T.Wilke', 'N.Oeschler', 'W. E. Mickelson', 'M.Eschrig', 'J.Kopu', 'M.Marchevsky', 'C. Bolle', 'R.Boie', 'R.Cubitt', 'Elvira M. Gonzalez (Dpto. Fisica Materiales', 'La Jolla CA92093', 'Maria I. Montero (Dept. Physics', 'University of California-San Diego', 'Ivan K. Schuller (Dept. Physics', 'Jose L. Vicent (Dpto. Fisica Materiales', 'Stephanie Reid', 'Z.Altounian', 'Olivier Alonzo-Proulx', 'Graiden Gillis', 'Kenneth Suslick', 'Javier E. Villegas (Depto. Fisica Materiales', '351-0198', \"Sergey Savel'ev (Frontier Research System\", 'M I48109-1120', 'Elvira M. Gonzalez (Depto. Fisica Materiales', '28760 Madrid', 'Ricardo Garcia (Instituto Microelectronica', 'Tres Cantos', 'Jose L. Vicent (Depto. Fisica Materiales', 'A.A.Gapud', '+Thompson^*', 'D.M.Feldmann', 'D.K. Christen^*', 'H.J. Kim^+', 'R. Feenstra^*', 'Rodrigo B.Capaz', 'Seiji Uryu(Instituteof Physicaland Chemical Research', 'Sang Bong Lee', 'Rambabu Bobba', 'Paul L.Mceuen', 'Tomas A. Arias', 'C.P.Collier', 'I. Shapiro', 'M. Esplandiu', 'S. Solares', 'W.A. Goddard', 'A.T.\"Charlie\"Johnson', 'Axel Hagen', 'Emmanuell Flahaut', 'Vadim Talalaev', 'Jens W. Tomm', 'A.Y. Yodh', 'G. Ostojic', 'M.S.Strano', 'V. C. Moore', 'R. H. Hauge', 'G. N. Ostojic', 'Madoka Tokumoto(National Instituteof Advanced Industrial Scienceand Technology', 'Youichi Sakakibara', 'Aleksey G. Rozhin', 'Yuichi Tanaka', 'Sze Y. Set', 'Mark K. Jablonski', 'Kazuro Kikuchi', 'G.R.Fleming', 'Y.-Z. Ma', 'J. Stenger', 'J. Zimmermann', 'R.B.Weisman', 'S.M. Bachilo', \"M.J. O'Connell\", 'P.J Cox', 'R Schaller', 'Meza Montes Lilia', 'Sánchez Ariadna', 'Yasunori Hayashida', 'Hermenegildo Pedrosa', 'Lyndon L. Larcom', 'Clascidia Furtado', 'Un Kim', 'Michael Small', 'Pengliang Shi', 'Mauricio Barahona', 'Slaven Pele\\\\vs', \"Kre\\\\vsimir Josi\\\\'c\", 'H. Guclu', 'A.K.Kolakowska', 'Terrance Dubreus', 'B.Kozma', 'D.-S. Lee', 'M.Kaviany', 'A. J. H. Mc Gaughey', 'Chuck Peden', 'Samina Azad', 'Laxmikant Saraf', 'Olga Marina', 'Theva Thevuthasan', 'T.O.Mason', 'Serguei Andronenko', 'Y.W Lee', 'E.J Choi', 'J.H Kim', 'A Souchkov', 'C.W Nan', 'Francois Martin', 'Nathalie Perret', 'R. Waldrep', 'Mohamed Gad-el-Hak', 'Jeremy Levitan', 'Todd Thorsen', 'Todd M.Squires', 'Shawn A. Putnam', 'Frédéric Tessier', 'R SSubramanian', 'John Mc Laughlin', 'Eugenia Corvera Poiré', 'Rodrigo Ledesma', 'Aurora Hernández-Machado', 'Ursache Andrei', 'Xiao Qijun', 'Goldbach James', 'Tuominen Mark', 'P.Poddar', 'D. F. Farrell', 'Christopher Stark', 'Deborah Williams', 'Maitri Warusawi', 'M.Overby', 'Jun Nishimura', 'Atsushi Ohkubo', 'S.J.Sun(', 'M.T.Hong(', 'T.G.Huang(', 'J. Y. Dee', 'R.S.Bandhu', 'M.overby', 'K.S Harshavardhan', 'M. Strikovsky', 'Yibo Nian', 'Papagianni Christina', 'Wu Naijuan', 'Karsten Rode', 'C.Leon', 'M.Varela', 'Masao Nakamaure', 'Yusuke Uozu', 'Takao Nakajima', 'G.Biroli', 'O. Parcollet', 'M.Hohenadler', 'E.Ya. Sherman', 'M. Aichhorn', 'J. Spitaler', 'H.G.Evertz', 'B. Edegger', 'Micheal Geller', 'Paravastu Paravastu', 'Jonathan Strand', 'F. Charnock', 'R. Lopusnik', 'W.H. Lau', \"Branislav K.Nikoli\\\\'c\", 'Maricel De Mesa', 'James Stevens', 'Srinivas Kolla', 'Hiroshi Yokoyama', 'Shinfichi Yorozuya', 'Steven Dierker', 'Felicia Tsai', 'Jian H. Yu', 'Sergey V. Fridrikh', 'A Timmons', 'M. Poulsen', 'Ivan Junarsa', 'Thomas J.Mullen', 'J.H.Dickerson', 'L.Brus', 'T. -Q. T. Nguyen', 'Jose Amado MDinglasan', 'Yasuhisa Naitoh', 'H.H. Jung', 'Y.-S. Cho', 'J.H. Ha', 'Walter F.Smith', 'Brooks B. Bond-Watts', 'Julio C. de Paula', 'Kaushik R Choudhury', 'Marek Samoc', 'Harish Rajagopalan', 'Prakash Vippa', 'Karl Menako', 'Zontao Zhang', 'Bill R.Silveira', 'Hans ChristianÖttinger', 'George Stephanopoulos', 'Nick Choly', 'Baojing Zhou', 'Matt Fago', 'Hayn Park', 'Whasil Lee', 'Epameinondas Leontidis', 'ivan Biaggio', 'Francois Diederich', 'Nicolle N. P. Moonen', 'Florence J.Lin', 'Jack RKelly', 'Yuri P.Kalmykov', 'Sergei V.Titov', 'Denise Koch', 'Ecole Normale Superieur', 'James Hynes (Departement de Chimie', 'C NR S', 'Panakkattu Babu', 'Hee Soo Kim', 'R.J. Joynt', 'A.M.Tyryshkin', 'E.Yablonovitch', 'Rogerio Magalhães-Paniago', 'Ted Kamins', 'Rogeriode Sousa', 'J. D. Delgado', 'I. Rangelow', 'D.H. Schneider', 'Deepak S. Rao', 'Robert M.Westervelt', 'Art C.Gossard', 'J. Sarkar', 'Mingjiao Liu', 'Ming-Jey Yang', 'L.Eaves(Nottingham', 'Pablo García-González', 'Nicolas Toumbas', 'P-I.Johansson', 'Raul Esquivel', 'B.N.Narahari Achar', 'Raymond S. Puzio', 'Amin Akhavan', 'Mohamed Sahraoui-Tahar', 'N UH GE DI K', 'S.I.Kiselev', 'Per Nordblad', 'Alexander K.Hartmann', 'Hans Othmer', 'Shahid Khan', 'Jason Gestwicki', 'Diethelm Johannsmann', 'Curtis Frank', 'Shawn Carrigan', 'George Scott', 'Maryam Tabrizian', 'Julie Norville', 'Barry Bruce', 'Y Fan', 'L Udpa', 'Le Shon Tan', 'K.H. Aaron Lau', 'Kaoru Tamada', 'Melissa S.Sander', 'H. S. Kato', 'M.Aida', 'Z. Abu Samah', 'E Parker', 'R Pynn', 'N.C. Mac Donald', 'Y.Deng', 'X. Cai', 'Bin Tang', 'Philippe Boisvert', 'Ivan Graovac', 'Darren Anderson', 'Jan Rainey', 'M.Cynthia Goh', 'Yevgeny Moskovitz', 'J.A.Bonetti', 'Alistair Armstrong-Brown', 'J. Alicea', 'A.Paramekanti', 'Andrey D.Ivliev', 'M.Potemski', 'M.Pioro-Landriere', 'M.Hilke', 'Alexandre D.Faribault', 'Yong CH EN', 'Yan Li-', 'Matthew A Tunney', 'Elizabeth Duplock', 'Philip J.D.Lindan', 'M. J. Heben', 'A. J. Nozik', 'S.F.Huang', 'T.C. Leung', 'Alan Cooper', 'Guido Pez', 'M.E. I TK IS', 'D.E. P ER EA', 'S. N IY OG I', 'J. L OV E', 'J. T AN G', 'A. Y U', 'C. K AN G', 'Rafail L.Khalfin', 'Swapan Chakraborty', 'Arnout Ceulemans', 'M.P.Petkov', 'W.Volksen', 'L.Tsetseris', 'Nauman Butt', 'Kailash C.Mishra', 'Andrii Matkovskii', 'Michael Glazoff', 'A. Y. Borisevich', 'M.V.Glazoff', 'K.W.Sohlberg', 'Khosrow Hassani', 'Arthur E.Edwards', 'T.Teplitskaya', 'V. Cherginets', 'O. Demirskaya', 'A. Aslanov', 'Zh. Klitsova', 'T. Rebrova', 'Andrei Y. Istomin', 'Andrew S.Sachrajda', 'Michel Pioro-LadriÃ¨re', 'Émilie Dupont', 'Jacob Grose', 'C.Bruder', 'W. Belzig', 'B.Pant', 'A.V. Nazarov', 'Bharat B.Pant', 'Alexey V. Nazarov', 'Martin P. Plumer', 'J.L.Mc Chesney', 'V. Pérez-Dieste', 'S.A.López-Rivera', 'A.Damascelli', 'J.Di Tusa', 'Ncholu Manyala', 'John Cherry', 'F.F Balakirev', 'S.N.Barilo', 'Sang Woog Ryu', 'Metin Acar', 'Clara Carelli', 'Ron Young', 'James S.Sharp', 'Yi-Fang Huang', 'Verner Thorsmølle', 'Sergie Tretiak', 'B.Batlogg^*', '** Bergemann^*', 'Ross Datars', 'Zaccheus Buffett', 'Yu Hui', 'S. Vaidyanathan', 'O.Y. Kas', 'L.J.Rothberg', 'H.P.Wagner', 'Ajith De Silva', 'T.U.Kampen', 'Tieneke E. Dykstra', 'Jay Klosterman', 'Brett Irwin', 'A.Ian Harrison', 'Kristy M. De Witt', 'Merrick J. De Witt', 'Samantha Horvath', 'Joshua Judge', 'Indraneel Samanta', 'Rob Zehr', 'Frank Renner', 'Dieter M.Kolb', 'Victor Bellitto', 'Stanley Caulder', 'Luc Daemen', 'Xiaojing Zhou', 'A.Jayasinghe', 'K.T. Park', 'T.S. Ellis', 'H. C. Poon', 'T. Zheng', 'D. Stacchiola', 'W. T. Tysoe', 'M.R.Mastin', 'L.Sanche', 'S.-P. Breton', 'M. Michaud', 'P.Swiderek', 'C. Jäggle', 'Yeong Woo Kim', 'Eric Cuffle', 'Tieqiao Zhang', 'T.Matsuzaki', 'S.N.Nakamura', 'Paul Moffatt', 'Pierre-Nicholas Roy'] is not in list"
     ]
    }
   ],
   "source": [
    "saveAuthor_extra(errorAuthors, authors, 'Files/Authors/', url, key, 5)"
   ]
  },
  {
   "cell_type": "code",
   "execution_count": null,
   "id": "79f02bf2",
   "metadata": {},
   "outputs": [],
   "source": []
  },
  {
   "cell_type": "code",
   "execution_count": 77,
   "id": "36b54a09",
   "metadata": {},
   "outputs": [
    {
     "name": "stderr",
     "output_type": "stream",
     "text": [
      "  1%|▏                             | 1407/227921 [46:03<18236:25:21, 289.83s/it]"
     ]
    },
    {
     "name": "stdout",
     "output_type": "stream",
     "text": [
      "Shiqiang Wang\n"
     ]
    },
    {
     "name": "stderr",
     "output_type": "stream",
     "text": [
      "  1%|▎                           | 2036/227921 [1:13:59<18911:58:55, 301.41s/it]"
     ]
    },
    {
     "name": "stdout",
     "output_type": "stream",
     "text": [
      "Matthieu Paillet\n"
     ]
    },
    {
     "name": "stderr",
     "output_type": "stream",
     "text": [
      "  1%|▎                           | 2275/227921 [1:34:46<18745:56:24, 299.08s/it]"
     ]
    },
    {
     "name": "stdout",
     "output_type": "stream",
     "text": [
      "Jan Goetz\n"
     ]
    },
    {
     "name": "stderr",
     "output_type": "stream",
     "text": [
      "  1%|▎                            | 2286/227921 [1:42:43<9141:04:56, 145.85s/it]"
     ]
    },
    {
     "name": "stdout",
     "output_type": "stream",
     "text": [
      "Manoel Pires\n"
     ]
    },
    {
     "name": "stderr",
     "output_type": "stream",
     "text": [
      "  1%|▎                            | 2868/227921 [1:59:06<6789:29:28, 108.61s/it]"
     ]
    },
    {
     "name": "stdout",
     "output_type": "stream",
     "text": [
      "Bibash Sapkota\n"
     ]
    },
    {
     "name": "stderr",
     "output_type": "stream",
     "text": [
      "  1%|▎                           | 2902/227921 [2:12:01<11821:12:24, 189.12s/it]"
     ]
    },
    {
     "name": "stdout",
     "output_type": "stream",
     "text": [
      "Ronald Hanson\n"
     ]
    },
    {
     "name": "stderr",
     "output_type": "stream",
     "text": [
      "  3%|▊                           | 6327/227921 [3:30:58<17725:39:39, 287.97s/it]"
     ]
    },
    {
     "name": "stdout",
     "output_type": "stream",
     "text": [
      "Sigurdur Ingi Erlingsson\n"
     ]
    },
    {
     "name": "stderr",
     "output_type": "stream",
     "text": [
      "  3%|▊                           | 6367/227921 [3:47:39<17684:10:24, 287.35s/it]"
     ]
    },
    {
     "name": "stdout",
     "output_type": "stream",
     "text": [
      "Ion Garate\n"
     ]
    },
    {
     "name": "stderr",
     "output_type": "stream",
     "text": [
      "  3%|▊                           | 6566/227921 [4:08:56<19376:36:54, 315.13s/it]"
     ]
    },
    {
     "name": "stdout",
     "output_type": "stream",
     "text": [
      "Di Fang\n"
     ]
    },
    {
     "name": "stderr",
     "output_type": "stream",
     "text": [
      "  3%|▊                           | 6668/227921 [4:27:13<18265:03:43, 297.19s/it]"
     ]
    },
    {
     "name": "stdout",
     "output_type": "stream",
     "text": [
      "Lin Bo\n"
     ]
    },
    {
     "name": "stderr",
     "output_type": "stream",
     "text": [
      "  3%|▊                           | 6779/227921 [5:01:37<35959:50:20, 585.39s/it]"
     ]
    },
    {
     "name": "stdout",
     "output_type": "stream",
     "text": [
      "Fei Long\n"
     ]
    },
    {
     "name": "stderr",
     "output_type": "stream",
     "text": [
      "  4%|█                           | 8899/227921 [6:13:44<19818:52:18, 325.76s/it]"
     ]
    },
    {
     "name": "stdout",
     "output_type": "stream",
     "text": [
      "Z.J Wang\n"
     ]
    },
    {
     "name": "stderr",
     "output_type": "stream",
     "text": [
      "  4%|█                           | 8966/227921 [6:32:42<19242:39:21, 316.38s/it]"
     ]
    },
    {
     "name": "stdout",
     "output_type": "stream",
     "text": [
      "Changmin Lee\n"
     ]
    },
    {
     "name": "stderr",
     "output_type": "stream",
     "text": [
      "  4%|█                           | 9034/227921 [6:51:37<19284:05:44, 317.16s/it]"
     ]
    },
    {
     "name": "stdout",
     "output_type": "stream",
     "text": [
      "Akhilesh Singh\n"
     ]
    },
    {
     "name": "stderr",
     "output_type": "stream",
     "text": [
      "  4%|█▏                          | 9191/227921 [7:27:23<18670:13:45, 307.29s/it]"
     ]
    },
    {
     "name": "stdout",
     "output_type": "stream",
     "text": [
      "Lucas V Besteiro\n"
     ]
    },
    {
     "name": "stderr",
     "output_type": "stream",
     "text": [
      "  4%|█▏                          | 9412/227921 [7:45:33<15828:32:52, 260.78s/it]"
     ]
    },
    {
     "name": "stdout",
     "output_type": "stream",
     "text": [
      "Qian Sun\n"
     ]
    },
    {
     "name": "stderr",
     "output_type": "stream",
     "text": [
      "  4%|█▏                          | 9624/227921 [8:05:41<17742:07:25, 292.59s/it]"
     ]
    },
    {
     "name": "stdout",
     "output_type": "stream",
     "text": [
      "Sharath Cholleti\n"
     ]
    },
    {
     "name": "stderr",
     "output_type": "stream",
     "text": [
      "  4%|█▏                          | 9711/227921 [8:24:40<19131:50:04, 315.63s/it]"
     ]
    },
    {
     "name": "stdout",
     "output_type": "stream",
     "text": [
      "Nathan Harshman\n"
     ]
    },
    {
     "name": "stderr",
     "output_type": "stream",
     "text": [
      "  4%|█▏                          | 9790/227921 [8:43:07<18440:28:53, 304.34s/it]"
     ]
    },
    {
     "name": "stdout",
     "output_type": "stream",
     "text": [
      "Tetsuro Satoh\n"
     ]
    },
    {
     "name": "stderr",
     "output_type": "stream",
     "text": [
      "  4%|█▏                          | 9994/227921 [9:04:34<19673:14:43, 324.99s/it]"
     ]
    },
    {
     "name": "stdout",
     "output_type": "stream",
     "text": [
      "Balazs Ujfalussy\n"
     ]
    },
    {
     "name": "stderr",
     "output_type": "stream",
     "text": [
      "  4%|█▏                         | 10103/227921 [9:21:50<16582:22:07, 274.07s/it]"
     ]
    },
    {
     "name": "stdout",
     "output_type": "stream",
     "text": [
      "Maria A. Torija\n"
     ]
    },
    {
     "name": "stderr",
     "output_type": "stream",
     "text": [
      "  6%|█▌                        | 13850/227921 [10:46:35<16950:43:12, 285.06s/it]"
     ]
    },
    {
     "name": "stdout",
     "output_type": "stream",
     "text": [
      "Irena Knezevic\n"
     ]
    },
    {
     "name": "stderr",
     "output_type": "stream",
     "text": [
      "  6%|█▋                          | 13949/227921 [10:52:40<4733:31:10, 79.64s/it]"
     ]
    },
    {
     "name": "stdout",
     "output_type": "stream",
     "text": [
      "Marta Luengo-Kovac\n"
     ]
    },
    {
     "name": "stderr",
     "output_type": "stream",
     "text": [
      "  6%|█▌                        | 13995/227921 [11:03:21<10554:38:54, 177.62s/it]"
     ]
    },
    {
     "name": "stdout",
     "output_type": "stream",
     "text": [
      "Larry Chen\n"
     ]
    },
    {
     "name": "stderr",
     "output_type": "stream",
     "text": [
      "  6%|█▋                          | 14088/227921 [11:06:37<1739:24:52, 29.28s/it]"
     ]
    },
    {
     "name": "stdout",
     "output_type": "stream",
     "text": [
      "Haifeng Yang\n"
     ]
    },
    {
     "name": "stderr",
     "output_type": "stream",
     "text": [
      "  7%|█▊                        | 16131/227921 [12:01:08<17635:34:28, 299.77s/it]"
     ]
    },
    {
     "name": "stdout",
     "output_type": "stream",
     "text": [
      "Therese Paoletta\n"
     ]
    },
    {
     "name": "stderr",
     "output_type": "stream",
     "text": [
      "  7%|█▊                        | 16246/227921 [12:18:36<16074:29:10, 273.38s/it]"
     ]
    },
    {
     "name": "stdout",
     "output_type": "stream",
     "text": [
      "Y. Ando\n"
     ]
    },
    {
     "name": "stderr",
     "output_type": "stream",
     "text": [
      "  8%|██                         | 17924/227921 [12:55:28<6492:57:47, 111.31s/it]"
     ]
    },
    {
     "name": "stdout",
     "output_type": "stream",
     "text": [
      "Paul Snijders\n"
     ]
    },
    {
     "name": "stderr",
     "output_type": "stream",
     "text": [
      "  8%|██                        | 17953/227921 [13:19:31<24681:59:27, 423.18s/it]"
     ]
    },
    {
     "name": "stdout",
     "output_type": "stream",
     "text": [
      "Adam Ekenseair\n"
     ]
    },
    {
     "name": "stderr",
     "output_type": "stream",
     "text": [
      "  8%|██                        | 18190/227921 [13:41:04<18040:30:55, 309.66s/it]"
     ]
    },
    {
     "name": "stdout",
     "output_type": "stream",
     "text": [
      "Tanusri Saha-Dasgupta\n"
     ]
    },
    {
     "name": "stderr",
     "output_type": "stream",
     "text": [
      "  8%|██▎                         | 18431/227921 [13:48:36<3171:20:06, 54.50s/it]"
     ]
    },
    {
     "name": "stdout",
     "output_type": "stream",
     "text": [
      "Mario Motta\n"
     ]
    },
    {
     "name": "stderr",
     "output_type": "stream",
     "text": [
      "  8%|██                        | 18513/227921 [14:05:10<15835:14:28, 272.23s/it]"
     ]
    },
    {
     "name": "stdout",
     "output_type": "stream",
     "text": [
      "Ran Wei\n"
     ]
    },
    {
     "name": "stderr",
     "output_type": "stream",
     "text": [
      "  8%|██                        | 18610/227921 [14:17:30<11412:16:46, 196.28s/it]"
     ]
    },
    {
     "name": "stdout",
     "output_type": "stream",
     "text": [
      "Yusuke T Maeda\n"
     ]
    },
    {
     "name": "stderr",
     "output_type": "stream",
     "text": [
      "  9%|██▍                         | 19811/227921 [14:46:55<4109:10:21, 71.08s/it]"
     ]
    },
    {
     "name": "stdout",
     "output_type": "stream",
     "text": [
      "Hans A. Bechtel\n"
     ]
    },
    {
     "name": "stderr",
     "output_type": "stream",
     "text": [
      "  9%|██▎                       | 19890/227921 [14:59:47<11909:53:14, 206.10s/it]"
     ]
    },
    {
     "name": "stdout",
     "output_type": "stream",
     "text": [
      "W. Richter\n"
     ]
    },
    {
     "name": "stderr",
     "output_type": "stream",
     "text": [
      "  9%|██▎                       | 20391/227921 [15:27:03<17252:41:59, 299.28s/it]"
     ]
    },
    {
     "name": "stdout",
     "output_type": "stream",
     "text": [
      "Manuele Landini\n"
     ]
    },
    {
     "name": "stderr",
     "output_type": "stream",
     "text": [
      "  9%|██▍                        | 20500/227921 [15:36:44<8205:06:48, 142.41s/it]"
     ]
    },
    {
     "name": "stdout",
     "output_type": "stream",
     "text": [
      "Youngchan Kim\n"
     ]
    },
    {
     "name": "stderr",
     "output_type": "stream",
     "text": [
      "  9%|██▎                       | 20579/227921 [15:56:00<18501:28:09, 321.23s/it]"
     ]
    },
    {
     "name": "stdout",
     "output_type": "stream",
     "text": [
      "Christopher Leighton\n"
     ]
    },
    {
     "name": "stderr",
     "output_type": "stream",
     "text": [
      "  9%|██▍                       | 20935/227921 [16:22:06<14092:46:42, 245.11s/it]"
     ]
    },
    {
     "name": "stdout",
     "output_type": "stream",
     "text": [
      "Christopher Johnson\n"
     ]
    },
    {
     "name": "stderr",
     "output_type": "stream",
     "text": [
      "  9%|██▍                       | 21009/227921 [16:40:33<17594:41:20, 306.12s/it]"
     ]
    },
    {
     "name": "stdout",
     "output_type": "stream",
     "text": [
      "Frank W Wise\n"
     ]
    },
    {
     "name": "stderr",
     "output_type": "stream",
     "text": [
      "  9%|██▍                       | 21112/227921 [16:59:33<17918:20:34, 311.91s/it]"
     ]
    },
    {
     "name": "stdout",
     "output_type": "stream",
     "text": [
      "James Lukens\n"
     ]
    },
    {
     "name": "stderr",
     "output_type": "stream",
     "text": [
      "  9%|██▍                       | 21116/227921 [17:15:44<21016:19:57, 365.85s/it]"
     ]
    },
    {
     "name": "stdout",
     "output_type": "stream",
     "text": [
      "Chuck Z Soderquist\n"
     ]
    },
    {
     "name": "stderr",
     "output_type": "stream",
     "text": [
      "  9%|██▍                       | 21148/227921 [17:32:40<16813:15:45, 292.73s/it]"
     ]
    },
    {
     "name": "stdout",
     "output_type": "stream",
     "text": [
      "Matthew Wormington\n"
     ]
    },
    {
     "name": "stderr",
     "output_type": "stream",
     "text": [
      "  9%|██▌                        | 21232/227921 [17:41:32<7656:58:58, 133.37s/it]"
     ]
    },
    {
     "name": "stdout",
     "output_type": "stream",
     "text": [
      "M Ali Haider\n"
     ]
    },
    {
     "name": "stderr",
     "output_type": "stream",
     "text": [
      "  9%|██▊                           | 21303/227921 [17:42:58<53:04:42,  1.08it/s]"
     ]
    },
    {
     "name": "stdout",
     "output_type": "stream",
     "text": [
      "Loren Hough\n"
     ]
    },
    {
     "name": "stderr",
     "output_type": "stream",
     "text": [
      "  9%|██▍                       | 21434/227921 [18:02:04<17378:07:31, 302.98s/it]"
     ]
    },
    {
     "name": "stdout",
     "output_type": "stream",
     "text": [
      "Toheed Ghandriz\n"
     ]
    },
    {
     "name": "stderr",
     "output_type": "stream",
     "text": [
      " 10%|██▋                        | 22382/227921 [18:31:05<8798:41:58, 154.11s/it]"
     ]
    },
    {
     "name": "stdout",
     "output_type": "stream",
     "text": [
      "Erica Carlson\n"
     ]
    },
    {
     "name": "stderr",
     "output_type": "stream",
     "text": [
      " 10%|██▋                        | 22464/227921 [18:40:03<7827:14:24, 137.15s/it]"
     ]
    },
    {
     "name": "stdout",
     "output_type": "stream",
     "text": [
      "Mohamed Touaibia\n"
     ]
    },
    {
     "name": "stderr",
     "output_type": "stream",
     "text": [
      " 10%|██▌                       | 22632/227921 [19:06:20<23693:46:55, 415.50s/it]"
     ]
    },
    {
     "name": "stdout",
     "output_type": "stream",
     "text": [
      "Justin Burton\n"
     ]
    },
    {
     "name": "stderr",
     "output_type": "stream",
     "text": [
      " 10%|██▌                       | 22660/227921 [19:20:19<13816:26:51, 242.32s/it]"
     ]
    },
    {
     "name": "stdout",
     "output_type": "stream",
     "text": [
      "Donald C Chang\n"
     ]
    },
    {
     "name": "stderr",
     "output_type": "stream",
     "text": [
      " 10%|██▋                       | 23399/227921 [19:50:04<16915:50:42, 297.75s/it]"
     ]
    },
    {
     "name": "stdout",
     "output_type": "stream",
     "text": [
      "John Brennan\n"
     ]
    },
    {
     "name": "stderr",
     "output_type": "stream",
     "text": [
      " 10%|██▋                       | 23535/227921 [20:08:42<16840:06:02, 296.62s/it]"
     ]
    },
    {
     "name": "stdout",
     "output_type": "stream",
     "text": [
      "Debarchan Das\n"
     ]
    },
    {
     "name": "stderr",
     "output_type": "stream",
     "text": [
      " 10%|██▋                       | 23609/227921 [20:27:15<17563:36:02, 309.47s/it]"
     ]
    },
    {
     "name": "stdout",
     "output_type": "stream",
     "text": [
      "Wen Fan\n"
     ]
    },
    {
     "name": "stderr",
     "output_type": "stream",
     "text": [
      " 10%|██▋                       | 23746/227921 [20:48:22<19062:01:15, 336.10s/it]"
     ]
    },
    {
     "name": "stdout",
     "output_type": "stream",
     "text": [
      "Baratunde Cola\n"
     ]
    },
    {
     "name": "stderr",
     "output_type": "stream",
     "text": [
      " 10%|██▋                       | 23815/227921 [21:06:33<17274:54:19, 304.69s/it]"
     ]
    },
    {
     "name": "stdout",
     "output_type": "stream",
     "text": [
      "Chong-yu Ruan\n"
     ]
    },
    {
     "name": "stderr",
     "output_type": "stream",
     "text": [
      " 10%|██▋                       | 23837/227921 [21:24:25<17805:37:43, 314.09s/it]"
     ]
    },
    {
     "name": "stdout",
     "output_type": "stream",
     "text": [
      "Jose Rodriguez\n"
     ]
    },
    {
     "name": "stderr",
     "output_type": "stream",
     "text": [
      " 11%|██▋                       | 23932/227921 [21:44:10<18326:15:04, 323.42s/it]"
     ]
    },
    {
     "name": "stdout",
     "output_type": "stream",
     "text": [
      "A. C. Gossard\n"
     ]
    },
    {
     "name": "stderr",
     "output_type": "stream",
     "text": [
      " 11%|██▊                       | 24148/227921 [22:04:27<16916:18:14, 298.86s/it]"
     ]
    },
    {
     "name": "stdout",
     "output_type": "stream",
     "text": [
      "Kenichi Nomura\n"
     ]
    },
    {
     "name": "stderr",
     "output_type": "stream",
     "text": [
      " 11%|██▊                       | 24214/227921 [22:18:24<12778:53:22, 225.83s/it]"
     ]
    },
    {
     "name": "stdout",
     "output_type": "stream",
     "text": [
      "Ritesh Agarwal\n"
     ]
    },
    {
     "name": "stderr",
     "output_type": "stream",
     "text": [
      " 11%|██▉                       | 25770/227921 [23:08:23<22040:00:06, 392.50s/it]"
     ]
    },
    {
     "name": "stdout",
     "output_type": "stream",
     "text": [
      "Uri Vool\n"
     ]
    },
    {
     "name": "stderr",
     "output_type": "stream",
     "text": [
      " 11%|██▉                       | 25841/227921 [23:22:06<12561:05:17, 223.77s/it]"
     ]
    },
    {
     "name": "stdout",
     "output_type": "stream",
     "text": [
      "Guido Fratesi\n"
     ]
    },
    {
     "name": "stderr",
     "output_type": "stream",
     "text": [
      " 11%|███                        | 26146/227921 [23:39:15<8727:29:39, 155.71s/it]"
     ]
    },
    {
     "name": "stdout",
     "output_type": "stream",
     "text": [
      "Liping Chen\n"
     ]
    },
    {
     "name": "stderr",
     "output_type": "stream",
     "text": [
      " 12%|███                       | 26809/227921 [24:10:16<17656:36:16, 316.06s/it]"
     ]
    },
    {
     "name": "stdout",
     "output_type": "stream",
     "text": [
      "Kh Ziq\n"
     ]
    },
    {
     "name": "stderr",
     "output_type": "stream",
     "text": [
      " 12%|███                       | 27179/227921 [24:36:32<17516:23:58, 314.13s/it]"
     ]
    },
    {
     "name": "stdout",
     "output_type": "stream",
     "text": [
      "Robert Hammond\n"
     ]
    },
    {
     "name": "stderr",
     "output_type": "stream",
     "text": [
      " 12%|███▎                        | 27264/227921 [24:41:32<3407:16:57, 61.13s/it]"
     ]
    },
    {
     "name": "stdout",
     "output_type": "stream",
     "text": [
      "Haiyuan Chen\n"
     ]
    },
    {
     "name": "stderr",
     "output_type": "stream",
     "text": [
      " 12%|███▏                      | 27848/227921 [25:14:26<21797:19:05, 392.21s/it]"
     ]
    },
    {
     "name": "stdout",
     "output_type": "stream",
     "text": [
      "Lawrence Ayong\n"
     ]
    },
    {
     "name": "stderr",
     "output_type": "stream",
     "text": [
      " 12%|███▏                      | 28106/227921 [25:35:36<16518:27:52, 297.61s/it]"
     ]
    },
    {
     "name": "stdout",
     "output_type": "stream",
     "text": [
      "Dhavala Suri\n"
     ]
    },
    {
     "name": "stderr",
     "output_type": "stream",
     "text": [
      " 14%|███▋                      | 32703/227921 [27:17:37<16721:07:50, 308.35s/it]"
     ]
    },
    {
     "name": "stdout",
     "output_type": "stream",
     "text": [
      "Qian Xu\n"
     ]
    },
    {
     "name": "stderr",
     "output_type": "stream",
     "text": [
      " 15%|███▊                      | 33597/227921 [27:51:46<15637:43:31, 289.70s/it]"
     ]
    },
    {
     "name": "stdout",
     "output_type": "stream",
     "text": [
      "Alexandre R. Rocha\n"
     ]
    },
    {
     "name": "stderr",
     "output_type": "stream",
     "text": [
      " 16%|████▏                     | 36931/227921 [29:07:42<15447:31:43, 291.17s/it]"
     ]
    },
    {
     "name": "stdout",
     "output_type": "stream",
     "text": [
      "Shiteng Zhao\n"
     ]
    },
    {
     "name": "stderr",
     "output_type": "stream",
     "text": [
      " 16%|████▏                     | 36937/227921 [29:41:00<33569:58:40, 632.79s/it]"
     ]
    },
    {
     "name": "stdout",
     "output_type": "stream",
     "text": [
      "Andrew M Minor\n"
     ]
    },
    {
     "name": "stderr",
     "output_type": "stream",
     "text": [
      " 16%|████▏                     | 37074/227921 [30:16:32<31242:05:06, 589.33s/it]"
     ]
    },
    {
     "name": "stdout",
     "output_type": "stream",
     "text": [
      "Timothy Murphy\n"
     ]
    },
    {
     "name": "stderr",
     "output_type": "stream",
     "text": [
      " 16%|████▏                     | 37235/227921 [30:49:33<28728:58:08, 542.38s/it]"
     ]
    },
    {
     "name": "stdout",
     "output_type": "stream",
     "text": [
      "Wei Kong\n"
     ]
    },
    {
     "name": "stderr",
     "output_type": "stream",
     "text": [
      " 16%|████▎                     | 37355/227921 [31:09:04<16640:53:46, 314.36s/it]"
     ]
    },
    {
     "name": "stdout",
     "output_type": "stream",
     "text": [
      "Hui Gao\n"
     ]
    },
    {
     "name": "stderr",
     "output_type": "stream",
     "text": [
      " 16%|████▎                     | 37558/227921 [31:30:47<17198:45:12, 325.25s/it]"
     ]
    },
    {
     "name": "stdout",
     "output_type": "stream",
     "text": [
      "A. Concha\n"
     ]
    },
    {
     "name": "stderr",
     "output_type": "stream",
     "text": [
      " 17%|████▎                     | 37662/227921 [31:49:19<15957:24:09, 301.94s/it]"
     ]
    },
    {
     "name": "stdout",
     "output_type": "stream",
     "text": [
      "Miguel Kiwi\n"
     ]
    },
    {
     "name": "stderr",
     "output_type": "stream",
     "text": [
      " 17%|████▍                     | 38636/227921 [32:23:06<15858:05:38, 301.60s/it]"
     ]
    },
    {
     "name": "stdout",
     "output_type": "stream",
     "text": [
      "Joseph Bradley\n"
     ]
    },
    {
     "name": "stderr",
     "output_type": "stream",
     "text": [
      " 17%|████▌                      | 38732/227921 [32:35:12<9802:29:44, 186.53s/it]"
     ]
    },
    {
     "name": "stdout",
     "output_type": "stream",
     "text": [
      "Paul Janmey\n"
     ]
    },
    {
     "name": "stderr",
     "output_type": "stream",
     "text": [
      " 17%|████▍                     | 38850/227921 [32:53:51<15816:31:54, 301.15s/it]"
     ]
    },
    {
     "name": "stdout",
     "output_type": "stream",
     "text": [
      "Costel Rotundu\n"
     ]
    },
    {
     "name": "stderr",
     "output_type": "stream",
     "text": [
      " 17%|████▍                     | 38919/227921 [33:11:46<15486:37:45, 294.98s/it]"
     ]
    },
    {
     "name": "stdout",
     "output_type": "stream",
     "text": [
      "Miao Zhou\n"
     ]
    },
    {
     "name": "stderr",
     "output_type": "stream",
     "text": [
      " 17%|████▍                     | 38954/227921 [33:27:58<14772:43:22, 281.43s/it]"
     ]
    },
    {
     "name": "stdout",
     "output_type": "stream",
     "text": [
      "C.C. Wang\n"
     ]
    },
    {
     "name": "stderr",
     "output_type": "stream",
     "text": [
      " 17%|████▋                      | 39105/227921 [33:36:12<5330:42:17, 101.64s/it]"
     ]
    },
    {
     "name": "stdout",
     "output_type": "stream",
     "text": [
      "Taro Wakamura\n"
     ]
    },
    {
     "name": "stderr",
     "output_type": "stream",
     "text": [
      " 17%|████▍                     | 39212/227921 [33:50:45<12055:51:53, 229.99s/it]"
     ]
    },
    {
     "name": "stdout",
     "output_type": "stream",
     "text": [
      "Dawei He\n"
     ]
    },
    {
     "name": "stderr",
     "output_type": "stream",
     "text": [
      " 17%|████▋                      | 39825/227921 [34:10:08<8158:51:35, 156.15s/it]"
     ]
    },
    {
     "name": "stdout",
     "output_type": "stream",
     "text": [
      "Carlos Mera\n"
     ]
    },
    {
     "name": "stderr",
     "output_type": "stream",
     "text": [
      " 17%|████▌                     | 39852/227921 [34:26:57<15334:15:16, 293.53s/it]"
     ]
    },
    {
     "name": "stdout",
     "output_type": "stream",
     "text": [
      "Yuan Wan\n"
     ]
    },
    {
     "name": "stderr",
     "output_type": "stream",
     "text": [
      " 18%|████▌                     | 40054/227921 [34:49:17<17511:36:13, 335.57s/it]"
     ]
    },
    {
     "name": "stdout",
     "output_type": "stream",
     "text": [
      "Alexey Vert\n"
     ]
    },
    {
     "name": "stderr",
     "output_type": "stream",
     "text": [
      " 18%|████▊                      | 40875/227921 [35:10:21<7243:21:15, 139.41s/it]"
     ]
    },
    {
     "name": "stdout",
     "output_type": "stream",
     "text": [
      "Kaifeng Zhao\n"
     ]
    },
    {
     "name": "stderr",
     "output_type": "stream",
     "text": [
      " 19%|████▉                     | 43195/227921 [36:07:21<16670:49:24, 324.89s/it]"
     ]
    },
    {
     "name": "stdout",
     "output_type": "stream",
     "text": [
      "Sander M Vermeulen\n"
     ]
    },
    {
     "name": "stderr",
     "output_type": "stream",
     "text": [
      " 19%|█████▏                     | 43456/227921 [36:17:56<5944:28:28, 116.01s/it]"
     ]
    },
    {
     "name": "stdout",
     "output_type": "stream",
     "text": [
      "1Department of Physics, Boston University, Boston MA, Department of Materials Science and Engineering, University of Virginia, Charlottesville VA, Department of Physics, University of Virginia, Charlottesville VA\n"
     ]
    },
    {
     "name": "stderr",
     "output_type": "stream",
     "text": [
      " 20%|█████                     | 44710/227921 [36:55:20<15227:00:58, 299.20s/it]"
     ]
    },
    {
     "name": "stdout",
     "output_type": "stream",
     "text": [
      "R.A. Andersen\n"
     ]
    },
    {
     "name": "stderr",
     "output_type": "stream",
     "text": [
      " 20%|█████▏                    | 44944/227921 [37:16:55<16146:15:29, 317.67s/it]"
     ]
    },
    {
     "name": "stdout",
     "output_type": "stream",
     "text": [
      "L. Stauffer\n"
     ]
    },
    {
     "name": "stderr",
     "output_type": "stream",
     "text": [
      " 20%|█████▌                      | 45078/227921 [37:23:59<4377:52:10, 86.20s/it]"
     ]
    },
    {
     "name": "stdout",
     "output_type": "stream",
     "text": [
      "Chunxu Chen\n"
     ]
    },
    {
     "name": "stderr",
     "output_type": "stream",
     "text": [
      " 22%|█████▊                    | 50872/227921 [39:21:58<16235:42:59, 330.13s/it]"
     ]
    },
    {
     "name": "stdout",
     "output_type": "stream",
     "text": [
      "Kent Lee\n"
     ]
    },
    {
     "name": "stderr",
     "output_type": "stream",
     "text": [
      " 22%|█████▊                    | 51100/227921 [39:58:19<28703:05:06, 584.38s/it]"
     ]
    },
    {
     "name": "stdout",
     "output_type": "stream",
     "text": [
      "Bogdan Diaconescu\n"
     ]
    },
    {
     "name": "stderr",
     "output_type": "stream",
     "text": [
      " 23%|█████▉                    | 51507/227921 [40:22:12<12108:37:38, 247.10s/it]"
     ]
    },
    {
     "name": "stdout",
     "output_type": "stream",
     "text": [
      "A. Yamazaki\n"
     ]
    },
    {
     "name": "stderr",
     "output_type": "stream",
     "text": [
      " 23%|█████▉                    | 51623/227921 [40:50:54<23556:21:08, 481.02s/it]"
     ]
    },
    {
     "name": "stdout",
     "output_type": "stream",
     "text": [
      "K. Koepernik\n"
     ]
    },
    {
     "name": "stderr",
     "output_type": "stream",
     "text": [
      " 23%|██████▏                    | 51759/227921 [40:59:28<5429:08:21, 110.95s/it]"
     ]
    },
    {
     "name": "stdout",
     "output_type": "stream",
     "text": [
      "Yizhi Fang\n"
     ]
    },
    {
     "name": "stderr",
     "output_type": "stream",
     "text": [
      " 25%|██████▍                   | 56853/227921 [42:40:42<13417:18:02, 282.36s/it]"
     ]
    },
    {
     "name": "stdout",
     "output_type": "stream",
     "text": [
      "Shohei Hashimoto\n"
     ]
    },
    {
     "name": "stderr",
     "output_type": "stream",
     "text": [
      " 25%|██████▌                   | 57440/227921 [43:08:11<14924:53:51, 315.16s/it]"
     ]
    },
    {
     "name": "stdout",
     "output_type": "stream",
     "text": [
      "Peng Deng\n"
     ]
    },
    {
     "name": "stderr",
     "output_type": "stream",
     "text": [
      " 26%|██████▊                   | 59847/227921 [44:06:18<15610:36:03, 334.37s/it]"
     ]
    },
    {
     "name": "stdout",
     "output_type": "stream",
     "text": [
      "Lars Madsen\n"
     ]
    },
    {
     "name": "stderr",
     "output_type": "stream",
     "text": [
      " 26%|██████▊                   | 60038/227921 [44:26:52<14263:50:30, 305.87s/it]"
     ]
    },
    {
     "name": "stdout",
     "output_type": "stream",
     "text": [
      "Jeremy O'Brien\n"
     ]
    },
    {
     "name": "stderr",
     "output_type": "stream",
     "text": [
      " 26%|███████▏                   | 60177/227921 [44:36:23<5665:46:57, 121.59s/it]"
     ]
    },
    {
     "name": "stdout",
     "output_type": "stream",
     "text": [
      "X. Tan\n"
     ]
    },
    {
     "name": "stderr",
     "output_type": "stream",
     "text": [
      " 26%|██████▊                   | 60252/227921 [44:51:10<11163:59:32, 239.70s/it]"
     ]
    },
    {
     "name": "stdout",
     "output_type": "stream",
     "text": [
      "Charles Reinke\n"
     ]
    },
    {
     "name": "stderr",
     "output_type": "stream",
     "text": [
      " 28%|███████▌                   | 64061/227921 [46:12:31<7123:02:49, 156.49s/it]"
     ]
    },
    {
     "name": "stdout",
     "output_type": "stream",
     "text": [
      "Zijin Lei\n"
     ]
    },
    {
     "name": "stderr",
     "output_type": "stream",
     "text": [
      " 28%|███████▎                  | 64090/227921 [46:27:53<12172:30:45, 267.48s/it]"
     ]
    },
    {
     "name": "stdout",
     "output_type": "stream",
     "text": [
      "Peter Gumbsch\n"
     ]
    },
    {
     "name": "stderr",
     "output_type": "stream",
     "text": [
      " 28%|███████▎                  | 64321/227921 [46:48:34<13568:42:09, 298.58s/it]"
     ]
    },
    {
     "name": "stdout",
     "output_type": "stream",
     "text": [
      "Mohamed OUQAMRA\n"
     ]
    },
    {
     "name": "stderr",
     "output_type": "stream",
     "text": [
      " 29%|████████                    | 65329/227921 [47:12:36<4065:49:28, 90.02s/it]"
     ]
    },
    {
     "name": "stdout",
     "output_type": "stream",
     "text": [
      "Victor Lee\n"
     ]
    },
    {
     "name": "stderr",
     "output_type": "stream",
     "text": [
      " 29%|███████▍                  | 65362/227921 [47:31:19<14788:03:12, 327.49s/it]"
     ]
    },
    {
     "name": "stdout",
     "output_type": "stream",
     "text": [
      "Xin-Quan Zhang\n"
     ]
    },
    {
     "name": "stderr",
     "output_type": "stream",
     "text": [
      " 29%|███████▌                  | 65931/227921 [47:59:52<13217:20:58, 293.74s/it]"
     ]
    },
    {
     "name": "stdout",
     "output_type": "stream",
     "text": [
      "Robin Gardner\n"
     ]
    },
    {
     "name": "stderr",
     "output_type": "stream",
     "text": [
      " 30%|████████                   | 67773/227921 [48:48:02<9012:33:35, 202.60s/it]"
     ]
    },
    {
     "name": "stdout",
     "output_type": "stream",
     "text": [
      "W. C. Kerr\n"
     ]
    },
    {
     "name": "stderr",
     "output_type": "stream",
     "text": [
      " 30%|███████▊                  | 68286/227921 [49:18:08<11056:32:56, 249.34s/it]"
     ]
    },
    {
     "name": "stdout",
     "output_type": "stream",
     "text": [
      "J.G.E. Harris\n"
     ]
    },
    {
     "name": "stderr",
     "output_type": "stream",
     "text": [
      " 30%|████████▍                   | 68439/227921 [49:25:41<4225:49:46, 95.39s/it]"
     ]
    },
    {
     "name": "stdout",
     "output_type": "stream",
     "text": [
      "li na\n"
     ]
    },
    {
     "name": "stderr",
     "output_type": "stream",
     "text": [
      " 30%|███████▊                  | 68531/227921 [49:41:48<11621:28:08, 262.48s/it]"
     ]
    },
    {
     "name": "stdout",
     "output_type": "stream",
     "text": [
      "Krai Cheamsawat\n"
     ]
    },
    {
     "name": "stderr",
     "output_type": "stream",
     "text": [
      " 30%|███████▊                  | 68588/227921 [49:59:14<13205:31:57, 298.37s/it]"
     ]
    },
    {
     "name": "stdout",
     "output_type": "stream",
     "text": [
      "Abraham Stroock\n"
     ]
    },
    {
     "name": "stderr",
     "output_type": "stream",
     "text": [
      " 30%|███████▊                  | 68593/227921 [50:30:30<27107:31:21, 612.49s/it]"
     ]
    },
    {
     "name": "stdout",
     "output_type": "stream",
     "text": [
      "Robert Goldman\n"
     ]
    },
    {
     "name": "stderr",
     "output_type": "stream",
     "text": [
      " 30%|███████▊                  | 68619/227921 [50:54:57<19080:29:29, 431.19s/it]"
     ]
    },
    {
     "name": "stdout",
     "output_type": "stream",
     "text": [
      "Yi-Tao Wang\n"
     ]
    },
    {
     "name": "stderr",
     "output_type": "stream",
     "text": [
      " 30%|███████▊                  | 68656/227921 [51:10:26<11896:20:58, 268.90s/it]"
     ]
    },
    {
     "name": "stdout",
     "output_type": "stream",
     "text": [
      "Edwin Kan\n"
     ]
    },
    {
     "name": "stderr",
     "output_type": "stream",
     "text": [
      " 30%|███████▉                  | 69053/227921 [51:49:45<13589:37:17, 307.95s/it]"
     ]
    },
    {
     "name": "stdout",
     "output_type": "stream",
     "text": [
      "Joseph M. Luther\n"
     ]
    },
    {
     "name": "stderr",
     "output_type": "stream",
     "text": [
      " 30%|███████▉                  | 69115/227921 [52:07:26<12790:50:58, 289.96s/it]"
     ]
    },
    {
     "name": "stdout",
     "output_type": "stream",
     "text": [
      "Mal-Soon Lee\n"
     ]
    },
    {
     "name": "stderr",
     "output_type": "stream",
     "text": [
      " 31%|███████▉                  | 69742/227921 [52:55:03<27033:59:50, 615.27s/it]"
     ]
    },
    {
     "name": "stdout",
     "output_type": "stream",
     "text": [
      "Samuel Park\n"
     ]
    },
    {
     "name": "stderr",
     "output_type": "stream",
     "text": [
      " 31%|███████▉                  | 69834/227921 [53:13:22<13218:26:11, 301.01s/it]"
     ]
    },
    {
     "name": "stdout",
     "output_type": "stream",
     "text": [
      "Wei-Hao Chen\n"
     ]
    },
    {
     "name": "stderr",
     "output_type": "stream",
     "text": [
      " 32%|████████▍                 | 73641/227921 [54:42:40<12814:14:53, 299.01s/it]"
     ]
    },
    {
     "name": "stdout",
     "output_type": "stream",
     "text": [
      "Valentina Benfenati\n"
     ]
    },
    {
     "name": "stderr",
     "output_type": "stream",
     "text": [
      " 32%|████████▋                  | 73781/227921 [54:54:16<7182:52:09, 167.76s/it]"
     ]
    },
    {
     "name": "stdout",
     "output_type": "stream",
     "text": [
      "H. Kashuri\n"
     ]
    },
    {
     "name": "stderr",
     "output_type": "stream",
     "text": [
      " 34%|████████▊                 | 77095/227921 [56:15:40<13080:53:58, 312.22s/it]"
     ]
    },
    {
     "name": "stdout",
     "output_type": "stream",
     "text": [
      "Giwan Seo\n"
     ]
    },
    {
     "name": "stderr",
     "output_type": "stream",
     "text": [
      " 34%|████████▊                 | 77146/227921 [56:32:48<12377:13:13, 295.53s/it]"
     ]
    },
    {
     "name": "stdout",
     "output_type": "stream",
     "text": [
      "P. A. Albouy\n"
     ]
    },
    {
     "name": "stderr",
     "output_type": "stream",
     "text": [
      " 34%|████████▊                 | 77237/227921 [56:51:31<13059:21:45, 312.00s/it]"
     ]
    },
    {
     "name": "stdout",
     "output_type": "stream",
     "text": [
      "Michael Boucher\n"
     ]
    },
    {
     "name": "stderr",
     "output_type": "stream",
     "text": [
      " 34%|████████▊                 | 77361/227921 [57:10:57<13251:52:40, 316.86s/it]"
     ]
    },
    {
     "name": "stdout",
     "output_type": "stream",
     "text": [
      "B. Normand\n"
     ]
    },
    {
     "name": "stderr",
     "output_type": "stream",
     "text": [
      " 34%|█████████▏                 | 77769/227921 [57:45:24<9174:40:24, 219.97s/it]"
     ]
    },
    {
     "name": "stdout",
     "output_type": "stream",
     "text": [
      "N. Naomi\n"
     ]
    },
    {
     "name": "stderr",
     "output_type": "stream",
     "text": [
      " 34%|█████████▋                  | 78504/227921 [58:01:42<2363:32:59, 56.95s/it]"
     ]
    },
    {
     "name": "stdout",
     "output_type": "stream",
     "text": [
      "Zhili Zhang\n"
     ]
    },
    {
     "name": "stderr",
     "output_type": "stream",
     "text": [
      " 35%|█████████                 | 79163/227921 [58:27:55<11674:54:00, 282.54s/it]"
     ]
    },
    {
     "name": "stdout",
     "output_type": "stream",
     "text": [
      "zihao wang\n"
     ]
    },
    {
     "name": "stderr",
     "output_type": "stream",
     "text": [
      " 35%|█████████                 | 79470/227921 [59:02:52<22430:51:04, 543.96s/it]"
     ]
    },
    {
     "name": "stdout",
     "output_type": "stream",
     "text": [
      "Rafael Velazquez\n"
     ]
    },
    {
     "name": "stderr",
     "output_type": "stream",
     "text": [
      " 35%|█████████▍                 | 80123/227921 [59:20:12<4606:50:33, 112.21s/it]"
     ]
    },
    {
     "name": "stdout",
     "output_type": "stream",
     "text": [
      "David F Fernández\n"
     ]
    },
    {
     "name": "stderr",
     "output_type": "stream",
     "text": [
      " 42%|███████████               | 96585/227921 [64:07:52<11100:04:31, 304.26s/it]"
     ]
    },
    {
     "name": "stdout",
     "output_type": "stream",
     "text": [
      "Wayne Holland\n"
     ]
    },
    {
     "name": "stderr",
     "output_type": "stream",
     "text": [
      " 42%|███████████▍               | 96796/227921 [64:16:35<3679:52:27, 101.03s/it]"
     ]
    },
    {
     "name": "stdout",
     "output_type": "stream",
     "text": [
      "Marco A. Lopez-Esquer\n"
     ]
    },
    {
     "name": "stderr",
     "output_type": "stream",
     "text": [
      " 50%|████████████▉             | 113118/227921 [69:01:45<9500:51:51, 297.93s/it]"
     ]
    },
    {
     "name": "stdout",
     "output_type": "stream",
     "text": [
      "Brian Todd\n"
     ]
    },
    {
     "name": "stderr",
     "output_type": "stream",
     "text": [
      " 51%|█████████████▏            | 115177/227921 [69:49:25<9201:00:27, 293.80s/it]"
     ]
    },
    {
     "name": "stdout",
     "output_type": "stream",
     "text": [
      "Yifan Zhang\n"
     ]
    },
    {
     "name": "stderr",
     "output_type": "stream",
     "text": [
      " 51%|█████████████▏            | 115308/227921 [70:07:40<9125:58:59, 291.74s/it]"
     ]
    },
    {
     "name": "stdout",
     "output_type": "stream",
     "text": [
      "JianPing Zhang\n"
     ]
    },
    {
     "name": "stderr",
     "output_type": "stream",
     "text": [
      " 51%|█████████████▏            | 115355/227921 [70:16:40<4649:30:45, 148.70s/it]"
     ]
    },
    {
     "name": "stdout",
     "output_type": "stream",
     "text": [
      "Solar\n"
     ]
    },
    {
     "name": "stderr",
     "output_type": "stream",
     "text": [
      " 52%|█████████████▍            | 118093/227921 [71:21:11<8935:36:48, 292.90s/it]"
     ]
    },
    {
     "name": "stdout",
     "output_type": "stream",
     "text": [
      "B.E. White Jr.\n"
     ]
    },
    {
     "name": "stderr",
     "output_type": "stream",
     "text": [
      " 52%|█████████████▍            | 118319/227921 [71:31:38<3369:03:03, 110.66s/it]"
     ]
    },
    {
     "name": "stdout",
     "output_type": "stream",
     "text": [
      "Anthony Ferri\n"
     ]
    },
    {
     "name": "stderr",
     "output_type": "stream",
     "text": [
      " 52%|███████████████▌              | 118519/227921 [71:35:13<7:31:24,  4.04it/s]"
     ]
    },
    {
     "name": "stdout",
     "output_type": "stream",
     "text": [
      "H. Schmutz\n",
      "B. Lambillotte\n",
      "CHUNYU LI\n",
      "Xufan Li\n",
      "Ethan Kahn\n",
      "Kazunori Fujisawa\n",
      "Hongwen Liu\n",
      "Mehdi Talamali\n",
      "Ziqi Li\n",
      "TAKASHI TANIGUCHI\n",
      "KENJI WATANABE\n",
      "KOSUKE NAGASHIO\n",
      "Md. Amimual Ehsan\n",
      "Anusuya Pal\n",
      "Germano S Iannacchione\n",
      "B. Larson\n",
      "P. Rugheimer\n",
      "B.J. Landi\n",
      "D.L. Ho\n",
      "B.J. Bauer\n",
      "C.M. Tseng\n",
      "Y. Imai\n",
      "H. Takahashi\n",
      "N. Nakai\n",
      "Y. Nagai\n",
      "M. Machida\n",
      "Rudolf Gulich\n",
      "Sehoon Kim\n",
      "Gaurav Mitra\n",
      "Gaurav Mitra, Jasna Brujic, Glen M. Hocky\n",
      "YenTing Chiu\n",
      "Maziar Heidari\n",
      "Roberto Cerbino\n",
      "Dipartimento di Chimica, Biochimica e Biotecnologie, University of Milan, Milan, Liquid Crystal Materials Research Center, University of Colorado, Boulder\n",
      "Isabelle Bunge\n",
      "Ananth Venkatesan\n",
      "A.A. Shashkin\n",
      "John C. Butler\n",
      "Tommy Angelini\n",
      "Woo-Sik Son\n",
      "Dong-Uk Hwang\n",
      "Ali Ramazani\n",
      "Eric J Popczun\n",
      "Jonathan W Lekse\n",
      "Xinghui Liu\n",
      "Lauren Cantley\n",
      "Eric Koch\n",
      "Narasimha Boddeti\n",
      "Martin L. Dunn\n",
      "J. Scott Bunch\n",
      "Bunch\n",
      "Arthur K. Scholz\n",
      "Alexander J. Grutter\n",
      "Husam N. Alshareef\n",
      "Kevin Hauer\n",
      "Zarina Mingazheva\n",
      "Denys Sutter\n",
      "Kevin Kramer\n",
      "Elisabetta Noceroni\n",
      "Ola Kenji Forslund\n",
      "Masaki Kobayashi\n",
      "Takagi Takayama\n",
      "Kin Chung Au Yeung\n",
      "T. Zou\n",
      "W.F. Sun\n",
      "Herbert Lannon\n",
      "Steve Kuei\n",
      "Jeff Houze\n",
      "Mark Tschopp\n",
      "Mike Baskes\n",
      "Otto Mustonen\n",
      "Heather Mutch\n",
      "Charlotte Pughe\n",
      "Fiona Coomer\n",
      "Edmund J Cussen\n",
      "John Doyle\n",
      "Eric Montoya\n"
     ]
    },
    {
     "name": "stderr",
     "output_type": "stream",
     "text": [
      " 52%|███████████████▌              | 118598/227921 [71:35:14<2:05:23, 14.53it/s]"
     ]
    },
    {
     "name": "stdout",
     "output_type": "stream",
     "text": [
      "Iliya Todorov\n",
      "Arun Ramachandran\n",
      "Suraj Borkar\n",
      "chiara venturini\n",
      "Pere Roca-Cusachs\n",
      "Steven A. Kivelson\n",
      "Kyle Willick\n",
      "Xiaowu (Shirley) Tang\n",
      "Ambroise van Roekeghem\n",
      "K.R. Joshi\n",
      "N. M. NUSRAN\n",
      "KYUIL CHO\n",
      "M. A. TANATAR\n",
      "S. L. BUD'KO\n",
      "P. C. CANFIELD\n",
      "R. PROZOROV\n",
      "Sami Mahmoud\n",
      "Xin Hu\n",
      "Xin Hu, Alfred J. Crosby\n",
      "David Baxter\n",
      "abu ashik M Irfan\n",
      "Krystyna Lopez\n",
      "Carl D. Modes\n",
      "Marcelo F.C. Gomes\n",
      "Luca Rossi\n",
      "Hamidreza Chalabi\n",
      "Sunil Mittal\n",
      "Wolfgang P. Schleich\n",
      "Daniel Greenberger\n",
      "Donald H. Kobe\n",
      "Dong-Ning Sheng\n",
      "H. Tsujii\n",
      "Y. Inagaki\n",
      "H. Kikuchi\n",
      "E. Alex Wollack\n",
      "K. Shain\n",
      "P. Reinhold\n",
      "Rajdeep Banerjee\n",
      "Ahrum Sohn\n",
      "Heewon Hwang\n",
      "Y. U. Lee\n",
      "Kyungkon Kim\n",
      "J. W. Wu\n",
      "Daniel Friedan\n",
      "Marsela Jorgolli\n",
      "Alex Shalek\n",
      "Myung-Han Yoon\n",
      "Rona Gertner\n",
      "T.R. Lemberger\n",
      "Grace Gionta\n",
      "Guy Skinner\n",
      "John Moriarty\n",
      "Eleftherios Andritsos\n",
      "Anthony Paxton\n",
      "James Endres\n",
      "MRSEC of University of Wisconsin Madison\n",
      "X. Dou\n",
      "V. N. Kotov\n",
      "Asif Ahmed\n",
      "Ramy El-Ganainy\n",
      "Laerte Patera\n",
      "Fabian Queck\n",
      "Philipp Scheuerer\n",
      "G. Sullivan\n",
      "S. Sasa\n",
      "M. Inoue\n",
      "Kim-Ngan Hua\n",
      "Rory Waterman\n",
      "Ollie Hart\n",
      "Willa Li\n",
      "Ziga Donik\n",
      "Sherif Reda\n",
      "David Mackay\n",
      "james Schneeloch\n",
      "Berger group, Gu Group, Dessau group\n",
      "Aki Kitaori\n",
      "Jonathan S White\n",
      "Luis Fernández-Torres\n",
      "Sanjini Nanayakkara\n",
      "Brent Mantooth\n",
      "Ryan Nevin\n"
     ]
    },
    {
     "name": "stderr",
     "output_type": "stream",
     "text": [
      " 52%|████████████████▋               | 118678/227921 [71:35:14<52:58, 34.37it/s]"
     ]
    },
    {
     "name": "stdout",
     "output_type": "stream",
     "text": [
      "Jérôme Crassous\n",
      "Mitchell McCarthy\n",
      "Doyoung Kim\n",
      "Paul H. Holloway\n",
      "Sriram Guddala\n",
      "Nicholas Yama\n",
      "David Turbay\n",
      "Suhithi Peiris\n",
      "Weichang Hao\n",
      "Francisco Domínguez-Adame\n",
      "Elena Díaz\n",
      "Xiaofeng Lu\n",
      "Rujun Tang\n",
      "Z. Z. Sun\n",
      "Anuranan Das\n",
      "Parvinder Solanki\n",
      "Adil A Khan\n",
      "Taizo Sasaki\n",
      "Seunghwan Kim\n",
      "Gonensin Bozdag\n",
      "Matteo Becchi\n",
      "Dino Leporini\n",
      "Joshua Chawner\n",
      "Antony Guénault\n",
      "Alexander Jones\n",
      "Jari Penttilä\n",
      "Mendeli Vainstein\n",
      "Gilberto Thomas\n",
      "Rita de Almeida\n",
      "Byoung Ki Choy\n",
      "K. Kountouriotis\n",
      "T. Liu\n",
      "X.Z. Yu\n",
      "J.H. Zhao\n",
      "MD MEHDI Masud\n",
      "Alexey Arbuznikov\n",
      "Martin Kaupp\n",
      "Hilke Bahmann\n",
      "Gregory Stewart\n",
      "G. Tam\n",
      "B. Demaske\n",
      "S. Phillpot\n",
      "H. Maruyama\n",
      "J. Nino\n",
      "Jinshan Yao\n",
      "Ziyuan Yuan\n",
      "Gabriele Migliorini\n",
      "N. Giovambattista\n",
      "F. Sciortino\n",
      "F. W. Starr\n",
      "P. H. Poole\n",
      "Paige Landry\n",
      "A. Ramirez-Cuesta\n",
      "Vitor Manuel Pereira\n",
      "Juan P. Hernandez-Ortiz\n",
      "Hossein Rokni\n",
      "A. Yamaguchi\n",
      "H. Ishimoto\n",
      "H. Kojima\n",
      "Mehmet Yurtisigi\n",
      "Bill Butler\n",
      "Mark W. Keller\n",
      "Fouad Kaadou\n",
      "Mohammad Rafiee Diznab\n",
      "Ethan Gysbertsen\n",
      "Adrian Rumson\n",
      "A. A. Polyanskii\n",
      "L. W. Engel\n",
      "M. P. Lilly\n",
      "J. A. Simmons\n",
      "Julianne Pollard\n",
      "H.R. Naren\n",
      "Arumugam Tamizhavel\n",
      "Arun Grover\n",
      "Olivia White\n",
      "Veronika Brazdova\n",
      "Martin Setvin\n",
      "Emmanouel Hourdakis\n",
      "Hiroshi Inokawa\n"
     ]
    },
    {
     "name": "stderr",
     "output_type": "stream",
     "text": [
      " 52%|████████████████▋               | 118758/227921 [71:35:14<26:13, 69.36it/s]"
     ]
    },
    {
     "name": "stdout",
     "output_type": "stream",
     "text": [
      "Kenji Yamazaki\n",
      "Hideo Namatsu\n",
      "Yashuo Takahashi\n",
      "Yukinori Ono\n",
      "Lousiana State University\n",
      "Leonid Burakovsky\n",
      "M. Haridas\n",
      "J.K. Basu\n",
      "Lucas Jarjat\n",
      "Vince van de Sande\n",
      "Sergio Dalosto\n",
      "Nico Hawley-Weld\n",
      "Vinod Subramaniam\n",
      "Jadupati Nag\n",
      "Jadupati Nag,1, 2, * Barnabha Bandyopadhyay,1, K. G. Suresh,1, ‡, Aftab Alam1, §, and Akio Kimura,2, †1Department of Physics, Indian Institute of Technology Bombay, Mumbai 400076, India2Graduate School of Science, H\n",
      "Ahmadreza Azizi\n",
      "Larry Fried\n",
      "Juanita Bocquel\n",
      "Paul M. Koenraad\n",
      "Anran Li\n",
      "Jude Rosen\n",
      "Ziqi Ma\n",
      "Thomas Halverson\n",
      "logan winford\n",
      "B. Jensen\n",
      "K. Dennis\n",
      "Haidong Zhang\n",
      "Taras Bryk\n",
      "Ihor Mryglod\n",
      "Tullio Scopigno\n",
      "Daniella Arbeiter\n",
      "Vanessa Robins\n",
      "Rajesh Ranjan\n",
      "Srishti Sehgal\n",
      "Y.B. He\n",
      "C. Di Valentin\n",
      "A. Tilocca\n",
      "A. Selloni \n",
      "SRL-ISTEC, Osaka University\n",
      "Matt J. Hourwitz\n",
      "Beno\\^It Roman\n",
      "Andrew Pinkard\n",
      "Z.Y. Meng\n",
      "H. Feldner\n",
      "T.C. Lang\n",
      "S. Wessel\n",
      "Philip Zucker\n",
      "D. E. Feldman\n",
      "Sebastien Corde\n",
      "Steven Rick\n",
      "H. Hwang\n",
      "E. Klevak\n",
      "Christian Hicke\n",
      "Ginetom S. Diniz\n",
      "Marcos R. Guassi\n",
      "T. McDonald\n",
      "W. Metzger\n",
      "C. Engtrakul\n",
      "J. Blackburn\n",
      "G. Scholes\n",
      "G. Rumbles\n",
      "M. Heben\n",
      "Nik Podraza\n",
      "Rich Aquilina\n",
      "Alex Marakov\n",
      "Steven Van Sciver\n",
      "William Vinen\n",
      "Davis Unruh\n",
      "Chase Hansen\n",
      "Joel Bobadilla\n",
      "Gergely T Zimanyi\n",
      "Dirk Fuchs\n",
      "Kai Kleindienst\n",
      "Jimmy C Kotsakidis\n",
      "Matthew DeJarld\n",
      "James M Howe\n",
      "Dwight D Viehland\n",
      "Daniela Mancilla\n",
      "Allan Adams\n",
      "Rance Necaise\n",
      "Eric Montag\n",
      "Agneza Bosilj\n"
     ]
    },
    {
     "name": "stderr",
     "output_type": "stream",
     "text": [
      "\r",
      " 52%|████████████████▋               | 118796/227921 [71:35:14<19:40, 92.41it/s]"
     ]
    },
    {
     "name": "stdout",
     "output_type": "stream",
     "text": [
      "Iva Tolić\n",
      "Jonathan Carter\n",
      "Wibe de Jong\n",
      "Daniel Murray\n",
      "Orest Pavlosiuk\n",
      "H.J. Gardner\n",
      "O. Vafek\n",
      "Matthew Stuthers\n",
      "Jim Vitarelli\n",
      "Christopher Molek\n",
      "C.L. Chan\n",
      "C.C. Lin\n",
      "L.L. Li\n",
      "K.J. Lin\n",
      "Matt Dowens\n"
     ]
    },
    {
     "name": "stderr",
     "output_type": "stream",
     "text": [
      " 53%|█████████████▋            | 120517/227921 [72:22:11<9721:33:08, 325.85s/it]"
     ]
    },
    {
     "name": "stdout",
     "output_type": "stream",
     "text": [
      "Dhani Nafday\n"
     ]
    },
    {
     "name": "stderr",
     "output_type": "stream",
     "text": [
      " 53%|█████████████▊            | 121005/227921 [73:00:22<9393:40:16, 316.30s/it]"
     ]
    },
    {
     "name": "stdout",
     "output_type": "stream",
     "text": [
      "G. Rosenberg\n"
     ]
    },
    {
     "name": "stderr",
     "output_type": "stream",
     "text": [
      " 53%|█████████████▎           | 121129/227921 [73:30:44<15028:15:44, 506.61s/it]"
     ]
    },
    {
     "name": "stdout",
     "output_type": "stream",
     "text": [
      "Stephane Grauby\n"
     ]
    },
    {
     "name": "stderr",
     "output_type": "stream",
     "text": [
      " 53%|█████████████▎           | 121196/227921 [73:58:13<13238:56:35, 446.57s/it]"
     ]
    },
    {
     "name": "stdout",
     "output_type": "stream",
     "text": [
      "Naveen Reddy Kadasala\n"
     ]
    },
    {
     "name": "stderr",
     "output_type": "stream",
     "text": [
      " 53%|█████████████▊            | 121222/227921 [74:17:09<9759:28:16, 329.28s/it]"
     ]
    },
    {
     "name": "stdout",
     "output_type": "stream",
     "text": [
      "H Shin\n"
     ]
    },
    {
     "name": "stderr",
     "output_type": "stream",
     "text": [
      " 53%|█████████████▊            | 121614/227921 [74:39:00<5086:21:30, 172.25s/it]"
     ]
    },
    {
     "name": "stdout",
     "output_type": "stream",
     "text": [
      "Joseph Curtis\n"
     ]
    },
    {
     "name": "stderr",
     "output_type": "stream",
     "text": [
      " 54%|██████████████            | 123485/227921 [75:55:38<8965:21:29, 309.04s/it]"
     ]
    },
    {
     "name": "stdout",
     "output_type": "stream",
     "text": [
      "Lindsay Maleckar Smith\n"
     ]
    },
    {
     "name": "stderr",
     "output_type": "stream",
     "text": [
      " 54%|██████████████            | 123600/227921 [76:15:55<9495:57:01, 327.69s/it]"
     ]
    },
    {
     "name": "stdout",
     "output_type": "stream",
     "text": [
      "C. Peace\n"
     ]
    },
    {
     "name": "stderr",
     "output_type": "stream",
     "text": [
      " 56%|██████████████▌           | 127188/227921 [77:49:00<8496:40:28, 303.65s/it]"
     ]
    },
    {
     "name": "stdout",
     "output_type": "stream",
     "text": [
      "Xingjun Wang\n"
     ]
    },
    {
     "name": "stderr",
     "output_type": "stream",
     "text": [
      " 56%|██████████████▌           | 127225/227921 [78:06:11<8342:09:02, 298.24s/it]"
     ]
    },
    {
     "name": "stdout",
     "output_type": "stream",
     "text": [
      "Tomas Materdey\n"
     ]
    },
    {
     "name": "stderr",
     "output_type": "stream",
     "text": [
      " 56%|█████████████▉           | 127229/227921 [78:23:37<10767:52:19, 384.98s/it]"
     ]
    },
    {
     "name": "stdout",
     "output_type": "stream",
     "text": [
      "Soosy, Sabu, Jaya, Ros\n"
     ]
    },
    {
     "name": "stderr",
     "output_type": "stream",
     "text": [
      " 56%|██████████████▌           | 127361/227921 [78:36:02<5106:59:58, 182.83s/it]"
     ]
    },
    {
     "name": "stdout",
     "output_type": "stream",
     "text": [
      "Alex Arjad\n"
     ]
    },
    {
     "name": "stderr",
     "output_type": "stream",
     "text": [
      " 56%|█████████████▉           | 127603/227921 [79:11:35<15834:39:39, 568.24s/it]"
     ]
    },
    {
     "name": "stdout",
     "output_type": "stream",
     "text": [
      "J Bendix\n"
     ]
    },
    {
     "name": "stderr",
     "output_type": "stream",
     "text": [
      " 56%|██████████████▌           | 127718/227921 [79:31:03<8741:57:43, 314.07s/it]"
     ]
    },
    {
     "name": "stdout",
     "output_type": "stream",
     "text": [
      "Jiping Wang\n"
     ]
    },
    {
     "name": "stderr",
     "output_type": "stream",
     "text": [
      " 56%|██████████████▌           | 127819/227921 [79:49:03<8275:12:50, 297.60s/it]"
     ]
    },
    {
     "name": "stdout",
     "output_type": "stream",
     "text": [
      "Yuji Muraoka\n"
     ]
    },
    {
     "name": "stderr",
     "output_type": "stream",
     "text": [
      " 56%|██████████████▌           | 127868/227921 [80:06:16<8216:31:51, 295.64s/it]"
     ]
    },
    {
     "name": "stdout",
     "output_type": "stream",
     "text": [
      "Karim Rezouali\n"
     ]
    },
    {
     "name": "stderr",
     "output_type": "stream",
     "text": [
      " 56%|██████████████▌           | 127999/227921 [80:24:31<8183:08:33, 294.82s/it]"
     ]
    },
    {
     "name": "stdout",
     "output_type": "stream",
     "text": [
      "Anurag Saha Roy\n"
     ]
    },
    {
     "name": "stderr",
     "output_type": "stream",
     "text": [
      " 56%|██████████████▋           | 128271/227921 [80:38:01<4339:51:05, 156.78s/it]"
     ]
    },
    {
     "name": "stdout",
     "output_type": "stream",
     "text": [
      "Bingfeng Hu\n"
     ]
    },
    {
     "name": "stderr",
     "output_type": "stream",
     "text": [
      " 56%|██████████████▋           | 128351/227921 [80:55:29<7969:09:18, 288.13s/it]"
     ]
    },
    {
     "name": "stdout",
     "output_type": "stream",
     "text": [
      "Hazuki Furukawa\n"
     ]
    },
    {
     "name": "stderr",
     "output_type": "stream",
     "text": [
      " 56%|██████████████▋           | 128416/227921 [81:12:36<8037:55:12, 290.80s/it]"
     ]
    },
    {
     "name": "stdout",
     "output_type": "stream",
     "text": [
      "S. Kaku\n"
     ]
    },
    {
     "name": "stderr",
     "output_type": "stream",
     "text": [
      " 57%|██████████████▎          | 130313/227921 [82:26:52<12147:56:16, 448.04s/it]"
     ]
    },
    {
     "name": "stdout",
     "output_type": "stream",
     "text": [
      "T. Luo\n"
     ]
    },
    {
     "name": "stderr",
     "output_type": "stream",
     "text": [
      " 57%|██████████████▉           | 130638/227921 [82:48:51<8231:03:35, 304.59s/it]"
     ]
    },
    {
     "name": "stdout",
     "output_type": "stream",
     "text": [
      "Nikita Patel\n"
     ]
    },
    {
     "name": "stderr",
     "output_type": "stream",
     "text": [
      " 57%|██████████████▉           | 130645/227921 [83:05:53<8937:49:24, 330.77s/it]"
     ]
    },
    {
     "name": "stdout",
     "output_type": "stream",
     "text": [
      "Jochen Autschbach\n"
     ]
    },
    {
     "name": "stderr",
     "output_type": "stream",
     "text": [
      " 60%|███████████████▌          | 136626/227921 [84:55:35<7140:04:46, 281.55s/it]"
     ]
    },
    {
     "name": "stdout",
     "output_type": "stream",
     "text": [
      "Katherine Canavan\n"
     ]
    },
    {
     "name": "stderr",
     "output_type": "stream",
     "text": [
      " 61%|████████████████▍          | 138575/227921 [85:33:03<2275:30:13, 91.69s/it]"
     ]
    },
    {
     "name": "stdout",
     "output_type": "stream",
     "text": [
      "M. W. Wu\n"
     ]
    },
    {
     "name": "stderr",
     "output_type": "stream",
     "text": [
      " 62%|████████████████▏         | 141650/227921 [86:37:38<6912:38:39, 288.46s/it]"
     ]
    },
    {
     "name": "stdout",
     "output_type": "stream",
     "text": [
      "J.-P. Reid\n"
     ]
    },
    {
     "name": "stderr",
     "output_type": "stream",
     "text": [
      " 63%|████████████████▍         | 144097/227921 [87:28:56<6123:32:07, 262.99s/it]"
     ]
    },
    {
     "name": "stdout",
     "output_type": "stream",
     "text": [
      "S. Williams\n"
     ]
    },
    {
     "name": "stderr",
     "output_type": "stream",
     "text": [
      " 64%|████████████████▌         | 145568/227921 [88:06:34<6049:08:48, 264.43s/it]"
     ]
    },
    {
     "name": "stdout",
     "output_type": "stream",
     "text": [
      "Andrea Migliorini\n"
     ]
    },
    {
     "name": "stderr",
     "output_type": "stream",
     "text": [
      " 65%|████████████████▉         | 148629/227921 [89:12:19<6598:23:42, 299.58s/it]"
     ]
    },
    {
     "name": "stdout",
     "output_type": "stream",
     "text": [
      "Mohammad Razavi\n"
     ]
    },
    {
     "name": "stderr",
     "output_type": "stream",
     "text": [
      " 65%|████████████████▉         | 148885/227921 [89:40:47<9700:40:29, 441.85s/it]"
     ]
    },
    {
     "name": "stdout",
     "output_type": "stream",
     "text": [
      "Tavakol Pakizeh\n"
     ]
    },
    {
     "name": "stderr",
     "output_type": "stream",
     "text": [
      " 65%|████████████████▉         | 149019/227921 [90:00:48<6927:47:38, 316.09s/it]"
     ]
    },
    {
     "name": "stdout",
     "output_type": "stream",
     "text": [
      "Zhang Gu\n"
     ]
    },
    {
     "name": "stderr",
     "output_type": "stream",
     "text": [
      " 65%|█████████████████         | 149115/227921 [90:13:08<4265:27:45, 194.85s/it]"
     ]
    },
    {
     "name": "stdout",
     "output_type": "stream",
     "text": [
      "Sreenath Bolisetty\n"
     ]
    },
    {
     "name": "stderr",
     "output_type": "stream",
     "text": [
      " 69%|█████████████████▊        | 156270/227921 [92:22:38<5876:48:11, 295.27s/it]"
     ]
    },
    {
     "name": "stdout",
     "output_type": "stream",
     "text": [
      "Joseph B. Tracy\n"
     ]
    },
    {
     "name": "stderr",
     "output_type": "stream",
     "text": [
      " 69%|█████████████████▊        | 156523/227921 [92:41:12<4879:24:49, 246.03s/it]"
     ]
    },
    {
     "name": "stdout",
     "output_type": "stream",
     "text": [
      "Paul Zavala\n"
     ]
    },
    {
     "name": "stderr",
     "output_type": "stream",
     "text": [
      " 69%|█████████████████▉        | 156870/227921 [93:19:15<6258:04:02, 317.08s/it]"
     ]
    },
    {
     "name": "stdout",
     "output_type": "stream",
     "text": [
      "Sebastien Blanc\n"
     ]
    },
    {
     "name": "stderr",
     "output_type": "stream",
     "text": [
      " 69%|█████████████████▏       | 157031/227921 [93:57:27<11667:20:03, 592.50s/it]"
     ]
    },
    {
     "name": "stdout",
     "output_type": "stream",
     "text": [
      "Gary Wells\n"
     ]
    },
    {
     "name": "stderr",
     "output_type": "stream",
     "text": [
      " 69%|█████████████████▉        | 157413/227921 [94:30:39<5670:44:48, 289.54s/it]"
     ]
    },
    {
     "name": "stdout",
     "output_type": "stream",
     "text": [
      "Alex McCaskey\n"
     ]
    },
    {
     "name": "stderr",
     "output_type": "stream",
     "text": [
      " 69%|██████████████████▋        | 158127/227921 [94:47:18<1302:30:01, 67.18s/it]"
     ]
    },
    {
     "name": "stdout",
     "output_type": "stream",
     "text": [
      "Larry Paul Engelhardt\n"
     ]
    },
    {
     "name": "stderr",
     "output_type": "stream",
     "text": [
      " 69%|██████████████████        | 158175/227921 [95:04:59<5917:10:08, 305.42s/it]"
     ]
    },
    {
     "name": "stdout",
     "output_type": "stream",
     "text": [
      "Mooseong Kim\n"
     ]
    },
    {
     "name": "stderr",
     "output_type": "stream",
     "text": [
      " 69%|██████████████████        | 158328/227921 [95:23:07<5438:14:39, 281.32s/it]"
     ]
    },
    {
     "name": "stdout",
     "output_type": "stream",
     "text": [
      "Hee Taek Yi, Xiong Yao, Deepti Jain, Seongshik Oh\n"
     ]
    },
    {
     "name": "stderr",
     "output_type": "stream",
     "text": [
      " 70%|██████████████████▏       | 159117/227921 [95:49:18<4613:24:53, 241.39s/it]"
     ]
    },
    {
     "name": "stdout",
     "output_type": "stream",
     "text": [
      "Lev Tsimring \n"
     ]
    },
    {
     "name": "stderr",
     "output_type": "stream",
     "text": [
      " 70%|██████████████████▏       | 159706/227921 [96:14:48<5002:18:44, 263.99s/it]"
     ]
    },
    {
     "name": "stdout",
     "output_type": "stream",
     "text": [
      "Jacqueline Chen\n"
     ]
    },
    {
     "name": "stderr",
     "output_type": "stream",
     "text": [
      " 70%|██████████████████▉        | 160323/227921 [96:27:31<1025:44:40, 54.63s/it]"
     ]
    },
    {
     "name": "stdout",
     "output_type": "stream",
     "text": [
      "A. Fang\n"
     ]
    },
    {
     "name": "stderr",
     "output_type": "stream",
     "text": [
      " 71%|███████████████████        | 160970/227921 [96:40:51<1196:50:02, 64.35s/it]"
     ]
    },
    {
     "name": "stdout",
     "output_type": "stream",
     "text": [
      "Jane Tanner\n"
     ]
    },
    {
     "name": "stderr",
     "output_type": "stream",
     "text": [
      " 71%|██████████████████▍       | 161584/227921 [97:03:27<4324:47:16, 234.70s/it]"
     ]
    },
    {
     "name": "stdout",
     "output_type": "stream",
     "text": [
      "Eileen Tan\n"
     ]
    },
    {
     "name": "stderr",
     "output_type": "stream",
     "text": [
      " 72%|██████████████████▋       | 163527/227921 [98:03:19<9200:07:37, 514.34s/it]"
     ]
    },
    {
     "name": "stdout",
     "output_type": "stream",
     "text": [
      "G. J. Mankey\n"
     ]
    },
    {
     "name": "stderr",
     "output_type": "stream",
     "text": [
      " 72%|██████████████████▋       | 163807/227921 [98:19:31<3763:38:58, 211.33s/it]"
     ]
    },
    {
     "name": "stdout",
     "output_type": "stream",
     "text": [
      "K. A. Modic\n"
     ]
    },
    {
     "name": "stderr",
     "output_type": "stream",
     "text": [
      " 72%|██████████████████       | 164669/227921 [99:04:41<10060:54:47, 572.62s/it]"
     ]
    },
    {
     "name": "stdout",
     "output_type": "stream",
     "text": [
      "JICLI ROJAS\n"
     ]
    },
    {
     "name": "stderr",
     "output_type": "stream",
     "text": [
      " 72%|██████████████████▊       | 164807/227921 [99:24:55<5688:04:26, 324.45s/it]"
     ]
    },
    {
     "name": "stdout",
     "output_type": "stream",
     "text": [
      "M. C. Nguyen\n"
     ]
    },
    {
     "name": "stderr",
     "output_type": "stream",
     "text": [
      " 75%|██████████████████▋      | 170300/227921 [101:11:48<4776:31:18, 298.42s/it]"
     ]
    },
    {
     "name": "stdout",
     "output_type": "stream",
     "text": [
      "N. Kawamura\n"
     ]
    },
    {
     "name": "stderr",
     "output_type": "stream",
     "text": [
      " 76%|███████████████████      | 174102/227921 [102:29:26<4698:13:48, 314.27s/it]"
     ]
    },
    {
     "name": "stdout",
     "output_type": "stream",
     "text": [
      "Rodolfo Borzi\n"
     ]
    },
    {
     "name": "stderr",
     "output_type": "stream",
     "text": [
      " 76%|███████████████████      | 174184/227921 [102:46:50<4356:28:46, 291.85s/it]"
     ]
    },
    {
     "name": "stdout",
     "output_type": "stream",
     "text": [
      "Michael Hein\n"
     ]
    },
    {
     "name": "stderr",
     "output_type": "stream",
     "text": [
      " 76%|███████████████████      | 174294/227921 [103:03:42<4041:00:49, 271.27s/it]"
     ]
    },
    {
     "name": "stdout",
     "output_type": "stream",
     "text": [
      "P. Fuoss\n"
     ]
    },
    {
     "name": "stderr",
     "output_type": "stream",
     "text": [
      " 77%|███████████████████▏     | 174743/227921 [103:41:32<8235:35:31, 557.53s/it]"
     ]
    },
    {
     "name": "stdout",
     "output_type": "stream",
     "text": [
      "Renu Gupta\n"
     ]
    },
    {
     "name": "stderr",
     "output_type": "stream",
     "text": [
      " 77%|███████████████████▏     | 174876/227921 [103:59:41<4243:59:44, 288.03s/it]"
     ]
    },
    {
     "name": "stdout",
     "output_type": "stream",
     "text": [
      "University of Tennessee, Oak Ridge National Lab, Fudan University\n"
     ]
    },
    {
     "name": "stderr",
     "output_type": "stream",
     "text": [
      " 77%|███████████████████▏     | 174977/227921 [104:17:02<4234:36:18, 287.94s/it]"
     ]
    },
    {
     "name": "stdout",
     "output_type": "stream",
     "text": [
      "Sreeram Cingarapu\n"
     ]
    },
    {
     "name": "stderr",
     "output_type": "stream",
     "text": [
      " 77%|███████████████████▏     | 175008/227921 [104:35:06<4641:41:47, 315.80s/it]"
     ]
    },
    {
     "name": "stdout",
     "output_type": "stream",
     "text": [
      "S. Hira\n"
     ]
    },
    {
     "name": "stderr",
     "output_type": "stream",
     "text": [
      " 77%|███████████████████▏     | 175091/227921 [104:52:41<4254:08:27, 289.89s/it]"
     ]
    },
    {
     "name": "stdout",
     "output_type": "stream",
     "text": [
      "Phillip Williams\n"
     ]
    },
    {
     "name": "stderr",
     "output_type": "stream",
     "text": [
      " 77%|███████████████████▎     | 175501/227921 [105:16:14<4532:05:50, 311.25s/it]"
     ]
    },
    {
     "name": "stdout",
     "output_type": "stream",
     "text": [
      "Elvina Dilmieva\n"
     ]
    },
    {
     "name": "stderr",
     "output_type": "stream",
     "text": [
      " 77%|███████████████████▎     | 175645/227921 [105:26:36<2212:06:51, 152.34s/it]"
     ]
    },
    {
     "name": "stdout",
     "output_type": "stream",
     "text": [
      "Dalhousie University, Halifax, NS, CANADA, Acadia University, Wolfville, NS, CANADA\n"
     ]
    },
    {
     "name": "stderr",
     "output_type": "stream",
     "text": [
      " 77%|███████████████████▎     | 175817/227921 [105:36:00<1726:17:19, 119.27s/it]"
     ]
    },
    {
     "name": "stdout",
     "output_type": "stream",
     "text": [
      "Anne Hebert\n"
     ]
    },
    {
     "name": "stderr",
     "output_type": "stream",
     "text": [
      " 77%|███████████████████▎     | 175901/227921 [105:51:21<3656:23:32, 253.04s/it]"
     ]
    },
    {
     "name": "stdout",
     "output_type": "stream",
     "text": [
      "D.-Y. Chung\n"
     ]
    },
    {
     "name": "stderr",
     "output_type": "stream",
     "text": [
      " 78%|███████████████████▍     | 177164/227921 [106:40:48<7197:57:39, 510.52s/it]"
     ]
    },
    {
     "name": "stdout",
     "output_type": "stream",
     "text": [
      "Cheng-Chih Hsieh\n"
     ]
    },
    {
     "name": "stderr",
     "output_type": "stream",
     "text": [
      " 78%|███████████████████▍     | 177467/227921 [107:02:08<4188:07:46, 298.83s/it]"
     ]
    },
    {
     "name": "stdout",
     "output_type": "stream",
     "text": [
      "Chaoqiang Xu\n"
     ]
    },
    {
     "name": "stderr",
     "output_type": "stream",
     "text": [
      " 78%|█████████████████████      | 177522/227921 [107:06:25<870:57:48, 62.21s/it]"
     ]
    },
    {
     "name": "stdout",
     "output_type": "stream",
     "text": [
      "Zulfar Ghulam-Jelani\n"
     ]
    },
    {
     "name": "stderr",
     "output_type": "stream",
     "text": [
      " 78%|███████████████████▌     | 178788/227921 [107:38:41<3142:58:32, 230.29s/it]"
     ]
    },
    {
     "name": "stdout",
     "output_type": "stream",
     "text": [
      "Mark Panaggio\n"
     ]
    },
    {
     "name": "stderr",
     "output_type": "stream",
     "text": [
      " 80%|███████████████████▉     | 181981/227921 [108:37:41<2303:49:28, 180.53s/it]"
     ]
    },
    {
     "name": "stdout",
     "output_type": "stream",
     "text": [
      "Ilya Y Dodin\n"
     ]
    },
    {
     "name": "stderr",
     "output_type": "stream",
     "text": [
      " 81%|█████████████████████     | 184840/227921 [109:25:20<1145:58:11, 95.76s/it]"
     ]
    },
    {
     "name": "stdout",
     "output_type": "stream",
     "text": [
      "Ryo Kurokawa\n"
     ]
    },
    {
     "name": "stderr",
     "output_type": "stream",
     "text": [
      " 83%|████████████████████▊    | 190258/227921 [111:10:55<3210:29:38, 306.87s/it]"
     ]
    },
    {
     "name": "stdout",
     "output_type": "stream",
     "text": [
      "Carlos De Brito Cruz\n"
     ]
    },
    {
     "name": "stderr",
     "output_type": "stream",
     "text": [
      " 86%|█████████████████████▍   | 195023/227921 [112:23:45<1072:38:46, 117.38s/it]"
     ]
    },
    {
     "name": "stdout",
     "output_type": "stream",
     "text": [
      "W. Su\n"
     ]
    },
    {
     "name": "stderr",
     "output_type": "stream",
     "text": [
      " 87%|█████████████████████▋   | 197898/227921 [113:19:16<2462:32:20, 295.28s/it]"
     ]
    },
    {
     "name": "stdout",
     "output_type": "stream",
     "text": [
      "Anthony E.Mc Donald\n"
     ]
    },
    {
     "name": "stderr",
     "output_type": "stream",
     "text": [
      " 87%|█████████████████████▋   | 197902/227921 [113:48:12<4931:02:53, 591.35s/it]"
     ]
    },
    {
     "name": "stdout",
     "output_type": "stream",
     "text": [
      "T.S. Lee\n"
     ]
    },
    {
     "name": "stderr",
     "output_type": "stream",
     "text": [
      " 87%|█████████████████████▋   | 198040/227921 [114:01:31<1671:13:17, 201.35s/it]"
     ]
    },
    {
     "name": "stdout",
     "output_type": "stream",
     "text": [
      "Sue A.Carter\n"
     ]
    },
    {
     "name": "stderr",
     "output_type": "stream",
     "text": [
      " 87%|███████████████████████▍   | 198239/227921 [114:08:39<518:41:47, 62.91s/it]"
     ]
    },
    {
     "name": "stdout",
     "output_type": "stream",
     "text": [
      "W.X. Ti\n"
     ]
    },
    {
     "name": "stderr",
     "output_type": "stream",
     "text": [
      " 87%|███████████████████████▌   | 199055/227921 [114:23:36<473:32:02, 59.06s/it]"
     ]
    },
    {
     "name": "stdout",
     "output_type": "stream",
     "text": [
      "M. Curry\n"
     ]
    },
    {
     "name": "stderr",
     "output_type": "stream",
     "text": [
      " 88%|██████████████████████   | 200730/227921 [115:05:15<2425:53:03, 321.18s/it]"
     ]
    },
    {
     "name": "stdout",
     "output_type": "stream",
     "text": [
      "J.Zhu\n"
     ]
    },
    {
     "name": "stderr",
     "output_type": "stream",
     "text": [
      " 88%|██████████████████████   | 200942/227921 [115:24:11<2196:16:08, 293.06s/it]"
     ]
    },
    {
     "name": "stdout",
     "output_type": "stream",
     "text": [
      "Robijn F.Bruinsma\n"
     ]
    },
    {
     "name": "stderr",
     "output_type": "stream",
     "text": [
      " 88%|██████████████████████   | 201087/227921 [115:58:31<4341:48:53, 582.49s/it]"
     ]
    },
    {
     "name": "stdout",
     "output_type": "stream",
     "text": [
      "J.D.Busbee\n"
     ]
    },
    {
     "name": "stderr",
     "output_type": "stream",
     "text": [
      " 89%|██████████████████████▏  | 201830/227921 [116:27:04<2293:07:27, 316.40s/it]"
     ]
    },
    {
     "name": "stdout",
     "output_type": "stream",
     "text": [
      "Ming Zhu\n"
     ]
    },
    {
     "name": "stderr",
     "output_type": "stream",
     "text": [
      " 89%|██████████████████████▏  | 202161/227921 [116:46:58<2011:33:02, 281.12s/it]"
     ]
    },
    {
     "name": "stdout",
     "output_type": "stream",
     "text": [
      "G. N. O ST OJ IC\n"
     ]
    },
    {
     "name": "stderr",
     "output_type": "stream",
     "text": [
      " 89%|███████████████████████▉   | 202268/227921 [116:52:02<459:50:00, 64.53s/it]"
     ]
    },
    {
     "name": "stdout",
     "output_type": "stream",
     "text": [
      "Yu-Peng Wang\n"
     ]
    },
    {
     "name": "stderr",
     "output_type": "stream",
     "text": [
      " 89%|██████████████████████▏  | 202366/227921 [117:11:41<2236:09:32, 315.01s/it]"
     ]
    },
    {
     "name": "stdout",
     "output_type": "stream",
     "text": [
      "David MTiede\n"
     ]
    },
    {
     "name": "stderr",
     "output_type": "stream",
     "text": [
      " 89%|██████████████████████▎  | 203137/227921 [117:47:36<2387:20:45, 346.77s/it]"
     ]
    },
    {
     "name": "stdout",
     "output_type": "stream",
     "text": [
      "William Warren\n"
     ]
    },
    {
     "name": "stderr",
     "output_type": "stream",
     "text": [
      " 89%|██████████████████████▎  | 203440/227921 [118:09:20<2128:27:30, 313.00s/it]"
     ]
    },
    {
     "name": "stdout",
     "output_type": "stream",
     "text": [
      "J.K. Crane\n"
     ]
    },
    {
     "name": "stderr",
     "output_type": "stream",
     "text": [
      " 89%|██████████████████████▎  | 203482/227921 [118:23:45<1682:42:35, 247.87s/it]"
     ]
    },
    {
     "name": "stdout",
     "output_type": "stream",
     "text": [
      "Saiful I.Khondaker\n"
     ]
    },
    {
     "name": "stderr",
     "output_type": "stream",
     "text": [
      " 89%|███████████████████████▏  | 203581/227921 [118:31:50<805:16:51, 119.10s/it]"
     ]
    },
    {
     "name": "stdout",
     "output_type": "stream",
     "text": [
      "Sung Rhee\n"
     ]
    },
    {
     "name": "stderr",
     "output_type": "stream",
     "text": [
      " 90%|██████████████████████▍  | 204227/227921 [118:55:51<1708:58:43, 259.66s/it]"
     ]
    },
    {
     "name": "stdout",
     "output_type": "stream",
     "text": [
      "Radu Miron\n"
     ]
    },
    {
     "name": "stderr",
     "output_type": "stream",
     "text": [
      " 90%|██████████████████████▌  | 205334/227921 [119:37:11<2804:14:57, 446.95s/it]"
     ]
    },
    {
     "name": "stdout",
     "output_type": "stream",
     "text": [
      "Nishimura Masaru\n"
     ]
    },
    {
     "name": "stderr",
     "output_type": "stream",
     "text": [
      " 90%|██████████████████████▌  | 205505/227921 [119:56:57<1962:25:02, 315.16s/it]"
     ]
    },
    {
     "name": "stdout",
     "output_type": "stream",
     "text": [
      "R YO TA RO I NO UE\n"
     ]
    },
    {
     "name": "stderr",
     "output_type": "stream",
     "text": [
      " 91%|██████████████████████▋  | 206868/227921 [120:44:46<2955:56:53, 505.46s/it]"
     ]
    },
    {
     "name": "stdout",
     "output_type": "stream",
     "text": [
      "Zhiyi Yu\n"
     ]
    },
    {
     "name": "stderr",
     "output_type": "stream",
     "text": [
      " 91%|██████████████████████▊  | 207665/227921 [121:12:56<1715:50:12, 304.95s/it]"
     ]
    },
    {
     "name": "stdout",
     "output_type": "stream",
     "text": [
      "Peter Sheridan\n"
     ]
    },
    {
     "name": "stderr",
     "output_type": "stream",
     "text": [
      " 91%|██████████████████████▊  | 207834/227921 [121:30:38<1543:30:29, 276.63s/it]"
     ]
    },
    {
     "name": "stdout",
     "output_type": "stream",
     "text": [
      "J. R. Wendt\n"
     ]
    },
    {
     "name": "stderr",
     "output_type": "stream",
     "text": [
      " 91%|███████████████████████▋  | 207980/227921 [121:42:13<960:22:33, 173.38s/it]"
     ]
    },
    {
     "name": "stdout",
     "output_type": "stream",
     "text": [
      "Zhiguang Sun\n"
     ]
    },
    {
     "name": "stderr",
     "output_type": "stream",
     "text": [
      " 92%|████████████████████████▋  | 208652/227921 [121:56:23<329:32:35, 61.57s/it]"
     ]
    },
    {
     "name": "stdout",
     "output_type": "stream",
     "text": [
      "Jayong Koo\n"
     ]
    },
    {
     "name": "stderr",
     "output_type": "stream",
     "text": [
      " 92%|██████████████████████▉  | 208691/227921 [122:18:39<2092:34:03, 391.74s/it]"
     ]
    },
    {
     "name": "stdout",
     "output_type": "stream",
     "text": [
      "S. Srinivasan\n"
     ]
    },
    {
     "name": "stderr",
     "output_type": "stream",
     "text": [
      " 92%|███████████████████████  | 209711/227921 [122:50:59<1591:54:42, 314.71s/it]"
     ]
    },
    {
     "name": "stdout",
     "output_type": "stream",
     "text": [
      "Won-Tae Kim\n"
     ]
    },
    {
     "name": "stderr",
     "output_type": "stream",
     "text": [
      " 93%|██████████████████████████▉  | 211450/227921 [123:15:46<5:13:37,  1.14s/it]"
     ]
    },
    {
     "name": "stdout",
     "output_type": "stream",
     "text": [
      "F.Rullier-Albenque(\n"
     ]
    },
    {
     "name": "stderr",
     "output_type": "stream",
     "text": [
      " 94%|███████████████████████▍ | 213821/227921 [124:06:02<1131:29:58, 288.89s/it]"
     ]
    },
    {
     "name": "stdout",
     "output_type": "stream",
     "text": [
      "D. Farrell\n"
     ]
    },
    {
     "name": "stderr",
     "output_type": "stream",
     "text": [
      " 95%|███████████████████████████▌ | 216791/227921 [124:47:26<4:02:26,  1.31s/it]"
     ]
    },
    {
     "name": "stdout",
     "output_type": "stream",
     "text": [
      "G Chen\n"
     ]
    },
    {
     "name": "stderr",
     "output_type": "stream",
     "text": [
      " 96%|████████████████████████▉ | 218079/227921 [125:22:03<788:05:46, 288.27s/it]"
     ]
    },
    {
     "name": "stdout",
     "output_type": "stream",
     "text": [
      "Mauricio Montal\n"
     ]
    },
    {
     "name": "stderr",
     "output_type": "stream",
     "text": [
      " 96%|███████████████████████▉ | 218115/227921 [125:55:24<1609:43:37, 590.97s/it]"
     ]
    },
    {
     "name": "stdout",
     "output_type": "stream",
     "text": [
      "Gelu Nita\n"
     ]
    },
    {
     "name": "stderr",
     "output_type": "stream",
     "text": [
      " 96%|████████████████████████▉ | 218206/227921 [126:13:52<818:55:11, 303.46s/it]"
     ]
    },
    {
     "name": "stdout",
     "output_type": "stream",
     "text": [
      "J. Hedrick\n"
     ]
    },
    {
     "name": "stderr",
     "output_type": "stream",
     "text": [
      " 96%|███████████████████████▉ | 218211/227921 [126:45:13<1658:10:40, 614.77s/it]"
     ]
    },
    {
     "name": "stdout",
     "output_type": "stream",
     "text": [
      "C.Bernhard\n"
     ]
    },
    {
     "name": "stderr",
     "output_type": "stream",
     "text": [
      " 96%|████████████████████████▉ | 218342/227921 [127:05:51<889:09:57, 334.17s/it]"
     ]
    },
    {
     "name": "stdout",
     "output_type": "stream",
     "text": [
      "P. Sandvik\n"
     ]
    },
    {
     "name": "stderr",
     "output_type": "stream",
     "text": [
      " 96%|████████████████████████▉ | 218545/227921 [127:42:58<774:25:08, 297.35s/it]"
     ]
    },
    {
     "name": "stdout",
     "output_type": "stream",
     "text": [
      "Stanislaw Oldziej\n"
     ]
    },
    {
     "name": "stderr",
     "output_type": "stream",
     "text": [
      " 96%|████████████████████████▉ | 218671/227921 [128:00:48<741:01:29, 288.40s/it]"
     ]
    },
    {
     "name": "stdout",
     "output_type": "stream",
     "text": [
      "Tetsuo HA NA GU RI\n"
     ]
    },
    {
     "name": "stderr",
     "output_type": "stream",
     "text": [
      " 96%|████████████████████████▉ | 218783/227921 [128:19:25<771:23:48, 303.90s/it]"
     ]
    },
    {
     "name": "stdout",
     "output_type": "stream",
     "text": [
      "W. Byrne\n"
     ]
    },
    {
     "name": "stderr",
     "output_type": "stream",
     "text": [
      " 96%|████████████████████████▉ | 218967/227921 [128:38:42<720:24:23, 289.64s/it]"
     ]
    },
    {
     "name": "stdout",
     "output_type": "stream",
     "text": [
      "Julia A.Korfield\n"
     ]
    },
    {
     "name": "stderr",
     "output_type": "stream",
     "text": [
      " 96%|████████████████████████▉ | 219066/227921 [128:56:19<715:17:42, 290.80s/it]"
     ]
    },
    {
     "name": "stdout",
     "output_type": "stream",
     "text": [
      "V.N.Baumer\n"
     ]
    },
    {
     "name": "stderr",
     "output_type": "stream",
     "text": [
      " 96%|█████████████████████████ | 219158/227921 [129:15:34<783:50:40, 322.02s/it]"
     ]
    },
    {
     "name": "stdout",
     "output_type": "stream",
     "text": [
      "Hector D. Abruna\n"
     ]
    },
    {
     "name": "stderr",
     "output_type": "stream",
     "text": [
      " 96%|█████████████████████████ | 219271/227921 [129:33:24<702:23:59, 292.33s/it]"
     ]
    },
    {
     "name": "stdout",
     "output_type": "stream",
     "text": [
      "Ea-Mor Woo\n"
     ]
    },
    {
     "name": "stderr",
     "output_type": "stream",
     "text": [
      " 96%|█████████████████████████ | 219350/227921 [129:44:47<442:02:54, 185.67s/it]"
     ]
    },
    {
     "name": "stdout",
     "output_type": "stream",
     "text": [
      "J.-L. Martinez-Albertos\n"
     ]
    },
    {
     "name": "stderr",
     "output_type": "stream",
     "text": [
      " 97%|█████████████████████████▏| 221086/227921 [130:34:25<562:09:49, 296.09s/it]"
     ]
    },
    {
     "name": "stdout",
     "output_type": "stream",
     "text": [
      "M. Siegert\n"
     ]
    },
    {
     "name": "stderr",
     "output_type": "stream",
     "text": [
      " 97%|█████████████████████████▏| 221182/227921 [130:50:26<497:15:03, 265.63s/it]"
     ]
    },
    {
     "name": "stdout",
     "output_type": "stream",
     "text": [
      "B.L.Smith\n"
     ]
    },
    {
     "name": "stderr",
     "output_type": "stream",
     "text": [
      " 97%|██████████████████████████▏| 221351/227921 [130:56:08<101:28:42, 55.60s/it]"
     ]
    },
    {
     "name": "stdout",
     "output_type": "stream",
     "text": [
      "J. M. Olson\n"
     ]
    },
    {
     "name": "stderr",
     "output_type": "stream",
     "text": [
      " 97%|█████████████████████████▎| 221714/227921 [131:20:04<522:30:41, 303.05s/it]"
     ]
    },
    {
     "name": "stdout",
     "output_type": "stream",
     "text": [
      "A.M.De Leon\n"
     ]
    },
    {
     "name": "stderr",
     "output_type": "stream",
     "text": [
      " 97%|█████████████████████████▎| 221966/227921 [131:39:30<467:10:36, 282.42s/it]"
     ]
    },
    {
     "name": "stdout",
     "output_type": "stream",
     "text": [
      "Department of Physics; University of Illinois at Urbana-Champaign; Urbana\n"
     ]
    },
    {
     "name": "stderr",
     "output_type": "stream",
     "text": [
      " 99%|█████████████████████████▋| 225140/227921 [132:37:49<169:14:01, 219.07s/it]"
     ]
    },
    {
     "name": "stdout",
     "output_type": "stream",
     "text": [
      "Y. nakajima\n"
     ]
    },
    {
     "name": "stderr",
     "output_type": "stream",
     "text": [
      "100%|██████████████████████████▉| 227434/227921 [133:25:04<34:53:42, 257.95s/it]"
     ]
    },
    {
     "name": "stdout",
     "output_type": "stream",
     "text": [
      "Lisa Karlsson\n"
     ]
    },
    {
     "name": "stderr",
     "output_type": "stream",
     "text": [
      "100%|███████████████████████████████| 227921/227921 [133:31:59<00:00,  2.11s/it]\n"
     ]
    }
   ],
   "source": []
  }
 ],
 "metadata": {
  "kernelspec": {
   "display_name": "Python 3 (ipykernel)",
   "language": "python",
   "name": "python3"
  },
  "language_info": {
   "codemirror_mode": {
    "name": "ipython",
    "version": 3
   },
   "file_extension": ".py",
   "mimetype": "text/x-python",
   "name": "python",
   "nbconvert_exporter": "python",
   "pygments_lexer": "ipython3",
   "version": "3.9.13"
  }
 },
 "nbformat": 4,
 "nbformat_minor": 5
}
