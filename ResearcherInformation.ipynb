{
 "cells": [
  {
   "cell_type": "code",
   "execution_count": 1,
   "id": "063bf51b",
   "metadata": {},
   "outputs": [],
   "source": [
    "import os\n",
    "import pandas as pd\n",
    "import json\n",
    "import datetime\n",
    "from tqdm import tqdm"
   ]
  },
  {
   "cell_type": "code",
   "execution_count": 2,
   "id": "d03ab126",
   "metadata": {},
   "outputs": [],
   "source": [
    "#path = \"Files/Authors\"\n",
    "path = 'Files/Authors_lates'\n",
    "filePath = path + \"/\"\n",
    "authorFiles = os.listdir(path)\n",
    "\n",
    "#df_presenters = pd.read_pickle(\"Files/Dataframes/researchers_unique.pkl\")  \n",
    "df_researchers = pd.read_pickle(\"Files/Dataframes/researchers_all.pkl\")\n",
    "#authorID = pd.read_pickle(\"Files/Dictionary/authorID.pkl\")  "
   ]
  },
  {
   "cell_type": "code",
   "execution_count": 3,
   "id": "42d42bf6",
   "metadata": {},
   "outputs": [],
   "source": [
    "def readFile(file, path): #function to read file\n",
    "    with open(path + file) as f:\n",
    "        data = json.load(f)\n",
    "    return data"
   ]
  },
  {
   "cell_type": "code",
   "execution_count": 4,
   "id": "752781c9",
   "metadata": {},
   "outputs": [],
   "source": [
    "def getName(data): #get namme from json\n",
    "    name = data['File']['data'][0]['name']#only save first name\n",
    "        \n",
    "    return name"
   ]
  },
  {
   "cell_type": "code",
   "execution_count": 5,
   "id": "f3c3197e",
   "metadata": {},
   "outputs": [],
   "source": [
    "def getFields(data): #get field\n",
    "    dataCount = len(data['data']) #number of results(with authors) #number of results(with authors)\n",
    "    field = None\n",
    "    for i in range(0, dataCount):\n",
    "        paper_data = data['data'][i]['papers']\n",
    "        n_papers = len(paper_data)\n",
    "        if field == 'Physics':\n",
    "            break\n",
    "        for p in range(0, n_papers):\n",
    "            if paper_data[p]['fieldsOfStudy']:\n",
    "                if 'Physics' in paper_data[p]['fieldsOfStudy']:\n",
    "                    field = 'Physics'\n",
    "                    break\n",
    "                else:\n",
    "                    field = 'other'\n",
    "            else:\n",
    "                field = 'unknown'\n",
    "    return field"
   ]
  },
  {
   "cell_type": "code",
   "execution_count": 6,
   "id": "238cde4a",
   "metadata": {},
   "outputs": [],
   "source": [
    "def getPublicationData(data): #get dict with number of publications for each year\n",
    "    publishCount = {}\n",
    "    dataCount = len(data['data']) #number of results(with authors)\n",
    "    \n",
    "    for i in range(0, dataCount):\n",
    "        paper_data = data['data'][i]['papers']\n",
    "        n_papers = len(paper_data)\n",
    "        for p in range(0, n_papers):\n",
    "            year = paper_data[p]['year']\n",
    "            if year in publishCount:\n",
    "                publishCount[year]+= 1 #add 1 to count\n",
    "            else:\n",
    "                publishCount[year] = 1 #create year, as set count as 1\n",
    "                \n",
    "    return publishCount"
   ]
  },
  {
   "cell_type": "code",
   "execution_count": 7,
   "id": "328f34bb",
   "metadata": {},
   "outputs": [],
   "source": [
    "def getCumulativePaperCount(confYear, ID, publicationDict):\n",
    "    publishCount = 0\n",
    "    publications = publicationDict[ID]\n",
    "    for key in publications:\n",
    "        if key != None:\n",
    "            if key < confYear :\n",
    "                publishCount += publications[key]\n",
    "            \n",
    "    return publishCount"
   ]
  },
  {
   "cell_type": "code",
   "execution_count": 11,
   "id": "f6207d32",
   "metadata": {},
   "outputs": [],
   "source": [
    "path = 'Files/Authors_lates/'\n",
    "files = os.listdir(path)\n",
    "\n",
    "def readFile(file, path): #function to read file\n",
    "    with open(path + file) as f:\n",
    "        data = json.load(f)\n",
    "    return data"
   ]
  },
  {
   "cell_type": "code",
   "execution_count": 13,
   "id": "a23587ab",
   "metadata": {},
   "outputs": [
    {
     "name": "stderr",
     "output_type": "stream",
     "text": [
      "100%|█████████████████████████████████████████| 228/228 [10:20<00:00,  2.72s/it]\n"
     ]
    }
   ],
   "source": [
    "#test\n",
    "keycount = 0\n",
    "for file in tqdm(files):\n",
    "    if file != '.DS_Store':\n",
    "        data = readFile(file, path)\n",
    "        for key in data.keys():\n",
    "            researcher_data = data[key]\n",
    "            if 'message' in data[key]['File']:\n",
    "                error = 1\n",
    "            else:\n",
    "                if researcher_data['Name']: #if any name\n",
    "                    if researcher_data['File']['data']: #if any info about researcher\n",
    "                        keycount += 1"
   ]
  },
  {
   "cell_type": "code",
   "execution_count": null,
   "id": "40414fe3",
   "metadata": {},
   "outputs": [],
   "source": []
  },
  {
   "cell_type": "code",
   "execution_count": 8,
   "id": "288185e8",
   "metadata": {},
   "outputs": [],
   "source": [
    "def getAuthorInfo(files, path): #get info about authors\n",
    "    error = []\n",
    "    researcher_dict = {}\n",
    "    publicationData = {}\n",
    "    for file in tqdm(files):\n",
    "        if file != '.DS_Store':\n",
    "            data = readFile(file, path)\n",
    "            for key in data.keys():\n",
    "                researcher_data = data[key]\n",
    "                if 'message' in data[key]['File']:\n",
    "                    error.append(researcher_data['Name'])\n",
    "                else:\n",
    "                    if researcher_data['Name']: #if any name\n",
    "                        if researcher_data['File']['data']: #if any info about researcher\n",
    "                            originalName = researcher_data['Name']\n",
    "                            name = getName(researcher_data)\n",
    "                            dataCount = data[key]['File']['total'] #authorResults\n",
    "                        #papers = data[key]['File']['data'][0]['papers']\n",
    "                        #if papers: #only if info about any papers\n",
    "                            publicationData[key] = getPublicationData(data[key]['File'])\n",
    "                            if not len(publicationData[key]) == 1 and publicationData[key].get(None):\n",
    "#                        if not len(publicationData[key]) == 1 and publicationData[key].get(None) == 1:\n",
    "                                maxPaperCount = sum(publicationData[key].values())\n",
    "                                field = getFields(data[key]['File']) #get field(physics, other or unknown \n",
    "                                firstYear = min(list(filter(None,publicationData[key].keys())))\n",
    "                        \n",
    "                                researcher_dict[key] = {'OriginalName': originalName, 'API_Name': name, 'AuthorCount': dataCount, 'MaxPaperCount': maxPaperCount, 'Field': field, 'FirstPaperYear': firstYear}\n",
    "    return error, publicationData, researcher_dict"
   ]
  },
  {
   "cell_type": "code",
   "execution_count": 9,
   "id": "8d66d9c4",
   "metadata": {},
   "outputs": [],
   "source": [
    "def getFirstName(df):\n",
    "    firstName_dict = {}\n",
    "    for i in df.index:\n",
    "        ID = df.iloc[i]['ID']\n",
    "        name1 = df.OriginalName.iloc[i].split()\n",
    "        name2 = df.API_Name.iloc[i].split()\n",
    "        if name1: #if there is any originalName\n",
    "            firstName = max(name1[0], name2[0], key = len) #take longest first name of the 2\n",
    "            firstName_dict[ID] = firstName\n",
    "        \n",
    "    return firstName_dict\n",
    "\n"
   ]
  },
  {
   "cell_type": "markdown",
   "id": "4f08c163",
   "metadata": {},
   "source": [
    "#### Add additional information"
   ]
  },
  {
   "cell_type": "code",
   "execution_count": 11,
   "id": "26049d51",
   "metadata": {},
   "outputs": [],
   "source": [
    "#authorFiles"
   ]
  },
  {
   "cell_type": "code",
   "execution_count": 1,
   "id": "72090424",
   "metadata": {},
   "outputs": [
    {
     "ename": "NameError",
     "evalue": "name 'readFile' is not defined",
     "output_type": "error",
     "traceback": [
      "\u001b[0;31m---------------------------------------------------------------------------\u001b[0m",
      "\u001b[0;31mNameError\u001b[0m                                 Traceback (most recent call last)",
      "Cell \u001b[0;32mIn[1], line 3\u001b[0m\n\u001b[1;32m      1\u001b[0m \u001b[38;5;66;03m#test\u001b[39;00m\n\u001b[1;32m      2\u001b[0m \u001b[38;5;66;03m#error in 198482\u001b[39;00m\n\u001b[0;32m----> 3\u001b[0m data \u001b[38;5;241m=\u001b[39m \u001b[43mreadFile\u001b[49m(\u001b[38;5;124m'\u001b[39m\u001b[38;5;124m199000.txt\u001b[39m\u001b[38;5;124m'\u001b[39m, filePath)\n\u001b[1;32m      4\u001b[0m data\u001b[38;5;241m.\u001b[39mkeys()\n",
      "\u001b[0;31mNameError\u001b[0m: name 'readFile' is not defined"
     ]
    }
   ],
   "source": [
    "#test\n",
    "#error in 198482\n",
    "data = readFile('199000.txt', filePath)\n",
    "#researcher_data = data['198482']\n"
   ]
  },
  {
   "cell_type": "code",
   "execution_count": 13,
   "id": "23d4cd29",
   "metadata": {},
   "outputs": [],
   "source": [
    "#researcher_data\n",
    "#['File']['data']"
   ]
  },
  {
   "cell_type": "code",
   "execution_count": 14,
   "id": "e78ba04a",
   "metadata": {},
   "outputs": [
    {
     "ename": "NameError",
     "evalue": "name 'getAuthorInfo' is not defined",
     "output_type": "error",
     "traceback": [
      "\u001b[0;31m---------------------------------------------------------------------------\u001b[0m",
      "\u001b[0;31mNameError\u001b[0m                                 Traceback (most recent call last)",
      "Cell \u001b[0;32mIn[14], line 1\u001b[0m\n\u001b[0;32m----> 1\u001b[0m errorNames, publicationData, researcherInfo \u001b[38;5;241m=\u001b[39m \u001b[43mgetAuthorInfo\u001b[49m(authorFiles, filePath)\n",
      "\u001b[0;31mNameError\u001b[0m: name 'getAuthorInfo' is not defined"
     ]
    }
   ],
   "source": [
    "errorNames, publicationData, researcherInfo = getAuthorInfo(authorFiles, filePath) #dict with researcher info"
   ]
  },
  {
   "cell_type": "code",
   "execution_count": 11,
   "id": "507c4385",
   "metadata": {},
   "outputs": [],
   "source": [
    "#create df from researcherInfo\n",
    "researcher_df = pd.DataFrame.from_dict(researcherInfo, orient = 'index').reset_index().rename(columns = {'index': 'ID'})"
   ]
  },
  {
   "cell_type": "code",
   "execution_count": 12,
   "id": "0d194ce1",
   "metadata": {},
   "outputs": [],
   "source": [
    "researchers = pd.merge(researcher_df, df_researchers,  left_on=['OriginalName'], right_on=['Name']) #add information"
   ]
  },
  {
   "cell_type": "code",
   "execution_count": 13,
   "id": "0cd21750",
   "metadata": {},
   "outputs": [],
   "source": [
    "firstNameDict = getFirstName(researcher_df)"
   ]
  },
  {
   "cell_type": "code",
   "execution_count": 14,
   "id": "1a5dcbf3",
   "metadata": {},
   "outputs": [],
   "source": [
    "#make firstNameDict to df\n",
    "firstName_df = pd.DataFrame.from_dict(firstNameDict, orient = 'index').reset_index().rename(columns = {'index': 'ID', 0: 'FirstName'})"
   ]
  },
  {
   "cell_type": "code",
   "execution_count": 15,
   "id": "94a5e1f5",
   "metadata": {},
   "outputs": [],
   "source": [
    "#add first name\n",
    "apiResearchers = pd.merge(researchers, firstName_df,  left_on=['ID'], right_on=['ID'])"
   ]
  },
  {
   "cell_type": "code",
   "execution_count": 16,
   "id": "e276a375",
   "metadata": {},
   "outputs": [],
   "source": [
    "#add seniority\n",
    "apiResearchers['Seniority'] = apiResearchers.Year - apiResearchers.FirstPaperYear "
   ]
  },
  {
   "cell_type": "code",
   "execution_count": 17,
   "id": "cf70fb0c",
   "metadata": {},
   "outputs": [],
   "source": [
    "#apply function to calculate cumulative paper count for current conference year\n",
    "apiResearchers['CumulativePaperCount'] = apiResearchers.apply(lambda x: getCumulativePaperCount(x.Year, x.ID, publicationData), axis = 1)"
   ]
  },
  {
   "cell_type": "code",
   "execution_count": 18,
   "id": "b85363b3",
   "metadata": {},
   "outputs": [],
   "source": [
    "#add productivity (cumulative papercount / years in the field)\n",
    "apiResearchers['Productivity'] = apiResearchers.CumulativePaperCount/apiResearchers.Seniority"
   ]
  },
  {
   "cell_type": "code",
   "execution_count": 19,
   "id": "8aa9b01c",
   "metadata": {},
   "outputs": [],
   "source": [
    "#select only researchers where first name does not contain \".\"\n",
    "researchers_realNames = apiResearchers[~apiResearchers.FirstName.str.contains('\\.')]"
   ]
  },
  {
   "cell_type": "code",
   "execution_count": 20,
   "id": "22508ed8",
   "metadata": {},
   "outputs": [],
   "source": [
    "researchers_realNames.to_pickle(\"Files/DataFrames/apiResearchers.pkl\") \n",
    "#now add gender"
   ]
  }
 ],
 "metadata": {
  "kernelspec": {
   "display_name": "Python 3 (ipykernel)",
   "language": "python",
   "name": "python3"
  },
  "language_info": {
   "codemirror_mode": {
    "name": "ipython",
    "version": 3
   },
   "file_extension": ".py",
   "mimetype": "text/x-python",
   "name": "python",
   "nbconvert_exporter": "python",
   "pygments_lexer": "ipython3",
   "version": "3.9.13"
  }
 },
 "nbformat": 4,
 "nbformat_minor": 5
}
