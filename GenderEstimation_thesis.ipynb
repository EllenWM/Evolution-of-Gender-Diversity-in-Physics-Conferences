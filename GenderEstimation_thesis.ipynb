{
 "cells": [
  {
   "cell_type": "code",
   "execution_count": 1,
   "id": "87c25a09",
   "metadata": {},
   "outputs": [],
   "source": [
    "import pandas as pd \n",
    "import numpy as np #maybe delete\n",
    "import re\n",
    "from tqdm import tqdm\n",
    "import warnings\n",
    "warnings.simplefilter(action='ignore', category=FutureWarning)"
   ]
  },
  {
   "cell_type": "code",
   "execution_count": 2,
   "id": "cb0e56b0",
   "metadata": {},
   "outputs": [],
   "source": [
    "def getFirstName(df, nameColumn): #nameColumn as list\n",
    "    firstName = []\n",
    "    for n in df[nameColumn]:\n",
    "        nameSplit = re.split(' ', n)\n",
    "        firstName.append(nameSplit[0])\n",
    "    return firstName"
   ]
  },
  {
   "cell_type": "code",
   "execution_count": 3,
   "id": "5effd37a",
   "metadata": {},
   "outputs": [],
   "source": [
    "def assignGender(df):\n",
    "    index = 0\n",
    "    nameDict = {}\n",
    "    genderEstimation = pd.read_csv(\"Files/wgnd_2_0_name-gender-code.csv\") #genderEstimation file\n",
    "    genderEstimation['Name'] = genderEstimation.name.str.replace(r'\"|\\'', '', regex=True).str.lower() #remove \" and ' and make to lower case\n",
    "    \n",
    "    firstName = getFirstName(df, 'Name') #find first names\n",
    "    df['FirstName'] = firstName #add first name to df\n",
    "    df['first_name'] = df.FirstName.str.lower() #first name, but lower case\n",
    "  \n",
    "    usNames = genderEstimation[genderEstimation.code == 'US'] #some names can't not be found, but can with another code\n",
    "    otherNames = genderEstimation[~genderEstimation.Name.isin(usNames.Name)] #names not in US\n",
    "\n",
    "    uniqueNamesUS = df[df.first_name.isin(usNames.Name)].first_name.unique() #df with names from presenters, that is also in genderEstimation\n",
    "    uniqueNamesOther = df[df.first_name.isin(otherNames.Name)].first_name.unique()\n",
    "    \n",
    "    for n in tqdm(uniqueNamesUS): #loop through us names that is also in the presenter df\n",
    "        nameTable = usNames[usNames.Name == n] #table with the name \n",
    "        genderIndex = nameTable.wgt.argmax() #index of gender with highest score/probability\n",
    "        gender = nameTable.iloc[genderIndex].gender #gender that is most likely\n",
    "        nameDict[index] = {'first_name': n, 'Gender': gender} #assign gender to the name in a dict\n",
    "        index += 1\n",
    "    \n",
    "    for m in tqdm(uniqueNamesOther): #loop through other names that is also in the presenter df\n",
    "        nameTable = otherNames[otherNames.Name == m].groupby('gender').mean() #table with the name - mean of wgt\n",
    "        genderIndex = nameTable.wgt.argmax() #index of gender with higest average probability\n",
    "        gender = nameTable.iloc[genderIndex].name\n",
    "        nameDict[index] = {'first_name': m, 'Gender': gender} #assign gender to the name in a dict\n",
    "        index += 1\n",
    "    \n",
    "    return nameDict"
   ]
  },
  {
   "cell_type": "code",
   "execution_count": 4,
   "id": "5e45cc25",
   "metadata": {},
   "outputs": [
    {
     "data": {
      "text/html": [
       "<div>\n",
       "<style scoped>\n",
       "    .dataframe tbody tr th:only-of-type {\n",
       "        vertical-align: middle;\n",
       "    }\n",
       "\n",
       "    .dataframe tbody tr th {\n",
       "        vertical-align: top;\n",
       "    }\n",
       "\n",
       "    .dataframe thead th {\n",
       "        text-align: right;\n",
       "    }\n",
       "</style>\n",
       "<table border=\"1\" class=\"dataframe\">\n",
       "  <thead>\n",
       "    <tr style=\"text-align: right;\">\n",
       "      <th></th>\n",
       "      <th>ID</th>\n",
       "      <th>SearchName</th>\n",
       "    </tr>\n",
       "  </thead>\n",
       "  <tbody>\n",
       "    <tr>\n",
       "      <th>0</th>\n",
       "      <td>100003</td>\n",
       "      <td>cea/inac/sp2m</td>\n",
       "    </tr>\n",
       "    <tr>\n",
       "      <th>1</th>\n",
       "      <td>100007</td>\n",
       "      <td>swathy natarajan</td>\n",
       "    </tr>\n",
       "    <tr>\n",
       "      <th>2</th>\n",
       "      <td>100009</td>\n",
       "      <td>thomas j blommel</td>\n",
       "    </tr>\n",
       "    <tr>\n",
       "      <th>3</th>\n",
       "      <td>100018</td>\n",
       "      <td>purdue univeristy, yong p. chen group</td>\n",
       "    </tr>\n",
       "    <tr>\n",
       "      <th>4</th>\n",
       "      <td>100042</td>\n",
       "      <td>carolin roskothen</td>\n",
       "    </tr>\n",
       "    <tr>\n",
       "      <th>...</th>\n",
       "      <td>...</td>\n",
       "      <td>...</td>\n",
       "    </tr>\n",
       "    <tr>\n",
       "      <th>31858</th>\n",
       "      <td>99972</td>\n",
       "      <td>juan p. garrahan</td>\n",
       "    </tr>\n",
       "    <tr>\n",
       "      <th>31859</th>\n",
       "      <td>99973</td>\n",
       "      <td>goran krilov</td>\n",
       "    </tr>\n",
       "    <tr>\n",
       "      <th>31860</th>\n",
       "      <td>9998</td>\n",
       "      <td>xianxu zheng</td>\n",
       "    </tr>\n",
       "    <tr>\n",
       "      <th>31861</th>\n",
       "      <td>99993</td>\n",
       "      <td>stephanie anderson</td>\n",
       "    </tr>\n",
       "    <tr>\n",
       "      <th>31862</th>\n",
       "      <td>99994</td>\n",
       "      <td>colin li pi shan</td>\n",
       "    </tr>\n",
       "  </tbody>\n",
       "</table>\n",
       "<p>44189 rows × 2 columns</p>\n",
       "</div>"
      ],
      "text/plain": [
       "           ID                             SearchName\n",
       "0      100003                          cea/inac/sp2m\n",
       "1      100007                       swathy natarajan\n",
       "2      100009                       thomas j blommel\n",
       "3      100018  purdue univeristy, yong p. chen group\n",
       "4      100042                      carolin roskothen\n",
       "...       ...                                    ...\n",
       "31858   99972                       juan p. garrahan\n",
       "31859   99973                           goran krilov\n",
       "31860    9998                           xianxu zheng\n",
       "31861   99993                     stephanie anderson\n",
       "31862   99994                       colin li pi shan\n",
       "\n",
       "[44189 rows x 2 columns]"
      ]
     },
     "execution_count": 4,
     "metadata": {},
     "output_type": "execute_result"
    }
   ],
   "source": [
    "pd.read_pickle(\"Files/DataFrames/researcherNotFound.pkl\")"
   ]
  },
  {
   "cell_type": "markdown",
   "id": "f94ea615",
   "metadata": {},
   "source": [
    "#### Add gender"
   ]
  },
  {
   "cell_type": "code",
   "execution_count": 5,
   "id": "9082b149",
   "metadata": {},
   "outputs": [],
   "source": [
    "#load data\n",
    "researchers = pd.read_pickle(\"Files/DataFrames/apiResearchers.pkl\")"
   ]
  },
  {
   "cell_type": "code",
   "execution_count": 6,
   "id": "673b6e57",
   "metadata": {},
   "outputs": [
    {
     "name": "stderr",
     "output_type": "stream",
     "text": [
      "100%|████████████████████████████████████| 10424/10424 [00:57<00:00, 182.23it/s]\n",
      "100%|███████████████████████████████████████| 8091/8091 [20:29<00:00,  6.58it/s]\n"
     ]
    }
   ],
   "source": [
    "#assign gender\n",
    "genderDict = assignGender(researchers)"
   ]
  },
  {
   "cell_type": "code",
   "execution_count": 7,
   "id": "df937422",
   "metadata": {},
   "outputs": [],
   "source": [
    "#dataframe witht the gender and name\n",
    "genderAssign = pd.DataFrame.from_dict(genderDict, orient = 'index')"
   ]
  },
  {
   "cell_type": "markdown",
   "id": "980207b5",
   "metadata": {},
   "source": [
    "Now we are merging genderAssign and researchers. This will automatically add the gender to names in the presenters df."
   ]
  },
  {
   "cell_type": "code",
   "execution_count": 8,
   "id": "eec8abff",
   "metadata": {},
   "outputs": [],
   "source": [
    "researchers['first_name'] = researchers.FirstName.str.lower()"
   ]
  },
  {
   "cell_type": "code",
   "execution_count": 9,
   "id": "125692f8",
   "metadata": {},
   "outputs": [],
   "source": [
    "#merge researchers df with gender df\n",
    "researchers = researchers.merge(genderAssign, how='left', on='first_name').drop(columns=['first_name'])"
   ]
  },
  {
   "cell_type": "code",
   "execution_count": 10,
   "id": "c08522a4",
   "metadata": {},
   "outputs": [],
   "source": [
    "#only keep researchers assigned to either F or M (and not NaN or ?)\n",
    "researchers_wGender = researchers[(researchers.Gender == 'F') | (researchers.Gender == 'M')]"
   ]
  },
  {
   "cell_type": "code",
   "execution_count": 11,
   "id": "07cf4a1f",
   "metadata": {},
   "outputs": [],
   "source": [
    "researchers_wGender.to_pickle(\"Files/Dataframes/researchers_wGender.pkl\") "
   ]
  }
 ],
 "metadata": {
  "kernelspec": {
   "display_name": "Python 3 (ipykernel)",
   "language": "python",
   "name": "python3"
  },
  "language_info": {
   "codemirror_mode": {
    "name": "ipython",
    "version": 3
   },
   "file_extension": ".py",
   "mimetype": "text/x-python",
   "name": "python",
   "nbconvert_exporter": "python",
   "pygments_lexer": "ipython3",
   "version": "3.9.13"
  }
 },
 "nbformat": 4,
 "nbformat_minor": 5
}
