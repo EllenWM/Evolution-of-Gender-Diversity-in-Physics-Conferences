{
 "cells": [
  {
   "cell_type": "code",
   "execution_count": 1,
   "id": "87c25a09",
   "metadata": {},
   "outputs": [],
   "source": [
    "import pandas as pd \n",
    "import numpy as np #maybe delete\n",
    "import re\n",
    "from tqdm import tqdm\n",
    "import warnings\n",
    "warnings.simplefilter(action='ignore', category=FutureWarning)"
   ]
  },
  {
   "cell_type": "code",
   "execution_count": 2,
   "id": "cb0e56b0",
   "metadata": {},
   "outputs": [],
   "source": [
    "def getFirstName(df, nameColumn): #nameColumn as list\n",
    "    firstName = []\n",
    "    for n in df[nameColumn]:\n",
    "        nameSplit = re.split(' ', n)\n",
    "        firstName.append(nameSplit[0])\n",
    "    return firstName"
   ]
  },
  {
   "cell_type": "code",
   "execution_count": 3,
   "id": "5effd37a",
   "metadata": {},
   "outputs": [],
   "source": [
    "def assignGender(df, NameCol):\n",
    "    index = 0\n",
    "    nameDict = {}\n",
    "    genderEstimation = pd.read_csv(\"Files/wgnd_2_0_name-gender-code.csv\") #genderEstimation file\n",
    "    genderEstimation['Name'] = genderEstimation.name.str.replace(r'\"|\\'', '', regex=True).str.lower() #remove \" and ' and make to lower case\n",
    "    \n",
    "    #firstName = getFirstName(df, 'Name') #find first names\n",
    "    #df['FirstName'] = firstName #add first name to df\n",
    "    #df[NameCol] = df.FirstName.str.lower() #first name, but lower case\n",
    "  \n",
    "    usNames = genderEstimation[genderEstimation.code == 'US'] #some names can't not be found, but can with another code\n",
    "    otherNames = genderEstimation[~genderEstimation.Name.isin(usNames.Name)] #names not in US\n",
    "\n",
    "    uniqueNamesUS = df[df[NameCol].isin(usNames.Name)][NameCol].unique() #df with names from presenters, that is also in genderEstimation\n",
    "    uniqueNamesOther = df[df[NameCol].isin(otherNames.Name)][NameCol].unique()\n",
    "    \n",
    "    for n in tqdm(uniqueNamesUS): #loop through us names that is also in the presenter df\n",
    "        nameTable = usNames[usNames.Name == n] #table with the name \n",
    "        genderIndex = nameTable.wgt.argmax() #index of gender with highest score/probability\n",
    "        gender = nameTable.iloc[genderIndex].gender #gender that is most likely\n",
    "        nameDict[index] = {'firstName': n, 'Gender': gender} #assign gender to the name in a dict\n",
    "        index += 1\n",
    "    \n",
    "    for m in tqdm(uniqueNamesOther): #loop through other names that is also in the presenter df\n",
    "        nameTable = otherNames[otherNames.Name == m].groupby('gender').mean() #table with the name - mean of wgt\n",
    "        genderIndex = nameTable.wgt.argmax() #index of gender with higest average probability\n",
    "        gender = nameTable.iloc[genderIndex].name\n",
    "        nameDict[index] = {'firstName': m, 'Gender': gender} #assign gender to the name in a dict\n",
    "        index += 1\n",
    "    \n",
    "    return nameDict"
   ]
  },
  {
   "cell_type": "code",
   "execution_count": 4,
   "id": "673b7a28",
   "metadata": {},
   "outputs": [],
   "source": [
    "#change assignGender function to more input. \n",
    "#Make sure we are doing things correctly here"
   ]
  },
  {
   "cell_type": "code",
   "execution_count": 5,
   "id": "5e45cc25",
   "metadata": {},
   "outputs": [],
   "source": [
    "#pd.read_pickle(\"Files/DataFrames/researcherNotFound.pkl\")"
   ]
  },
  {
   "cell_type": "markdown",
   "id": "f94ea615",
   "metadata": {},
   "source": [
    "#### Add gender"
   ]
  },
  {
   "cell_type": "code",
   "execution_count": 6,
   "id": "57bd3367",
   "metadata": {},
   "outputs": [],
   "source": [
    "#firstName from apiResearchers is not necessarily lowercase"
   ]
  },
  {
   "cell_type": "code",
   "execution_count": 7,
   "id": "9082b149",
   "metadata": {},
   "outputs": [],
   "source": [
    "#load data\n",
    "researchers = pd.read_pickle(\"Files/DataFrames/apiResearchers_fewNameCol.pkl\")"
   ]
  },
  {
   "cell_type": "code",
   "execution_count": 9,
   "id": "673b6e57",
   "metadata": {},
   "outputs": [
    {
     "name": "stderr",
     "output_type": "stream",
     "text": [
      "100%|████████████████████████████████████| 10236/10236 [00:46<00:00, 221.10it/s]\n",
      "100%|███████████████████████████████████████| 8222/8222 [20:43<00:00,  6.61it/s]\n"
     ]
    }
   ],
   "source": [
    "#assign gender\n",
    "genderDict = assignGender(researchers, 'FirstName')"
   ]
  },
  {
   "cell_type": "code",
   "execution_count": 11,
   "id": "df937422",
   "metadata": {},
   "outputs": [],
   "source": [
    "#dataframe witht the gender and name\n",
    "genderAssign = pd.DataFrame.from_dict(genderDict, orient = 'index')"
   ]
  },
  {
   "cell_type": "code",
   "execution_count": null,
   "id": "00cdaffb",
   "metadata": {},
   "outputs": [],
   "source": [
    "#first name as lowercase\n",
    "#researchers['FirstName_lowercase'] = researchers.FirstName.str.lower() #first name, but lower case"
   ]
  },
  {
   "cell_type": "markdown",
   "id": "980207b5",
   "metadata": {},
   "source": [
    "Now we are merging genderAssign and researchers. This will automatically add the gender to names in the presenters df."
   ]
  },
  {
   "cell_type": "code",
   "execution_count": 19,
   "id": "125692f8",
   "metadata": {},
   "outputs": [],
   "source": [
    "#merge researchers df with gender df\n",
    "researchers = researchers.merge(genderAssign, how = 'left', left_on = 'FirstName', right_on = 'firstName')\n",
    "#.drop(columns=['FirstName_lowercase', 'firstName'])"
   ]
  },
  {
   "cell_type": "code",
   "execution_count": 20,
   "id": "c08522a4",
   "metadata": {},
   "outputs": [],
   "source": [
    "#only keep researchers assigned to either F or M (and not NaN or ?)\n",
    "researchers_wGender = researchers[(researchers.Gender == 'F') | (researchers.Gender == 'M')]"
   ]
  },
  {
   "cell_type": "code",
   "execution_count": 22,
   "id": "07cf4a1f",
   "metadata": {},
   "outputs": [],
   "source": [
    "researchers_wGender.to_pickle(\"Files/Dataframes/researchers_wGender.pkl\") "
   ]
  }
 ],
 "metadata": {
  "kernelspec": {
   "display_name": "Python 3 (ipykernel)",
   "language": "python",
   "name": "python3"
  },
  "language_info": {
   "codemirror_mode": {
    "name": "ipython",
    "version": 3
   },
   "file_extension": ".py",
   "mimetype": "text/x-python",
   "name": "python",
   "nbconvert_exporter": "python",
   "pygments_lexer": "ipython3",
   "version": "3.9.13"
  }
 },
 "nbformat": 4,
 "nbformat_minor": 5
}
