{
 "cells": [
  {
   "cell_type": "code",
   "execution_count": 32,
   "id": "063bf51b",
   "metadata": {},
   "outputs": [],
   "source": [
    "import os\n",
    "import pandas as pd\n",
    "import json\n",
    "import datetime\n",
    "from tqdm import tqdm\n",
    "import pickle\n",
    "from collections import Counter"
   ]
  },
  {
   "cell_type": "code",
   "execution_count": 33,
   "id": "d03ab126",
   "metadata": {},
   "outputs": [],
   "source": [
    "researcherPath = 'Files/Researchers'\n",
    "errorPath = 'Files/ErrorResearchers'\n",
    "researcherFiles = os.listdir(researcherPath)\n",
    "errorFiles = os.listdir(errorPath)\n",
    "\n",
    "df_researchers = pd.read_pickle(\"Files/Dataframes/researchers_allFrom2005.pkl\")"
   ]
  },
  {
   "cell_type": "code",
   "execution_count": 3,
   "id": "c345612d",
   "metadata": {},
   "outputs": [
    {
     "ename": "NameError",
     "evalue": "name 'readFile' is not defined",
     "output_type": "error",
     "traceback": [
      "\u001b[0;31m---------------------------------------------------------------------------\u001b[0m",
      "\u001b[0;31mNameError\u001b[0m                                 Traceback (most recent call last)",
      "Cell \u001b[0;32mIn[3], line 2\u001b[0m\n\u001b[1;32m      1\u001b[0m key \u001b[38;5;241m=\u001b[39m \u001b[38;5;124m\"\u001b[39m\u001b[38;5;124m155263\u001b[39m\u001b[38;5;124m\"\u001b[39m\n\u001b[0;32m----> 2\u001b[0m data \u001b[38;5;241m=\u001b[39m \u001b[43mreadFile\u001b[49m(\u001b[38;5;124m'\u001b[39m\u001b[38;5;124m156000.txt\u001b[39m\u001b[38;5;124m'\u001b[39m, researcherPath \u001b[38;5;241m+\u001b[39m \u001b[38;5;124m\"\u001b[39m\u001b[38;5;124m/\u001b[39m\u001b[38;5;124m\"\u001b[39m)[key]\n",
      "\u001b[0;31mNameError\u001b[0m: name 'readFile' is not defined"
     ]
    }
   ],
   "source": [
    "key = \"155263\"\n",
    "data = readFile('156000.txt', researcherPath + \"/\")[key]"
   ]
  },
  {
   "cell_type": "code",
   "execution_count": null,
   "id": "7acf2c4a",
   "metadata": {},
   "outputs": [],
   "source": [
    "data['File']['data']"
   ]
  },
  {
   "cell_type": "code",
   "execution_count": 34,
   "id": "958a37b7",
   "metadata": {},
   "outputs": [],
   "source": [
    "def findFirstName(name): #get first name from name\n",
    "    firstName = name.replace('.', '').split()[0]\n",
    "    \n",
    "    return firstName"
   ]
  },
  {
   "cell_type": "code",
   "execution_count": 35,
   "id": "02f42dbb",
   "metadata": {},
   "outputs": [],
   "source": [
    "def getFirstName(searchName, API_name, aliasList): #assign searchName if first name is longer than 1 letter or no first names are longer than 1,assign API_name if first name is longer than 1 letter, assign first alias with firs name longer than 1 letter\n",
    "    firstName = findFirstName(searchName)\n",
    "    if len(firstName) <= 1: #if first name consists of 1 or less letters\n",
    "        firstName_API = findFirstName(API_name)\n",
    "        if len(firstName_API) <= 1 and aliasList: #if first name consists of 1 or less letters\n",
    "            for i in aliasList:\n",
    "                firstName_alias = findFirstName(i)\n",
    "                if len(firstName_alias) > 1: #if alias first name is longer than 1 letter, save that name\n",
    "                    assignedFirstName = firstName_alias\n",
    "                    break\n",
    "                else:\n",
    "                    assignedFirstName = firstName\n",
    "        else:\n",
    "            assignedFirstName = firstName_API\n",
    "    else: \n",
    "        assignedFirstName = firstName\n",
    "        \n",
    "    return assignedFirstName"
   ]
  },
  {
   "cell_type": "code",
   "execution_count": 36,
   "id": "42d42bf6",
   "metadata": {},
   "outputs": [],
   "source": [
    "def readFile(file, path): #function to read file\n",
    "    with open(path + file) as f:\n",
    "        data = json.load(f)\n",
    "    return data"
   ]
  },
  {
   "cell_type": "code",
   "execution_count": 37,
   "id": "752781c9",
   "metadata": {},
   "outputs": [],
   "source": [
    "def getName(data): #get namme from json\n",
    "    name = data['File']['data'][0]['name'] #only save first name\n",
    "        \n",
    "    return name"
   ]
  },
  {
   "cell_type": "code",
   "execution_count": 38,
   "id": "061379f7",
   "metadata": {},
   "outputs": [],
   "source": [
    "def getAliases(data): #get aliases from json\n",
    "    aliases = data['File']['data'][0]['aliases'] #only save first name\n",
    "        \n",
    "    return aliases"
   ]
  },
  {
   "cell_type": "code",
   "execution_count": 47,
   "id": "f3c3197e",
   "metadata": {},
   "outputs": [],
   "source": [
    "def getFields(data): #get field\n",
    "    fields = []\n",
    "    paper_data = data['papers']\n",
    "    n_papers = len(paper_data)\n",
    "    for p in range(0, n_papers):\n",
    "        field = paper_data[p]['fieldsOfStudy']\n",
    "        if field:\n",
    "            fields += paper_data[p]['fieldsOfStudy']\n",
    "    if fields:\n",
    "        assignedField = Counter(fields).most_common(1)[0][0] #assign most occurring field\n",
    "        fieldCount = Counter(fields).most_common(1)[0][1]\n",
    "    else:\n",
    "        assignedField = 'Unknown'\n",
    "        fieldCount = 'Unknown'\n",
    "        \n",
    "    return assignedField, fieldCount"
   ]
  },
  {
   "cell_type": "code",
   "execution_count": 48,
   "id": "238cde4a",
   "metadata": {},
   "outputs": [],
   "source": [
    "def getPublicationData(data): #get dict with number of publications for each year\n",
    "    publishCount = {}\n",
    "    paper_data = data['papers']\n",
    "    n_papers = len(paper_data)\n",
    "    for p in range(0, n_papers):\n",
    "        year = paper_data[p]['year']\n",
    "        if year in publishCount:\n",
    "            publishCount[year]+= 1 #add 1 to count\n",
    "        else:\n",
    "            publishCount[year] = 1 #create year, as set count as 1\n",
    "                \n",
    "    return publishCount"
   ]
  },
  {
   "cell_type": "code",
   "execution_count": 49,
   "id": "288185e8",
   "metadata": {},
   "outputs": [],
   "source": [
    "def getAuthorInfo(files, path): #get info about authors\n",
    "    error = {}\n",
    "    researcher_dict = {}\n",
    "    publicationData = {}\n",
    "    for file in tqdm(files):\n",
    "        if file != '.DS_Store':\n",
    "            data = readFile(file, path)\n",
    "            for key in data.keys():\n",
    "                researcher_data = data[key]\n",
    "                searchName = researcher_data['SearchName'] #name searched on\n",
    "                if researcher_data['File']['data'][0]['papers']: #if any data on papers\n",
    "                    API_name = getName(researcher_data) #name returned\n",
    "                    aliases = getAliases(researcher_data) #get aliases\n",
    "                    #assignedName = assignName(searchName, API_name, aliases)\n",
    "                    firstName = getFirstName(searchName, API_name, aliases)\n",
    "                    dataCount = data[key]['File']['total'] #authorResults\n",
    "                    authorData = data[key]['File']['data'][0] #only data from first author\n",
    "                    publicationData[key] = getPublicationData(authorData)\n",
    "                    if not len(publicationData[key]) == 1 and not publicationData[key].get(None):\n",
    "                        maxPaperCount = sum(publicationData[key].values())\n",
    "                        field, fieldCount = getFields(authorData)\n",
    "                #firstYear = min(list(filter(None,publicationData[key].keys())))\n",
    "                        firstYear = min(list(filter(None,publicationData[key].keys())))\n",
    "                    #firstYear = min(publicationData[key].keys())\n",
    "                        researcher_dict[key] = {'SearchName': searchName, 'API_Name': API_name, 'FirstName': firstName, 'AuthorCount': dataCount, 'MaxPaperCount': maxPaperCount, 'Field': field, 'FieldCount': fieldCount, 'FirstPaperYear': firstYear}\n",
    "                    else:\n",
    "                        error[key] = {'SearchName': searchName}\n",
    "                else:\n",
    "                    error[key] = {'SearchName': searchName}\n",
    "    \n",
    "    return researcher_dict, error, publicationData"
   ]
  },
  {
   "cell_type": "code",
   "execution_count": 50,
   "id": "95bce214",
   "metadata": {},
   "outputs": [],
   "source": [
    "def getErrorResearchers(files, path): #get searchName and ID of researchers that could not be found\n",
    "    error = {}\n",
    "    for file in tqdm(files):\n",
    "        if file != '.DS_Store':\n",
    "            data = readFile(file, path)\n",
    "            for key in data.keys():\n",
    "                searchName = data[key]\n",
    "                error[key] = {'SearchName': searchName}\n",
    "    return error"
   ]
  },
  {
   "cell_type": "code",
   "execution_count": 51,
   "id": "8d66d9c4",
   "metadata": {},
   "outputs": [],
   "source": [
    "#old - delete later\n",
    "#def getFirstName(df, searchNameCol, API_nameCol):\n",
    "#    firstName_dict = {}\n",
    "#    for i in df.index:\n",
    "#        ID = df.iloc[i]['ID']\n",
    "#        name1 = df[searchNameCol].iloc[i].split()\n",
    "#        name2 = df[API_nameCol].iloc[i].split()\n",
    "#        if name1: #if there is any originalName\n",
    "#            firstName = max(name1[0], name2[0], key = len) #take longest first name of the 2\n",
    "#            firstName_dict[ID] = firstName\n",
    "        \n",
    "#    return firstName_dict"
   ]
  },
  {
   "cell_type": "code",
   "execution_count": 52,
   "id": "2a55c20e",
   "metadata": {},
   "outputs": [],
   "source": [
    "def getCumulativePaperCount(confYear, ID, publicationDict):\n",
    "    publishCount = 0\n",
    "    publications = publicationDict[str(ID)]\n",
    "    for key in publications:\n",
    "        if key != None:\n",
    "            if key < confYear :\n",
    "                publishCount += publications[key]\n",
    "            \n",
    "    return publishCount"
   ]
  },
  {
   "cell_type": "code",
   "execution_count": 53,
   "id": "365732a1",
   "metadata": {},
   "outputs": [],
   "source": [
    "def getFirstName_errorResearchers(df, searchNameCol):\n",
    "    firstName_dict = {}\n",
    "    for i in df.index:\n",
    "        ID = df.iloc[i]['ID']\n",
    "        name = df[searchNameCol].iloc[i].split()\n",
    "        firstName = name[0]\n",
    "        firstName_dict[ID] = firstName\n",
    "    \n",
    "    return firstName_dict"
   ]
  },
  {
   "cell_type": "markdown",
   "id": "4f08c163",
   "metadata": {},
   "source": [
    "#### Add additional information"
   ]
  },
  {
   "cell_type": "code",
   "execution_count": 54,
   "id": "26049d51",
   "metadata": {},
   "outputs": [
    {
     "name": "stderr",
     "output_type": "stream",
     "text": [
      "100%|█████████████████████████████████████████| 187/187 [01:02<00:00,  3.01it/s]\n"
     ]
    }
   ],
   "source": [
    "researcherDict, errorDict, publicationData = getAuthorInfo(researcherFiles, researcherPath + \"/\") #dict with researcher info"
   ]
  },
  {
   "cell_type": "code",
   "execution_count": 55,
   "id": "507c4385",
   "metadata": {},
   "outputs": [],
   "source": [
    "#create df from researcherInfo\n",
    "researcher_df = pd.DataFrame.from_dict(researcherDict, orient = 'index').reset_index().rename(columns = {'index': 'ID'})\n",
    "researcher_df['ID'] = researcher_df.ID.astype(int) #ID as int"
   ]
  },
  {
   "cell_type": "code",
   "execution_count": 56,
   "id": "0d194ce1",
   "metadata": {},
   "outputs": [],
   "source": [
    "researchers = pd.merge(researcher_df, df_researchers,  on=['ID']) #add information to df"
   ]
  },
  {
   "cell_type": "code",
   "execution_count": 57,
   "id": "0cd21750",
   "metadata": {},
   "outputs": [],
   "source": [
    "#delete\n",
    "#firstNameDict = getFirstName(researcher_df, 'SearchName', 'API_Name')"
   ]
  },
  {
   "cell_type": "code",
   "execution_count": 58,
   "id": "1a5dcbf3",
   "metadata": {},
   "outputs": [],
   "source": [
    "#make firstNameDict to df\n",
    "#firstName_df = pd.DataFrame.from_dict(firstNameDict, orient = 'index').reset_index().rename(columns = {'index': 'ID', 0: 'FirstName'})"
   ]
  },
  {
   "cell_type": "code",
   "execution_count": 59,
   "id": "94a5e1f5",
   "metadata": {},
   "outputs": [],
   "source": [
    "#delete\n",
    "#add first name\n",
    "#apiResearchers = pd.merge(researchers, firstName_df,  on = ['ID'])"
   ]
  },
  {
   "cell_type": "code",
   "execution_count": 60,
   "id": "e276a375",
   "metadata": {},
   "outputs": [],
   "source": [
    "#add seniority\n",
    "researchers['Seniority'] = researchers.Year - researchers.FirstPaperYear "
   ]
  },
  {
   "cell_type": "code",
   "execution_count": 61,
   "id": "cf70fb0c",
   "metadata": {},
   "outputs": [],
   "source": [
    "#apply function to calculate cumulative paper count for current conference year\n",
    "researchers['CumulativePaperCount'] = researchers.apply(lambda x: getCumulativePaperCount(x.Year, x.ID, publicationData), axis = 1)"
   ]
  },
  {
   "cell_type": "code",
   "execution_count": 62,
   "id": "b85363b3",
   "metadata": {},
   "outputs": [],
   "source": [
    "#add productivity (cumulative papercount / years in the field)\n",
    "researchers['Productivity'] = researchers.CumulativePaperCount/researchers.Seniority"
   ]
  },
  {
   "cell_type": "code",
   "execution_count": 63,
   "id": "8aa9b01c",
   "metadata": {},
   "outputs": [],
   "source": [
    "#select only first names longer than one letter\n",
    "researchers_realNames = researchers[researchers.FirstName.str.len() > 1]\n",
    "#researchers[researchers.FirstName.str.len() == 2]\n",
    "#what about names on 2 letters\n",
    "#check"
   ]
  },
  {
   "cell_type": "code",
   "execution_count": 64,
   "id": "22508ed8",
   "metadata": {},
   "outputs": [],
   "source": [
    "researchers_realNames.to_pickle(\"Files/DataFrames/apiResearchers.pkl\") "
   ]
  },
  {
   "cell_type": "markdown",
   "id": "5695c22a",
   "metadata": {},
   "source": [
    "### Researchers not found"
   ]
  },
  {
   "cell_type": "code",
   "execution_count": 168,
   "id": "ea3eb747",
   "metadata": {},
   "outputs": [
    {
     "name": "stderr",
     "output_type": "stream",
     "text": [
      "100%|███████████████████████████████████████| 186/186 [00:00<00:00, 2411.17it/s]\n"
     ]
    }
   ],
   "source": [
    "errorResearchers = getErrorResearchers(errorFiles, errorPath + \"/\")"
   ]
  },
  {
   "cell_type": "code",
   "execution_count": 30,
   "id": "2a7e453c",
   "metadata": {},
   "outputs": [],
   "source": [
    "#create df with researchers not found or with no data from the API\n",
    "errorResearchers_df = pd.DataFrame.from_dict(errorResearchers, orient = 'index').reset_index().rename(columns = {'index': 'ID'})\n",
    "researchers_noData = pd.DataFrame.from_dict(errorDict, orient = 'index').reset_index().rename(columns = {'index': 'ID'})"
   ]
  },
  {
   "cell_type": "code",
   "execution_count": 31,
   "id": "2c9394b2",
   "metadata": {},
   "outputs": [],
   "source": [
    "#merge the dataframes\n",
    "researchers_notFound_df = pd.concat([errorResearchers_df, researchers_noData])\n",
    "researchers_notFound_df['ID'] = researchers_notFound_df.ID.astype(int) #ID as int"
   ]
  },
  {
   "cell_type": "code",
   "execution_count": 32,
   "id": "b37edb1a",
   "metadata": {},
   "outputs": [],
   "source": [
    "#add information to df for researchers not found\n",
    "researchers_notFound = pd.merge(researchers_notFound_df, df_researchers,  on=['ID']) "
   ]
  },
  {
   "cell_type": "code",
   "execution_count": 42,
   "id": "ee3fda13",
   "metadata": {},
   "outputs": [],
   "source": [
    "#crete dict with first name\n",
    "firstNameDict_errorResearchers = getFirstName_errorResearchers(researchers_notFound, 'SearchName')\n",
    "\n",
    "#make firstNameDict to df\n",
    "firstName_errorResearchers_df = pd.DataFrame.from_dict(firstNameDict_errorResearchers, orient = 'index').reset_index().rename(columns = {'index': 'ID', 0: 'FirstName'})"
   ]
  },
  {
   "cell_type": "code",
   "execution_count": 43,
   "id": "fe7589f7",
   "metadata": {},
   "outputs": [],
   "source": [
    "#add first name to df\n",
    "apiResearchers_notFound = pd.merge(researchers_notFound, firstName_errorResearchers_df,  on = ['ID'])"
   ]
  },
  {
   "cell_type": "code",
   "execution_count": 44,
   "id": "dc10e579",
   "metadata": {},
   "outputs": [
    {
     "data": {
      "text/html": [
       "<div>\n",
       "<style scoped>\n",
       "    .dataframe tbody tr th:only-of-type {\n",
       "        vertical-align: middle;\n",
       "    }\n",
       "\n",
       "    .dataframe tbody tr th {\n",
       "        vertical-align: top;\n",
       "    }\n",
       "\n",
       "    .dataframe thead th {\n",
       "        text-align: right;\n",
       "    }\n",
       "</style>\n",
       "<table border=\"1\" class=\"dataframe\">\n",
       "  <thead>\n",
       "    <tr style=\"text-align: right;\">\n",
       "      <th></th>\n",
       "      <th>ID</th>\n",
       "      <th>FirstName</th>\n",
       "    </tr>\n",
       "  </thead>\n",
       "  <tbody>\n",
       "    <tr>\n",
       "      <th>0</th>\n",
       "      <td>100003</td>\n",
       "      <td>cea/inac/sp2m</td>\n",
       "    </tr>\n",
       "    <tr>\n",
       "      <th>1</th>\n",
       "      <td>100007</td>\n",
       "      <td>swathy</td>\n",
       "    </tr>\n",
       "    <tr>\n",
       "      <th>2</th>\n",
       "      <td>100009</td>\n",
       "      <td>thomas</td>\n",
       "    </tr>\n",
       "    <tr>\n",
       "      <th>3</th>\n",
       "      <td>100018</td>\n",
       "      <td>purdue</td>\n",
       "    </tr>\n",
       "    <tr>\n",
       "      <th>4</th>\n",
       "      <td>100042</td>\n",
       "      <td>carolin</td>\n",
       "    </tr>\n",
       "    <tr>\n",
       "      <th>...</th>\n",
       "      <td>...</td>\n",
       "      <td>...</td>\n",
       "    </tr>\n",
       "    <tr>\n",
       "      <th>44184</th>\n",
       "      <td>99972</td>\n",
       "      <td>juan</td>\n",
       "    </tr>\n",
       "    <tr>\n",
       "      <th>44185</th>\n",
       "      <td>99973</td>\n",
       "      <td>goran</td>\n",
       "    </tr>\n",
       "    <tr>\n",
       "      <th>44186</th>\n",
       "      <td>9998</td>\n",
       "      <td>xianxu</td>\n",
       "    </tr>\n",
       "    <tr>\n",
       "      <th>44187</th>\n",
       "      <td>99993</td>\n",
       "      <td>stephanie</td>\n",
       "    </tr>\n",
       "    <tr>\n",
       "      <th>44188</th>\n",
       "      <td>99994</td>\n",
       "      <td>colin</td>\n",
       "    </tr>\n",
       "  </tbody>\n",
       "</table>\n",
       "<p>44189 rows × 2 columns</p>\n",
       "</div>"
      ],
      "text/plain": [
       "           ID      FirstName\n",
       "0      100003  cea/inac/sp2m\n",
       "1      100007         swathy\n",
       "2      100009         thomas\n",
       "3      100018         purdue\n",
       "4      100042        carolin\n",
       "...       ...            ...\n",
       "44184   99972           juan\n",
       "44185   99973          goran\n",
       "44186    9998         xianxu\n",
       "44187   99993      stephanie\n",
       "44188   99994          colin\n",
       "\n",
       "[44189 rows x 2 columns]"
      ]
     },
     "execution_count": 44,
     "metadata": {},
     "output_type": "execute_result"
    }
   ],
   "source": [
    "#select only researchers where first name does not contain \".\"\n",
    "researchers_realNames = apiResearchers[~apiResearchers.FirstName.str.contains('\\.')]"
   ]
  },
  {
   "cell_type": "code",
   "execution_count": null,
   "id": "0c680007",
   "metadata": {},
   "outputs": [],
   "source": []
  },
  {
   "cell_type": "code",
   "execution_count": null,
   "id": "eb5d2832",
   "metadata": {},
   "outputs": [],
   "source": [
    "firstNameDict_errorResearchers = getFirstName(researchers_notFound, 'SearchName', 'API_Name')"
   ]
  },
  {
   "cell_type": "code",
   "execution_count": 202,
   "id": "83dfe290",
   "metadata": {},
   "outputs": [
    {
     "name": "stdout",
     "output_type": "stream",
     "text": [
      "Number of researchers with no data/not found: 44189\n",
      "Number of researchers found: 141794\n",
      "Number of researchers removed due to not knowing their first name: 48214\n",
      "Number of researchers removed due to not knowing their first name, after changing code: 8264\n"
     ]
    }
   ],
   "source": [
    "print(\"Number of researchers with no data/not found:\", len(researchers_notFound.ID.unique()))\n",
    "print(\"Number of researchers found:\", len(researchers.ID.unique()))\n",
    "print(\"Number of researchers removed due to not knowing their first name:\", len(apiResearchers[apiResearchers.FirstName.str.contains('\\.')]))\n",
    "print(\"Number of researchers removed due to not knowing their first name, after changing code:\", 8264)"
   ]
  },
  {
   "cell_type": "code",
   "execution_count": 197,
   "id": "8326e111",
   "metadata": {},
   "outputs": [],
   "source": [
    "#save researchers not found\n",
    "researchers_notFound.to_pickle(\"Files/DataFrames/researcherNotFound.pkl\") "
   ]
  },
  {
   "cell_type": "code",
   "execution_count": 178,
   "id": "1e77b327",
   "metadata": {},
   "outputs": [
    {
     "data": {
      "text/html": [
       "<div>\n",
       "<style scoped>\n",
       "    .dataframe tbody tr th:only-of-type {\n",
       "        vertical-align: middle;\n",
       "    }\n",
       "\n",
       "    .dataframe tbody tr th {\n",
       "        vertical-align: top;\n",
       "    }\n",
       "\n",
       "    .dataframe thead th {\n",
       "        text-align: right;\n",
       "    }\n",
       "</style>\n",
       "<table border=\"1\" class=\"dataframe\">\n",
       "  <thead>\n",
       "    <tr style=\"text-align: right;\">\n",
       "      <th></th>\n",
       "      <th>ID</th>\n",
       "      <th>SearchName</th>\n",
       "    </tr>\n",
       "  </thead>\n",
       "  <tbody>\n",
       "    <tr>\n",
       "      <th>231</th>\n",
       "      <td>10303</td>\n",
       "      <td>liquid crystal materials research center, univ...</td>\n",
       "    </tr>\n",
       "    <tr>\n",
       "      <th>925</th>\n",
       "      <td>112886</td>\n",
       "      <td>department of materials science \\&amp; engineering...</td>\n",
       "    </tr>\n",
       "    <tr>\n",
       "      <th>1203</th>\n",
       "      <td>116855</td>\n",
       "      <td>university of maryland electrical and computer...</td>\n",
       "    </tr>\n",
       "    <tr>\n",
       "      <th>1221</th>\n",
       "      <td>117106</td>\n",
       "      <td>department of materials and interfaces, weizma...</td>\n",
       "    </tr>\n",
       "    <tr>\n",
       "      <th>1882</th>\n",
       "      <td>125371</td>\n",
       "      <td>ece dept. , university of utah, physics dept. ...</td>\n",
       "    </tr>\n",
       "    <tr>\n",
       "      <th>1992</th>\n",
       "      <td>126706</td>\n",
       "      <td>school of materials science and engineering, c...</td>\n",
       "    </tr>\n",
       "    <tr>\n",
       "      <th>2090</th>\n",
       "      <td>127964</td>\n",
       "      <td>department of physics, boston college, departm...</td>\n",
       "    </tr>\n",
       "    <tr>\n",
       "      <th>2371</th>\n",
       "      <td>131151</td>\n",
       "      <td>department of ee,national taiwan university, g...</td>\n",
       "    </tr>\n",
       "    <tr>\n",
       "      <th>2564</th>\n",
       "      <td>133572</td>\n",
       "      <td>department of phys. , hunan normal university</td>\n",
       "    </tr>\n",
       "    <tr>\n",
       "      <th>4722</th>\n",
       "      <td>155722</td>\n",
       "      <td>university of florida, physics dept. , univers...</td>\n",
       "    </tr>\n",
       "    <tr>\n",
       "      <th>7152</th>\n",
       "      <td>180910</td>\n",
       "      <td>dept. of elec. eng. , ucla, materias engineeri...</td>\n",
       "    </tr>\n",
       "    <tr>\n",
       "      <th>7431</th>\n",
       "      <td>183664</td>\n",
       "      <td>department of physics, national sun yat-sen un...</td>\n",
       "    </tr>\n",
       "    <tr>\n",
       "      <th>8513</th>\n",
       "      <td>36965</td>\n",
       "      <td>department of physics, boston college, gmz ene...</td>\n",
       "    </tr>\n",
       "    <tr>\n",
       "      <th>8745</th>\n",
       "      <td>41931</td>\n",
       "      <td>1 department of physics, university of antwerp...</td>\n",
       "    </tr>\n",
       "    <tr>\n",
       "      <th>10259</th>\n",
       "      <td>69459</td>\n",
       "      <td>department of physics and astronomy, eastern m...</td>\n",
       "    </tr>\n",
       "    <tr>\n",
       "      <th>10549</th>\n",
       "      <td>73804</td>\n",
       "      <td>laboratory for neutron scattering and magnetis...</td>\n",
       "    </tr>\n",
       "  </tbody>\n",
       "</table>\n",
       "</div>"
      ],
      "text/plain": [
       "           ID                                         SearchName\n",
       "231     10303  liquid crystal materials research center, univ...\n",
       "925    112886  department of materials science \\& engineering...\n",
       "1203   116855  university of maryland electrical and computer...\n",
       "1221   117106  department of materials and interfaces, weizma...\n",
       "1882   125371  ece dept. , university of utah, physics dept. ...\n",
       "1992   126706  school of materials science and engineering, c...\n",
       "2090   127964  department of physics, boston college, departm...\n",
       "2371   131151  department of ee,national taiwan university, g...\n",
       "2564   133572      department of phys. , hunan normal university\n",
       "4722   155722  university of florida, physics dept. , univers...\n",
       "7152   180910  dept. of elec. eng. , ucla, materias engineeri...\n",
       "7431   183664  department of physics, national sun yat-sen un...\n",
       "8513    36965  department of physics, boston college, gmz ene...\n",
       "8745    41931  1 department of physics, university of antwerp...\n",
       "10259   69459  department of physics and astronomy, eastern m...\n",
       "10549   73804  laboratory for neutron scattering and magnetis..."
      ]
     },
     "execution_count": 178,
     "metadata": {},
     "output_type": "execute_result"
    }
   ],
   "source": [
    "#researchers_notFound[researchers_notFound.SearchName.str.contains(',')]\n",
    "researchers_notFound[researchers_notFound.SearchName.str.contains('department .* ,|university .* ,|department .* , .* university')]"
   ]
  },
  {
   "cell_type": "code",
   "execution_count": 175,
   "id": "df1e0e57",
   "metadata": {},
   "outputs": [
    {
     "data": {
      "text/plain": [
       "'dpmc, university of geneva, 24,, department of physics and astronomy,, department of physics, cavendish laboratory,, dpartement de recherche fondamentale sur la matire condense - spsms,'"
      ]
     },
     "execution_count": 175,
     "metadata": {},
     "output_type": "execute_result"
    }
   ],
   "source": [
    "researchers_notFound.iloc[10].SearchName"
   ]
  },
  {
   "cell_type": "code",
   "execution_count": 196,
   "id": "c862d3f3",
   "metadata": {},
   "outputs": [
    {
     "data": {
      "text/html": [
       "<div>\n",
       "<style scoped>\n",
       "    .dataframe tbody tr th:only-of-type {\n",
       "        vertical-align: middle;\n",
       "    }\n",
       "\n",
       "    .dataframe tbody tr th {\n",
       "        vertical-align: top;\n",
       "    }\n",
       "\n",
       "    .dataframe thead th {\n",
       "        text-align: right;\n",
       "    }\n",
       "</style>\n",
       "<table border=\"1\" class=\"dataframe\">\n",
       "  <thead>\n",
       "    <tr style=\"text-align: right;\">\n",
       "      <th></th>\n",
       "      <th>index</th>\n",
       "      <th>ID</th>\n",
       "      <th>SearchName</th>\n",
       "    </tr>\n",
       "  </thead>\n",
       "  <tbody>\n",
       "    <tr>\n",
       "      <th>10</th>\n",
       "      <td>227</td>\n",
       "      <td>102987</td>\n",
       "      <td>liquid crystal institute, kent state universit...</td>\n",
       "    </tr>\n",
       "    <tr>\n",
       "      <th>11</th>\n",
       "      <td>241</td>\n",
       "      <td>103170</td>\n",
       "      <td>department of materials science and engineering</td>\n",
       "    </tr>\n",
       "    <tr>\n",
       "      <th>12</th>\n",
       "      <td>245</td>\n",
       "      <td>103177</td>\n",
       "      <td>sean p. cornelius research team, toronto metro...</td>\n",
       "    </tr>\n",
       "    <tr>\n",
       "      <th>13</th>\n",
       "      <td>249</td>\n",
       "      <td>103238</td>\n",
       "      <td>center for functional nanomaterials, bnl, cent...</td>\n",
       "    </tr>\n",
       "    <tr>\n",
       "      <th>14</th>\n",
       "      <td>288</td>\n",
       "      <td>103897</td>\n",
       "      <td>department of electronics science and engineer...</td>\n",
       "    </tr>\n",
       "    <tr>\n",
       "      <th>15</th>\n",
       "      <td>290</td>\n",
       "      <td>103938</td>\n",
       "      <td>biological and soft sciences sector, cavendish...</td>\n",
       "    </tr>\n",
       "    <tr>\n",
       "      <th>16</th>\n",
       "      <td>297</td>\n",
       "      <td>104071</td>\n",
       "      <td>department of physics and astronomy department...</td>\n",
       "    </tr>\n",
       "    <tr>\n",
       "      <th>17</th>\n",
       "      <td>319</td>\n",
       "      <td>104422</td>\n",
       "      <td>department of physics, university of texas at ...</td>\n",
       "    </tr>\n",
       "    <tr>\n",
       "      <th>18</th>\n",
       "      <td>380</td>\n",
       "      <td>105332</td>\n",
       "      <td>suny oswego - physics department, unl physics ...</td>\n",
       "    </tr>\n",
       "    <tr>\n",
       "      <th>19</th>\n",
       "      <td>423</td>\n",
       "      <td>106015</td>\n",
       "      <td>institute of physics, academia sinica, departm...</td>\n",
       "    </tr>\n",
       "    <tr>\n",
       "      <th>20</th>\n",
       "      <td>424</td>\n",
       "      <td>106017</td>\n",
       "      <td>peng qian,state key laboratory of low dimensio...</td>\n",
       "    </tr>\n",
       "    <tr>\n",
       "      <th>21</th>\n",
       "      <td>457</td>\n",
       "      <td>106490</td>\n",
       "      <td>department of electrical and computer engineer...</td>\n",
       "    </tr>\n",
       "    <tr>\n",
       "      <th>22</th>\n",
       "      <td>499</td>\n",
       "      <td>107035</td>\n",
       "      <td>department of electrical and computer engineer...</td>\n",
       "    </tr>\n",
       "    <tr>\n",
       "      <th>23</th>\n",
       "      <td>503</td>\n",
       "      <td>107125</td>\n",
       "      <td>department of materials science and engineerin...</td>\n",
       "    </tr>\n",
       "    <tr>\n",
       "      <th>24</th>\n",
       "      <td>519</td>\n",
       "      <td>107308</td>\n",
       "      <td>department of electronics and telecommunicatio...</td>\n",
       "    </tr>\n",
       "    <tr>\n",
       "      <th>25</th>\n",
       "      <td>533</td>\n",
       "      <td>107513</td>\n",
       "      <td>wolkite university, , department of physics, w...</td>\n",
       "    </tr>\n",
       "    <tr>\n",
       "      <th>26</th>\n",
       "      <td>536</td>\n",
       "      <td>107523</td>\n",
       "      <td>uw-madison department of physics, institut für...</td>\n",
       "    </tr>\n",
       "    <tr>\n",
       "      <th>27</th>\n",
       "      <td>590</td>\n",
       "      <td>108276</td>\n",
       "      <td>qsrc, dongguk university seoul, electrical and...</td>\n",
       "    </tr>\n",
       "    <tr>\n",
       "      <th>28</th>\n",
       "      <td>612</td>\n",
       "      <td>108677</td>\n",
       "      <td>maurice morton institute and department of pol...</td>\n",
       "    </tr>\n",
       "    <tr>\n",
       "      <th>29</th>\n",
       "      <td>624</td>\n",
       "      <td>108960</td>\n",
       "      <td>department of physics and tcsuh, university of...</td>\n",
       "    </tr>\n",
       "  </tbody>\n",
       "</table>\n",
       "</div>"
      ],
      "text/plain": [
       "    index      ID                                         SearchName\n",
       "10    227  102987  liquid crystal institute, kent state universit...\n",
       "11    241  103170    department of materials science and engineering\n",
       "12    245  103177  sean p. cornelius research team, toronto metro...\n",
       "13    249  103238  center for functional nanomaterials, bnl, cent...\n",
       "14    288  103897  department of electronics science and engineer...\n",
       "15    290  103938  biological and soft sciences sector, cavendish...\n",
       "16    297  104071  department of physics and astronomy department...\n",
       "17    319  104422  department of physics, university of texas at ...\n",
       "18    380  105332  suny oswego - physics department, unl physics ...\n",
       "19    423  106015  institute of physics, academia sinica, departm...\n",
       "20    424  106017  peng qian,state key laboratory of low dimensio...\n",
       "21    457  106490  department of electrical and computer engineer...\n",
       "22    499  107035  department of electrical and computer engineer...\n",
       "23    503  107125  department of materials science and engineerin...\n",
       "24    519  107308  department of electronics and telecommunicatio...\n",
       "25    533  107513  wolkite university, , department of physics, w...\n",
       "26    536  107523  uw-madison department of physics, institut für...\n",
       "27    590  108276  qsrc, dongguk university seoul, electrical and...\n",
       "28    612  108677  maurice morton institute and department of pol...\n",
       "29    624  108960  department of physics and tcsuh, university of..."
      ]
     },
     "execution_count": 196,
     "metadata": {},
     "output_type": "execute_result"
    }
   ],
   "source": [
    "department = researchers_notFound[researchers_notFound.SearchName.str.contains('department')].reset_index()\n",
    "department.iloc[10:30]"
   ]
  },
  {
   "cell_type": "code",
   "execution_count": null,
   "id": "61078edd",
   "metadata": {},
   "outputs": [],
   "source": []
  }
 ],
 "metadata": {
  "kernelspec": {
   "display_name": "Python 3 (ipykernel)",
   "language": "python",
   "name": "python3"
  },
  "language_info": {
   "codemirror_mode": {
    "name": "ipython",
    "version": 3
   },
   "file_extension": ".py",
   "mimetype": "text/x-python",
   "name": "python",
   "nbconvert_exporter": "python",
   "pygments_lexer": "ipython3",
   "version": "3.9.13"
  }
 },
 "nbformat": 4,
 "nbformat_minor": 5
}
