{
 "cells": [
  {
   "cell_type": "code",
   "execution_count": 1,
   "id": "063bf51b",
   "metadata": {},
   "outputs": [],
   "source": [
    "import os\n",
    "import pandas as pd\n",
    "import json\n",
    "import datetime\n",
    "from tqdm import tqdm\n",
    "import pickle\n",
    "from collections import Counter"
   ]
  },
  {
   "cell_type": "code",
   "execution_count": 2,
   "id": "bda573e3",
   "metadata": {},
   "outputs": [],
   "source": [
    "file_to_read = open('Files/Dictionary/researcherDB.pkl', \"rb\")\n",
    "researcher_db = pickle.load(file_to_read)"
   ]
  },
  {
   "cell_type": "code",
   "execution_count": 3,
   "id": "d03ab126",
   "metadata": {},
   "outputs": [],
   "source": [
    "researcherPath = 'Files/Researchers'\n",
    "errorPath = 'Files/ErrorResearchers'\n",
    "researcherFiles = os.listdir(researcherPath)\n",
    "errorFiles = os.listdir(errorPath)\n",
    "\n",
    "df_researchers = pd.read_pickle(\"Files/Dataframes/researchers_allFrom2005.pkl\")[['Year', 'Name', 'Institution', 'AuthorIndex', 'Title', 'Division', 'SessionIndex', 'SessionType', 'LowerCaseName']]"
   ]
  },
  {
   "cell_type": "code",
   "execution_count": 4,
   "id": "24d91753",
   "metadata": {},
   "outputs": [],
   "source": [
    "def readFile(file, path): #function to read file\n",
    "    with open(path + file) as f:\n",
    "        data = json.load(f)\n",
    "    return data"
   ]
  },
  {
   "cell_type": "code",
   "execution_count": 5,
   "id": "545d346e",
   "metadata": {},
   "outputs": [],
   "source": [
    "def getName(data): #get namme from json\n",
    "    name = data['File']['data'][0]['name'] #only save first name\n",
    "        \n",
    "    return name"
   ]
  },
  {
   "cell_type": "code",
   "execution_count": 6,
   "id": "c16dd3b6",
   "metadata": {},
   "outputs": [],
   "source": [
    "def getAliases(data): #get aliases from json\n",
    "    aliases = data['File']['data'][0]['aliases'] #only save first name\n",
    "        \n",
    "    return aliases"
   ]
  },
  {
   "cell_type": "code",
   "execution_count": 7,
   "id": "5f85197f",
   "metadata": {},
   "outputs": [],
   "source": [
    "def findFirstName(name): #get first name from name\n",
    "    firstName = name.replace('.', '').split()[0]\n",
    "    \n",
    "    return firstName"
   ]
  },
  {
   "cell_type": "code",
   "execution_count": 8,
   "id": "a8255798",
   "metadata": {},
   "outputs": [],
   "source": [
    "def getFirstName(searchName, API_name, aliasList): #assign searchName if first name is longer than 1 letter or no first names are longer than 1,assign API_name if first name is longer than 1 letter, assign first alias with firs name longer than 1 letter\n",
    "    firstName = findFirstName(searchName)\n",
    "    if len(firstName) <= 1: #if first name consists of 1 or less letters\n",
    "        firstName_API = findFirstName(API_name)\n",
    "        if len(firstName_API) <= 1 and aliasList: #if first name consists of 1 or less letters\n",
    "            for i in aliasList:\n",
    "                firstName_alias = findFirstName(i)\n",
    "                if len(firstName_alias) > 1: #if alias first name is longer than 1 letter, save that name\n",
    "                    assignedFirstName = firstName_alias\n",
    "                    break\n",
    "                else:\n",
    "                    assignedFirstName = firstName\n",
    "        else:\n",
    "            assignedFirstName = firstName_API\n",
    "    else: \n",
    "        assignedFirstName = firstName\n",
    "        \n",
    "    return assignedFirstName"
   ]
  },
  {
   "cell_type": "code",
   "execution_count": 9,
   "id": "ca5ab638",
   "metadata": {},
   "outputs": [],
   "source": [
    "def getPublicationData(data): #get dict with number of publications for each year\n",
    "    publishCount = {}\n",
    "    paper_data = data['papers']\n",
    "    n_papers = len(paper_data)\n",
    "    for p in range(0, n_papers):\n",
    "        year = paper_data[p]['year']\n",
    "        if year in publishCount:\n",
    "            publishCount[year]+= 1 #add 1 to count\n",
    "        else:\n",
    "            publishCount[year] = 1 #create year, as set count as 1\n",
    "                \n",
    "    return publishCount"
   ]
  },
  {
   "cell_type": "code",
   "execution_count": 10,
   "id": "ba614607",
   "metadata": {},
   "outputs": [],
   "source": [
    "def getAPI_field(data): #get field from API\n",
    "    fields = []\n",
    "    noneCount = 0\n",
    "    paper_data = data['papers']\n",
    "    n_papers = len(paper_data)\n",
    "    for p in range(0, n_papers):\n",
    "        field = paper_data[p]['fieldsOfStudy']\n",
    "        if field:\n",
    "            fields += paper_data[p]['fieldsOfStudy']\n",
    "        else:\n",
    "            noneCount += 1\n",
    "    if fields:\n",
    "        assignedField = Counter(fields).most_common(1)[0][0] #assign most occurring field\n",
    "        fieldCount = Counter(fields).most_common(1)[0][1]\n",
    "    else:\n",
    "        assignedField = 'Unknown'\n",
    "        fieldCount = noneCount\n",
    "        #fieldCount = 'Unknown'\n",
    "        \n",
    "    return assignedField, fieldCount"
   ]
  },
  {
   "cell_type": "code",
   "execution_count": 11,
   "id": "536e7231",
   "metadata": {},
   "outputs": [],
   "source": [
    "def getFieldOfStudy_both(data): #get both external and model \n",
    "    #fields_dict = {}\n",
    "    externalFields = []\n",
    "    modelFields = []\n",
    "    paper_data = data['papers']\n",
    "    n_papers = len(paper_data)\n",
    "    for p in range(0, n_papers):\n",
    "        fields = paper_data[p]['s2FieldsOfStudy']\n",
    "        for f in fields:\n",
    "            if f['source'] == 'external':\n",
    "                externalField = f['category']\n",
    "                externalFields.append(externalField)\n",
    "            elif f['source'] == 's2-fos-model':\n",
    "                modelField = f['category']\n",
    "                modelFields.append(modelField)\n",
    "            else:\n",
    "                print(\"No field\")\n",
    "    if externalFields: \n",
    "        assignedExternalField = Counter(externalFields).most_common(1)[0][0] #assign most occurring field\n",
    "        externalFieldCount = Counter(externalFields).most_common(1)[0][1] #number of times most occuring field is assigned\n",
    "    else:\n",
    "        assignedExternalField = \"Unknown\"\n",
    "        externalFieldCount = 0\n",
    "        \n",
    "    if modelFields:\n",
    "        assignedModelField = Counter(modelFields).most_common(1)[0][0] #assign most occurring field\n",
    "        modelCount = Counter(modelFields).most_common(1)[0][1] #number of times most occuring field is assigned\n",
    "    else:\n",
    "        assignedModelField = 'Unknown'\n",
    "        modelCount = 0\n",
    "    \n",
    "    return assignedExternalField, assignedModelField, externalFieldCount, modelCount"
   ]
  },
  {
   "cell_type": "code",
   "execution_count": 12,
   "id": "288185e8",
   "metadata": {},
   "outputs": [],
   "source": [
    "def getAuthorInfo(files, path): #get info about authors\n",
    "    error = {}\n",
    "    researcher_dict = {}\n",
    "    publicationData = {}\n",
    "    for file in tqdm(files):\n",
    "        if file != '.DS_Store':\n",
    "            data = readFile(file, path)\n",
    "            for key in data.keys():\n",
    "                researcher_data = data[key]\n",
    "                searchName = researcher_data['SearchName'] #name searched on\n",
    "                if researcher_data['File']['data'][0]['papers']: #if any data on papers\n",
    "                    API_name = getName(researcher_data) #name returned\n",
    "                    aliases = getAliases(researcher_data) #get aliases\n",
    "                    #assignedName = assignName(searchName, API_name, aliases)\n",
    "                    firstName = getFirstName(searchName, API_name, aliases)\n",
    "                    dataCount = data[key]['File']['total'] #authorResults\n",
    "                    authorData = data[key]['File']['data'][0] #only data from first author\n",
    "                    publicationData[key] = getPublicationData(authorData)\n",
    "                    #if not len(publicationData[key]) == 1 and not publicationData[key].get(None):\n",
    "                    if len(publicationData[key]) == 1 and publicationData[key].get(None): #if there's only 1 year,a nd the year is None\n",
    "                        error[key] = {'SearchName': searchName}\n",
    "                    else:\n",
    "                        maxPaperCount = sum(publicationData[key].values())\n",
    "                        API_field, API_fieldCount = getAPI_field(authorData) #get assigned field(can be based on external soruces or API)\n",
    "                        field_external, field_model, fieldCount_external, fieldCount_model = getFieldOfStudy_both(authorData)\n",
    "                #firstYear = min(list(filter(None,publicationData[key].keys())))\n",
    "                        firstYear = min(list(filter(None,publicationData[key].keys())))\n",
    "                    #firstYear = min(publicationData[key].keys())\n",
    "                        researcher_dict[key] = {'SearchName': searchName, 'API_Name': API_name, 'FirstName': firstName, 'AuthorCount': dataCount, 'MaxPaperCount': maxPaperCount, 'API_Field': API_field, 'API_FieldCount': API_fieldCount, 'ExternalField': field_external, 'ModelField': field_model, 'ExternalFieldCount': fieldCount_external, 'ModelFieldCount': fieldCount_model, 'FirstPaperYear': firstYear}\n",
    "                    #else:\n",
    "                    #    error[key] = {'SearchName': searchName}\n",
    "                else:\n",
    "                    error[key] = {'SearchName': searchName}\n",
    "    \n",
    "    return researcher_dict, error, publicationData"
   ]
  },
  {
   "cell_type": "code",
   "execution_count": 13,
   "id": "95bce214",
   "metadata": {},
   "outputs": [],
   "source": [
    "def getErrorResearchers(files, path): #get searchName and ID of researchers that could not be found\n",
    "    error = {}\n",
    "    for file in tqdm(files):\n",
    "        if file != '.DS_Store':\n",
    "            data = readFile(file, path)\n",
    "            for key in data.keys():\n",
    "                searchName = data[key]\n",
    "                error[key] = {'SearchName': searchName}\n",
    "    return error"
   ]
  },
  {
   "cell_type": "code",
   "execution_count": 14,
   "id": "8d66d9c4",
   "metadata": {},
   "outputs": [],
   "source": [
    "#old - delete later\n",
    "#def getFirstName(df, searchNameCol, API_nameCol):\n",
    "#    firstName_dict = {}\n",
    "#    for i in df.index:\n",
    "#        ID = df.iloc[i]['ID']\n",
    "#        name1 = df[searchNameCol].iloc[i].split()\n",
    "#        name2 = df[API_nameCol].iloc[i].split()\n",
    "#        if name1: #if there is any originalName\n",
    "#            firstName = max(name1[0], name2[0], key = len) #take longest first name of the 2\n",
    "#            firstName_dict[ID] = firstName\n",
    "        \n",
    "#    return firstName_dict"
   ]
  },
  {
   "cell_type": "code",
   "execution_count": 15,
   "id": "2a55c20e",
   "metadata": {},
   "outputs": [],
   "source": [
    "def getCumulativePaperCount(confYear, ID, publicationDict):\n",
    "    publishCount = 0\n",
    "    publications = publicationDict[str(ID)]\n",
    "    for key in publications:\n",
    "        if key != None:\n",
    "            if key < confYear :\n",
    "                publishCount += publications[key]\n",
    "            \n",
    "    return publishCount"
   ]
  },
  {
   "cell_type": "code",
   "execution_count": 16,
   "id": "3838f12f",
   "metadata": {},
   "outputs": [],
   "source": [
    "def getFirstName_errorResearchers(df, searchNameCol):\n",
    "    firstName_dict = {}\n",
    "    for i in df.index:\n",
    "        ID = df.iloc[i]['ID']\n",
    "        name = df[searchNameCol].iloc[i].split()\n",
    "        firstName = name[0]\n",
    "        firstName_dict[ID] = firstName\n",
    "    \n",
    "    return firstName_dict"
   ]
  },
  {
   "cell_type": "markdown",
   "id": "4f08c163",
   "metadata": {},
   "source": [
    "#### Add additional information"
   ]
  },
  {
   "cell_type": "code",
   "execution_count": 17,
   "id": "26049d51",
   "metadata": {},
   "outputs": [
    {
     "name": "stderr",
     "output_type": "stream",
     "text": [
      "100%|█████████████████████████████████████████| 187/187 [01:03<00:00,  2.95it/s]\n"
     ]
    }
   ],
   "source": [
    "researcherDict, errorDict, publicationData = getAuthorInfo(researcherFiles, researcherPath + \"/\") #dict with researcher info"
   ]
  },
  {
   "cell_type": "code",
   "execution_count": 18,
   "id": "507c4385",
   "metadata": {},
   "outputs": [],
   "source": [
    "#create df from researcherInfo\n",
    "researcher_df = pd.DataFrame.from_dict(researcherDict, orient = 'index').reset_index().rename(columns = {'index': 'ID'})\n",
    "researcher_df['ID'] = researcher_df.ID.astype(int) #ID as int"
   ]
  },
  {
   "cell_type": "code",
   "execution_count": 19,
   "id": "357e8e79",
   "metadata": {},
   "outputs": [],
   "source": [
    "researchers = pd.merge(researcher_df, df_researchers, how = 'inner', left_on = 'SearchName', right_on = 'LowerCaseName')#add information to df\n",
    "#researchers = pd.merge(researcher_df, df_researchers,  on=['ID']) #add information to df"
   ]
  },
  {
   "cell_type": "code",
   "execution_count": 20,
   "id": "0cd21750",
   "metadata": {},
   "outputs": [],
   "source": [
    "#delete\n",
    "#firstNameDict = getFirstName(researcher_df, 'SearchName', 'API_Name')"
   ]
  },
  {
   "cell_type": "code",
   "execution_count": 21,
   "id": "1a5dcbf3",
   "metadata": {},
   "outputs": [],
   "source": [
    "#make firstNameDict to df\n",
    "#firstName_df = pd.DataFrame.from_dict(firstNameDict, orient = 'index').reset_index().rename(columns = {'index': 'ID', 0: 'FirstName'})"
   ]
  },
  {
   "cell_type": "code",
   "execution_count": 22,
   "id": "94a5e1f5",
   "metadata": {},
   "outputs": [],
   "source": [
    "#delete\n",
    "#add first name\n",
    "#apiResearchers = pd.merge(researchers, firstName_df,  on = ['ID'])"
   ]
  },
  {
   "cell_type": "code",
   "execution_count": 23,
   "id": "e276a375",
   "metadata": {},
   "outputs": [],
   "source": [
    "#add seniority\n",
    "researchers['Seniority'] = researchers.Year - researchers.FirstPaperYear "
   ]
  },
  {
   "cell_type": "code",
   "execution_count": 24,
   "id": "cf70fb0c",
   "metadata": {},
   "outputs": [],
   "source": [
    "#apply function to calculate cumulative paper count for current conference year\n",
    "researchers['CumulativePaperCount'] = researchers.apply(lambda x: getCumulativePaperCount(x.Year, x.ID, publicationData), axis = 1)"
   ]
  },
  {
   "cell_type": "code",
   "execution_count": 25,
   "id": "b85363b3",
   "metadata": {},
   "outputs": [],
   "source": [
    "#add productivity (cumulative papercount / years in the field)\n",
    "researchers['Productivity'] = researchers.CumulativePaperCount/researchers.Seniority"
   ]
  },
  {
   "cell_type": "code",
   "execution_count": 26,
   "id": "5482c4ca",
   "metadata": {},
   "outputs": [
    {
     "name": "stdout",
     "output_type": "stream",
     "text": [
      "Number of researchers with first name on one letter: 9954\n"
     ]
    }
   ],
   "source": [
    "print(\"Number of researchers with first name on one letter:\", len(researchers[researchers.FirstName.str.len() == 1]))"
   ]
  },
  {
   "cell_type": "code",
   "execution_count": 27,
   "id": "ae128ba1",
   "metadata": {},
   "outputs": [],
   "source": [
    "#select only first names longer than one letter\n",
    "researchers_realNames = researchers[researchers.FirstName.str.len() > 1]"
   ]
  },
  {
   "cell_type": "code",
   "execution_count": 28,
   "id": "1f5d030a",
   "metadata": {},
   "outputs": [],
   "source": [
    "#save researchers with all current columns\n",
    "researchers_realNames.to_pickle(\"Files/DataFrames/apiResearchers_allColumns.pkl\") "
   ]
  },
  {
   "cell_type": "code",
   "execution_count": 29,
   "id": "5544d01b",
   "metadata": {},
   "outputs": [],
   "source": [
    "#researchers with name columns deleted\n",
    "researchers_nameColDel = researchers_realNames.drop(['API_Name', 'LowerCaseName'], axis = 1)"
   ]
  },
  {
   "cell_type": "code",
   "execution_count": 30,
   "id": "e82e2848",
   "metadata": {},
   "outputs": [],
   "source": [
    "#save researchers again with the current columns(with some of the names columns deleted)\n",
    "researchers_nameColDel.to_pickle(\"Files/DataFrames/apiResearchers_fewNameCol.pkl\") "
   ]
  },
  {
   "cell_type": "markdown",
   "id": "5695c22a",
   "metadata": {},
   "source": [
    "### Researchers not found"
   ]
  },
  {
   "cell_type": "code",
   "execution_count": 31,
   "id": "ea3eb747",
   "metadata": {},
   "outputs": [
    {
     "name": "stderr",
     "output_type": "stream",
     "text": [
      "100%|███████████████████████████████████████| 186/186 [00:00<00:00, 5615.47it/s]\n"
     ]
    }
   ],
   "source": [
    "errorResearchers = getErrorResearchers(errorFiles, errorPath + \"/\")"
   ]
  },
  {
   "cell_type": "code",
   "execution_count": 32,
   "id": "2a7e453c",
   "metadata": {},
   "outputs": [],
   "source": [
    "#create df with researchers not found or with no data from the API\n",
    "errorResearchers_df = pd.DataFrame.from_dict(errorResearchers, orient = 'index').reset_index().rename(columns = {'index': 'ID'})\n",
    "researchers_noData = pd.DataFrame.from_dict(errorDict, orient = 'index').reset_index().rename(columns = {'index': 'ID'})"
   ]
  },
  {
   "cell_type": "code",
   "execution_count": 33,
   "id": "2c9394b2",
   "metadata": {},
   "outputs": [],
   "source": [
    "#merge the two dataframes containing researchers with no data/that couldn't be found/where an error occurred\n",
    "researchers_notFound_df = pd.concat([errorResearchers_df, researchers_noData])\n",
    "researchers_notFound_df['ID'] = researchers_notFound_df.ID.astype(int) #ID as int"
   ]
  },
  {
   "cell_type": "code",
   "execution_count": 34,
   "id": "b37edb1a",
   "metadata": {},
   "outputs": [],
   "source": [
    "#add already known information to df for researchers not found\n",
    "researchers_notFound = pd.merge(researchers_notFound_df, df_researchers,  how = 'inner',  left_on = 'SearchName', right_on = 'LowerCaseName')  "
   ]
  },
  {
   "cell_type": "code",
   "execution_count": 35,
   "id": "ee3fda13",
   "metadata": {},
   "outputs": [],
   "source": [
    "#crete dict with first name\n",
    "firstNameDict_errorResearchers = getFirstName_errorResearchers(researchers_notFound, 'SearchName')\n",
    "\n",
    "#make firstNameDict to df\n",
    "firstName_errorResearchers_df = pd.DataFrame.from_dict(firstNameDict_errorResearchers, orient = 'index').reset_index().rename(columns = {'index': 'ID', 0: 'FirstName'})"
   ]
  },
  {
   "cell_type": "code",
   "execution_count": 36,
   "id": "282c6891",
   "metadata": {},
   "outputs": [],
   "source": [
    "#add first name to dfq\n",
    "apiResearchers_notFound = pd.merge(researchers_notFound, firstName_errorResearchers_df,  on = ['ID'])"
   ]
  },
  {
   "cell_type": "code",
   "execution_count": 37,
   "id": "5a1dc8ea",
   "metadata": {},
   "outputs": [],
   "source": [
    "#delete\n",
    "#select only researchers where first name does not contain \".\"\n",
    "#researchers_realNames = apiResearchers[~apiResearchers.FirstName.str.contains('\\.')]"
   ]
  },
  {
   "cell_type": "code",
   "execution_count": 38,
   "id": "83dfe290",
   "metadata": {},
   "outputs": [
    {
     "name": "stdout",
     "output_type": "stream",
     "text": [
      "Number of researchers with no data/not found: 13563\n",
      "Number of researchers found: 170902\n",
      "Number of researchers removed due to not knowing their first name: 9954\n"
     ]
    }
   ],
   "source": [
    "print(\"Number of researchers with no data/not found:\", len(apiResearchers_notFound.ID.unique()))\n",
    "print(\"Number of researchers found:\", len(researchers.ID.unique()))\n",
    "print(\"Number of researchers removed due to not knowing their first name:\", len(researchers[researchers.FirstName.str.len() <= 1]))"
   ]
  },
  {
   "cell_type": "code",
   "execution_count": 39,
   "id": "63aa9bb4",
   "metadata": {},
   "outputs": [],
   "source": [
    "#save researchers not found\n",
    "researchers_notFound.to_pickle(\"Files/DataFrames/researcherNotFound.pkl\") "
   ]
  }
 ],
 "metadata": {
  "kernelspec": {
   "display_name": "Python 3 (ipykernel)",
   "language": "python",
   "name": "python3"
  },
  "language_info": {
   "codemirror_mode": {
    "name": "ipython",
    "version": 3
   },
   "file_extension": ".py",
   "mimetype": "text/x-python",
   "name": "python",
   "nbconvert_exporter": "python",
   "pygments_lexer": "ipython3",
   "version": "3.9.13"
  }
 },
 "nbformat": 4,
 "nbformat_minor": 5
}
