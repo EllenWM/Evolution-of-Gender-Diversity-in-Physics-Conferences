{
 "cells": [
  {
   "cell_type": "code",
   "execution_count": 1,
   "id": "95052631",
   "metadata": {},
   "outputs": [],
   "source": [
    "import pandas as pd\n",
    "import requests\n",
    "from tqdm import tqdm\n",
    "import pickle\n",
    "import numpy as np"
   ]
  },
  {
   "cell_type": "code",
   "execution_count": 2,
   "id": "66d878cc",
   "metadata": {},
   "outputs": [],
   "source": [
    "#load data\n",
    "errorResearchers = pd.read_pickle(\"Files/DataFrames/researcherNotFound.pkl\")\n",
    "researcher_db = pickle.load(open('Files/Dictionary/researcherDB.pkl', \"rb\"))"
   ]
  },
  {
   "cell_type": "code",
   "execution_count": 3,
   "id": "43496d85",
   "metadata": {},
   "outputs": [],
   "source": [
    "## errorResearchers names without departmnet/university/group/team\n",
    "errorResearchers_ = errorResearchers[~errorResearchers.SearchName.str.contains('department|dept.|university|group|team|collaboration|institute|institution|academy|center|research|material|physics|engineering')]"
   ]
  },
  {
   "cell_type": "code",
   "execution_count": 4,
   "id": "2dea13d3",
   "metadata": {},
   "outputs": [],
   "source": [
    "#drop first index, which we can see is an error\n",
    "errorResearchers_df = errorResearchers_.drop(0).reset_index(drop = True)"
   ]
  },
  {
   "cell_type": "code",
   "execution_count": 5,
   "id": "c2cb3844",
   "metadata": {},
   "outputs": [],
   "source": [
    "#save errorResearchers_df\n",
    "errorResearchers_df.to_pickle(\"Files/Dataframes/errorResearchers_filtered.pkl\")"
   ]
  },
  {
   "cell_type": "code",
   "execution_count": 6,
   "id": "8c8a3e1a",
   "metadata": {},
   "outputs": [],
   "source": [
    "removedName = len(errorResearchers.SearchName.unique()) - len(errorResearchers_df.SearchName.unique())\n",
    "namesLeft = len(errorResearchers_df.SearchName.unique())"
   ]
  },
  {
   "cell_type": "code",
   "execution_count": 7,
   "id": "78801ab7",
   "metadata": {},
   "outputs": [
    {
     "name": "stdout",
     "output_type": "stream",
     "text": [
      "Number of unique names removed: 2613\n",
      "Number of unique names left: 10397\n",
      "Share of researchers removed by deleting name we believe are not names: 0.013894132347858454\n",
      "Share of researchers not found by API, that is not removed: 0.05528407731369473\n"
     ]
    }
   ],
   "source": [
    "print(\"Number of unique names removed:\", removedName)\n",
    "print(\"Number of unique names left:\", namesLeft)\n",
    "print(\"Share of researchers removed by deleting name we believe are not names:\", removedName/len(researcher_db)) \n",
    "print(\"Share of researchers not found by API, that is not removed:\", namesLeft/len(researcher_db))"
   ]
  },
  {
   "cell_type": "markdown",
   "id": "7b1b1f8b",
   "metadata": {},
   "source": [
    "### Estimate gender"
   ]
  },
  {
   "cell_type": "code",
   "execution_count": 8,
   "id": "f011bc72",
   "metadata": {},
   "outputs": [],
   "source": [
    "def assignGender(df, NameCol): #from GenderEstimation_theis.ipynb\n",
    "    index = 0\n",
    "    nameDict = {}\n",
    "    genderEstimation = pd.read_csv(\"Files/wgnd_2_0_name-gender-code.csv\") #genderEstimation file\n",
    "    genderEstimation['Name'] = genderEstimation.name.str.replace(r'\"|\\'', '', regex=True).str.lower() #remove \" and ' and make to lower case\n",
    "    \n",
    "    usNames = genderEstimation[genderEstimation.code == 'US'] #some names can't not be found, but can with another code\n",
    "    otherNames = genderEstimation[~genderEstimation.Name.isin(usNames.Name)] #names not in US\n",
    "\n",
    "    uniqueNamesUS = df[df[NameCol].isin(usNames.Name)][NameCol].unique() #df with names from presenters, that is also in genderEstimation\n",
    "    uniqueNamesOther = df[df[NameCol].isin(otherNames.Name)][NameCol].unique()\n",
    "    \n",
    "    for n in tqdm(uniqueNamesUS): #loop through us names that is also in the presenter df\n",
    "        nameTable = usNames[usNames.Name == n] #table with the name \n",
    "        genderIndex = nameTable.wgt.argmax() #index of gender with highest score/probability\n",
    "        gender = nameTable.iloc[genderIndex].gender #gender that is most likely\n",
    "        nameDict[index] = {'firstName': n, 'Gender': gender} #assign gender to the name in a dict\n",
    "        index += 1\n",
    "    \n",
    "    for m in tqdm(uniqueNamesOther): #loop through other names that is also in the presenter df\n",
    "        nameTable = otherNames[otherNames.Name == m].groupby('gender').mean(numeric_only = True) #table with the name - mean of wgt\n",
    "        genderIndex = nameTable.wgt.argmax() #index of gender with higest average probability\n",
    "        gender = nameTable.iloc[genderIndex].name\n",
    "        nameDict[index] = {'firstName': m, 'Gender': gender} #assign gender to the name in a dict\n",
    "        index += 1\n",
    "    \n",
    "    return nameDict"
   ]
  },
  {
   "cell_type": "code",
   "execution_count": 9,
   "id": "040cb7e8",
   "metadata": {},
   "outputs": [],
   "source": [
    "def getFirstName(name):\n",
    "    firstName = name.split()[0]\n",
    "    \n",
    "    return firstName"
   ]
  },
  {
   "cell_type": "code",
   "execution_count": 10,
   "id": "00f629f9",
   "metadata": {},
   "outputs": [],
   "source": [
    "errorResearchers_df['FirstName'] = errorResearchers_df.apply(lambda x: getFirstName(x.SearchName), axis = 1)"
   ]
  },
  {
   "cell_type": "code",
   "execution_count": 11,
   "id": "8340fb42",
   "metadata": {},
   "outputs": [
    {
     "name": "stderr",
     "output_type": "stream",
     "text": [
      "100%|██████████████████████████████████████| 2849/2849 [00:15<00:00, 182.43it/s]\n",
      "100%|█████████████████████████████████████████| 933/933 [02:22<00:00,  6.55it/s]\n"
     ]
    }
   ],
   "source": [
    "genderDict = assignGender(errorResearchers_df,'FirstName')"
   ]
  },
  {
   "cell_type": "code",
   "execution_count": 12,
   "id": "f3f848fc",
   "metadata": {},
   "outputs": [],
   "source": [
    "#dataframe witht the gender and name\n",
    "genderAssign = pd.DataFrame.from_dict(genderDict, orient = 'index')"
   ]
  },
  {
   "cell_type": "markdown",
   "id": "bcbaaca5",
   "metadata": {},
   "source": [
    "Now we are merging genderAssign and errorResearchers_df. This will automatically add the gender to names to the researchers. "
   ]
  },
  {
   "cell_type": "code",
   "execution_count": 13,
   "id": "eaeb4161",
   "metadata": {},
   "outputs": [],
   "source": [
    "#merge error researcher df with gender df\n",
    "errorResearchers_wGender_df = errorResearchers_df.merge(genderAssign, how = 'left', left_on = 'FirstName', right_on = 'firstName').drop('firstName', axis = 1)"
   ]
  },
  {
   "cell_type": "code",
   "execution_count": 14,
   "id": "a23bae94",
   "metadata": {},
   "outputs": [],
   "source": [
    "#remove names with gender assigned to NaN\n",
    "errorResearchers_wGender = errorResearchers_wGender_df[~errorResearchers_wGender_df.Gender.isna()]"
   ]
  },
  {
   "cell_type": "code",
   "execution_count": 15,
   "id": "9230533c",
   "metadata": {},
   "outputs": [],
   "source": [
    "noGenderEstimation = len(errorResearchers_wGender_df[errorResearchers_wGender_df.Gender.isna()].SearchName.unique())\n",
    "unknownGender = len(errorResearchers_wGender[errorResearchers_wGender.Gender == '?'].SearchName.unique())\n",
    "genderAssigned = len(errorResearchers_wGender[(errorResearchers_wGender.Gender == 'F') | (errorResearchers_wGender.Gender == 'M')].SearchName.unique()) \n",
    "deletedOrUnestimated = len(errorResearchers.SearchName.unique()) - (unknownGender + genderAssigned)"
   ]
  },
  {
   "cell_type": "code",
   "execution_count": 16,
   "id": "e17536da",
   "metadata": {},
   "outputs": [
    {
     "name": "stdout",
     "output_type": "stream",
     "text": [
      "Number of unique names with no gender estimated(assigned to NaN): 2227\n",
      "Number of unique names assigned to ? as gender: 194\n",
      "Number of unique names assigned to gender 7976\n",
      "Number of researchers, that were either deleted or not possible to estimate gender of: 4840\n",
      "Share of researchers that were either deleted or not possible to estimate gender of: 0.025735782841039\n",
      "Share of researchers with estimated gender: 0.043442426820514184\n"
     ]
    }
   ],
   "source": [
    "print(\"Number of unique names with no gender estimated(assigned to NaN):\", noGenderEstimation)\n",
    "print(\"Number of unique names assigned to ? as gender:\", unknownGender)\n",
    "print(\"Number of unique names assigned to gender\", genderAssigned)\n",
    "\n",
    "print(\"Number of researchers, that were either deleted or not possible to estimate gender of:\", deletedOrUnestimated)\n",
    "print(\"Share of researchers that were either deleted or not possible to estimate gender of:\", (deletedOrUnestimated)/len(researcher_db))\n",
    "print(\"Share of researchers with estimated gender:\", (unknownGender + genderAssigned)/len(researcher_db))"
   ]
  },
  {
   "cell_type": "code",
   "execution_count": 17,
   "id": "3d5bc13c",
   "metadata": {},
   "outputs": [],
   "source": [
    "errorResearchers_wGender.to_pickle(\"Files/Dataframes/ResearchersNotFound_wGender.pkl\") "
   ]
  }
 ],
 "metadata": {
  "kernelspec": {
   "display_name": "Python 3 (ipykernel)",
   "language": "python",
   "name": "python3"
  },
  "language_info": {
   "codemirror_mode": {
    "name": "ipython",
    "version": 3
   },
   "file_extension": ".py",
   "mimetype": "text/x-python",
   "name": "python",
   "nbconvert_exporter": "python",
   "pygments_lexer": "ipython3",
   "version": "3.9.13"
  }
 },
 "nbformat": 4,
 "nbformat_minor": 5
}
