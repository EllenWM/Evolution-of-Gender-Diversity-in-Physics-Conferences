{
 "cells": [
  {
   "cell_type": "code",
   "execution_count": 1,
   "id": "f9e7b9af",
   "metadata": {},
   "outputs": [],
   "source": [
    "import pickle\n",
    "import pandas as pd\n",
    "import numpy as np\n",
    "import re\n",
    "import requests"
   ]
  },
  {
   "cell_type": "code",
   "execution_count": 2,
   "id": "0e2db20b",
   "metadata": {},
   "outputs": [],
   "source": [
    "researcher_df = pd.read_pickle(\"Files/Dataframes/researchers_all.pkl\").reset_index()"
   ]
  },
  {
   "cell_type": "code",
   "execution_count": 3,
   "id": "2ee4fd28",
   "metadata": {},
   "outputs": [],
   "source": [
    "#add space after dot\n",
    "researcher_df['Name'] = researcher_df.Name.str.replace(r'(?<=[.])(?=[^\\s])', r' ', regex = True)"
   ]
  },
  {
   "cell_type": "code",
   "execution_count": 4,
   "id": "15ddae88",
   "metadata": {},
   "outputs": [],
   "source": [
    "#adding column with name as lowercase\n",
    "researcher_df['LowerCaseName'] = researcher_df.Name.str.lower()"
   ]
  },
  {
   "cell_type": "markdown",
   "id": "74142106",
   "metadata": {},
   "source": [
    "We are now removing data before 2005."
   ]
  },
  {
   "cell_type": "code",
   "execution_count": 5,
   "id": "ecf29fe2",
   "metadata": {},
   "outputs": [],
   "source": [
    "researchers_2005 = researcher_df[researcher_df.Year >= 2005]"
   ]
  },
  {
   "cell_type": "code",
   "execution_count": 6,
   "id": "d57bf89e",
   "metadata": {},
   "outputs": [],
   "source": [
    "#create and save dict with ID and name of researcher\n",
    "ID = np.arange(0,len(researchers_2005.LowerCaseName.unique())) #id of 0 to length of unique names\n",
    "researcher_db = dict(zip(ID, researchers_2005.LowerCaseName.unique())) #dict with researcher name(lowercase) and ID\n",
    "\n",
    "#save researcherDB as pickle\n",
    "with open('Files/Dictionary/researcherDB.pkl', 'wb') as f:\n",
    "    pickle.dump(researcher_db, f)"
   ]
  },
  {
   "cell_type": "code",
   "execution_count": 7,
   "id": "d2e978e0",
   "metadata": {},
   "outputs": [],
   "source": [
    "researcherDB = pd.DataFrame.from_dict(researcher_db,orient='index').reset_index().rename(columns={'index': 'ID', 0: 'LowerCaseName'})"
   ]
  },
  {
   "cell_type": "code",
   "execution_count": 8,
   "id": "409453c4",
   "metadata": {},
   "outputs": [],
   "source": [
    "#merge researcherDB with df_researchers\n",
    "researchers = researchers_2005.merge(researcherDB, how='inner', on='LowerCaseName').drop('index', axis = 1)"
   ]
  },
  {
   "cell_type": "code",
   "execution_count": 9,
   "id": "8a85c6ae",
   "metadata": {},
   "outputs": [],
   "source": [
    "#save researchers as researchers_allFrom2005\n",
    "researchers.to_pickle(\"Files/Dataframes/researchers_allFrom2005.pkl\")"
   ]
  }
 ],
 "metadata": {
  "kernelspec": {
   "display_name": "Python 3 (ipykernel)",
   "language": "python",
   "name": "python3"
  },
  "language_info": {
   "codemirror_mode": {
    "name": "ipython",
    "version": 3
   },
   "file_extension": ".py",
   "mimetype": "text/x-python",
   "name": "python",
   "nbconvert_exporter": "python",
   "pygments_lexer": "ipython3",
   "version": "3.9.13"
  }
 },
 "nbformat": 4,
 "nbformat_minor": 5
}
